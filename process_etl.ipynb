{
 "cells": [
  {
   "cell_type": "code",
   "execution_count": 1,
   "metadata": {},
   "outputs": [
    {
     "name": "stdout",
     "output_type": "stream",
     "text": [
      "Requirement already satisfied: pandas in /Library/Frameworks/Python.framework/Versions/3.12/lib/python3.12/site-packages (from -r requirements.txt (line 1)) (2.2.2)\n",
      "Requirement already satisfied: sqlalchemy in /Library/Frameworks/Python.framework/Versions/3.12/lib/python3.12/site-packages (from -r requirements.txt (line 2)) (2.0.36)\n",
      "Requirement already satisfied: python-dotenv in /Library/Frameworks/Python.framework/Versions/3.12/lib/python3.12/site-packages (from -r requirements.txt (line 3)) (1.0.1)\n",
      "Requirement already satisfied: psycopg2 in /Library/Frameworks/Python.framework/Versions/3.12/lib/python3.12/site-packages (from -r requirements.txt (line 4)) (2.9.10)\n",
      "Requirement already satisfied: numpy>=1.26.0 in /Library/Frameworks/Python.framework/Versions/3.12/lib/python3.12/site-packages (from pandas->-r requirements.txt (line 1)) (1.26.4)\n",
      "Requirement already satisfied: python-dateutil>=2.8.2 in /Library/Frameworks/Python.framework/Versions/3.12/lib/python3.12/site-packages (from pandas->-r requirements.txt (line 1)) (2.9.0.post0)\n",
      "Requirement already satisfied: pytz>=2020.1 in /Library/Frameworks/Python.framework/Versions/3.12/lib/python3.12/site-packages (from pandas->-r requirements.txt (line 1)) (2024.1)\n",
      "Requirement already satisfied: tzdata>=2022.7 in /Library/Frameworks/Python.framework/Versions/3.12/lib/python3.12/site-packages (from pandas->-r requirements.txt (line 1)) (2024.1)\n",
      "Requirement already satisfied: typing-extensions>=4.6.0 in /Library/Frameworks/Python.framework/Versions/3.12/lib/python3.12/site-packages (from sqlalchemy->-r requirements.txt (line 2)) (4.12.2)\n",
      "Requirement already satisfied: greenlet!=0.4.17 in /Library/Frameworks/Python.framework/Versions/3.12/lib/python3.12/site-packages (from sqlalchemy->-r requirements.txt (line 2)) (3.1.1)\n",
      "Requirement already satisfied: six>=1.5 in /Library/Frameworks/Python.framework/Versions/3.12/lib/python3.12/site-packages (from python-dateutil>=2.8.2->pandas->-r requirements.txt (line 1)) (1.16.0)\n"
     ]
    }
   ],
   "source": [
    "#librerias\n",
    "#!pip install -r requirements.txt #si se usa python2\n",
    "#si se usa python 3\n",
    "!python3 -m pip install -r requirements.txt\n",
    "#!python -m pip install -r requirements.txt #correr pyhon3 si no tiene instalado el 2.7"
   ]
  },
  {
   "cell_type": "code",
   "execution_count": 2,
   "metadata": {},
   "outputs": [],
   "source": [
    "#Importar la conexiones a las bases de datos \n",
    "from connection_script import connect_databases\n"
   ]
  },
  {
   "cell_type": "code",
   "execution_count": 10,
   "metadata": {},
   "outputs": [],
   "source": [
    "# Prueba de conexion a la base de datos\n",
    "#!python3 test_bd.py\n"
   ]
  },
  {
   "cell_type": "code",
   "execution_count": 3,
   "metadata": {},
   "outputs": [
    {
     "name": "stdout",
     "output_type": "stream",
     "text": [
      "Departamento 4 insertado correctamente.\n",
      "Departamento 3 insertado correctamente.\n",
      "Departamento 2 insertado correctamente.\n",
      "Departamento 1 insertado correctamente.\n",
      "Registros en la base de datos 'etl_rapidos_furiosos':\n",
      "   ID Departamento Nombre Departamento\n",
      "0                1     VALLE DEL CAUCA\n",
      "1                2        CUNDINAMARCA\n",
      "2                3               CAUCA\n",
      "3                4              NARIÑO\n"
     ]
    }
   ],
   "source": [
    "#Ejecutar ETL Departamento \n",
    "!python3 DimDepartamento.py\n"
   ]
  },
  {
   "cell_type": "code",
   "execution_count": 4,
   "metadata": {},
   "outputs": [
    {
     "name": "stdout",
     "output_type": "stream",
     "text": [
      "Registros en la base de datos 'etl_rapidos_furiosos' (ciudades):\n",
      "    ID Ciudad  Nombre Ciudad  ID Departamento\n",
      "0           1           CALI                1\n",
      "1           2        PALMIRA                1\n",
      "2           3        POPAYAN                3\n",
      "3           4          PASTO                4\n",
      "4           5         BOGOTA                2\n",
      "5           6           BUGA                1\n",
      "6           7          TULUA                1\n",
      "7           8          YUMBO                1\n",
      "8           9        JAMUNDI                1\n",
      "9          10        GUACARI                1\n",
      "10         11     CANDELARIA                1\n",
      "11         12        CARTAGO                1\n",
      "12         13    ACOPI YUMBO                1\n",
      "13         14   CENCAR YUMBO                1\n",
      "14         15         ZARZAL                1\n",
      "15         16     VILLA RICA                3\n",
      "16         17        FLORIDA                1\n",
      "17         18        PRADERA                1\n",
      "18         19  CALIMA DARIEN                1\n"
     ]
    }
   ],
   "source": [
    "#Ejecutar ETL Ciudades \n",
    "!python3 DimCiudades.py"
   ]
  },
  {
   "cell_type": "code",
   "execution_count": 5,
   "metadata": {},
   "outputs": [
    {
     "name": "stdout",
     "output_type": "stream",
     "text": [
      "Tipo de cliente 1 insertado correctamente.\n",
      "Tipo de cliente 2 insertado correctamente.\n",
      "Registros en la base de datos 'etl_rapidos_furiosos' (tipo_cliente):\n",
      "   ID Tipo Cliente            Nombre Descripción\n",
      "0                1  Persona Juridica         NaN\n",
      "1                2   Persona Natural         NaN\n"
     ]
    }
   ],
   "source": [
    "#Ejecutar ETL Tipo Cliente \n",
    "!python3 DimTipoCliente.py"
   ]
  },
  {
   "cell_type": "code",
   "execution_count": 6,
   "metadata": {},
   "outputs": [
    {
     "name": "stdout",
     "output_type": "stream",
     "text": [
      "Cliente 1 insertado correctamente.\n",
      "Cliente 2 insertado correctamente.\n",
      "Cliente 6 insertado correctamente.\n",
      "Cliente 19 insertado correctamente.\n",
      "Cliente 8 insertado correctamente.\n",
      "Cliente 3 insertado correctamente.\n",
      "Cliente 4 insertado correctamente.\n",
      "Cliente 5 insertado correctamente.\n",
      "Cliente 7 insertado correctamente.\n",
      "Cliente 9 insertado correctamente.\n",
      "Cliente 10 insertado correctamente.\n",
      "Cliente 11 insertado correctamente.\n",
      "Cliente 12 insertado correctamente.\n",
      "Cliente 13 insertado correctamente.\n",
      "Cliente 14 insertado correctamente.\n",
      "Cliente 15 insertado correctamente.\n",
      "Cliente 16 insertado correctamente.\n",
      "Cliente 17 insertado correctamente.\n",
      "Cliente 18 insertado correctamente.\n",
      "Cliente 20 insertado correctamente.\n",
      "Cliente 21 insertado correctamente.\n",
      "Cliente 22 insertado correctamente.\n",
      "Cliente 23 insertado correctamente.\n",
      "Cliente 24 insertado correctamente.\n",
      "Cliente 25 insertado correctamente.\n",
      "Cliente 26 insertado correctamente.\n",
      "Cliente 27 insertado correctamente.\n",
      "Registros en la base de datos 'etl_rapidos_furiosos' (cliente):\n",
      "    ID Cliente  ... ID Ciudad\n",
      "0            1  ...         1\n",
      "1            2  ...         1\n",
      "2            3  ...         1\n",
      "3            4  ...         1\n",
      "4            5  ...         1\n",
      "5            6  ...         1\n",
      "6            7  ...         1\n",
      "7            8  ...         1\n",
      "8            9  ...         1\n",
      "9           10  ...         1\n",
      "10          11  ...         1\n",
      "11          12  ...         1\n",
      "12          13  ...         1\n",
      "13          14  ...         1\n",
      "14          15  ...         1\n",
      "15          16  ...         1\n",
      "16          17  ...         1\n",
      "17          18  ...         1\n",
      "18          19  ...         1\n",
      "19          20  ...         8\n",
      "20          21  ...         1\n",
      "21          22  ...         1\n",
      "22          23  ...         1\n",
      "23          24  ...         1\n",
      "24          25  ...         1\n",
      "25          26  ...         1\n",
      "26          27  ...         1\n",
      "\n",
      "[27 rows x 4 columns]\n"
     ]
    }
   ],
   "source": [
    "#Ejecutar ETL Clientes \n",
    "!python3 DimCliente.py"
   ]
  },
  {
   "cell_type": "code",
   "execution_count": 8,
   "metadata": {},
   "outputs": [
    {
     "name": "stdout",
     "output_type": "stream",
     "text": [
      "Tipo de vehículo 3 insertado correctamente.\n",
      "Tipo de vehículo 4 insertado correctamente.\n",
      "Tipo de vehículo 2 insertado correctamente.\n",
      "Tipo de vehículo 1 insertado correctamente.\n",
      "Registros en la base de datos 'etl_rapidos_furiosos' (tipo_vehiculo):\n",
      "   ID Tipo Vehículo            Nombre       Descripción\n",
      "0                 1  Automóvil - Vans  Automóvil - Vans\n",
      "1                 2              Moto              Moto\n",
      "2                 3     Moto carguero     Moto carguero\n",
      "3                 4         Camioneta         Camioneta\n"
     ]
    }
   ],
   "source": [
    "#Ejecutar ETL Tipo Vehiculo \n",
    "!python3 DimTipoVehiculo.py"
   ]
  },
  {
   "cell_type": "code",
   "execution_count": 10,
   "metadata": {},
   "outputs": [
    {
     "name": "stdout",
     "output_type": "stream",
     "text": [
      "Tipo de pago 1 insertado correctamente.\n",
      "Tipo de pago 2 insertado correctamente.\n",
      "Tipo de pago 3 insertado correctamente.\n",
      "Tipo de pago 4 insertado correctamente.\n",
      "Tipo de pago 5 insertado correctamente.\n",
      "Tipo de pago 6 insertado correctamente.\n",
      "Tipo de pago 7 insertado correctamente.\n",
      "Registros en la base de datos 'etl_rapidos_furiosos' (tipo_pago):\n",
      "   ID Tipo Pago               Nombre     Descripción\n",
      "0             1             Efectivo        Efectivo\n",
      "1             2              Crédito         Crédito\n",
      "2             3             Datáfono        Datáfono\n",
      "3             4       Recibo de caja  Recibo de caja\n",
      "4             5             Traslado        Traslado\n",
      "5             6             convenio        convenio\n",
      "6             7  Compra de repuestos         Compras\n"
     ]
    }
   ],
   "source": [
    "#Ejecutar ETL Tipo Pago \n",
    "!python3 DimTipoPago.py"
   ]
  },
  {
   "cell_type": "code",
   "execution_count": 15,
   "metadata": {},
   "outputs": [
    {
     "name": "stdout",
     "output_type": "stream",
     "text": [
      "La sede con ID 10 ya existe en etl_rapidos_furiosos, no se insertará.\n",
      "La sede con ID 11 ya existe en etl_rapidos_furiosos, no se insertará.\n",
      "La sede con ID 13 ya existe en etl_rapidos_furiosos, no se insertará.\n",
      "La sede con ID 14 ya existe en etl_rapidos_furiosos, no se insertará.\n",
      "La sede con ID 23 ya existe en etl_rapidos_furiosos, no se insertará.\n",
      "La sede con ID 24 ya existe en etl_rapidos_furiosos, no se insertará.\n",
      "La sede con ID 25 ya existe en etl_rapidos_furiosos, no se insertará.\n",
      "La sede con ID 26 ya existe en etl_rapidos_furiosos, no se insertará.\n",
      "La sede con ID 32 ya existe en etl_rapidos_furiosos, no se insertará.\n",
      "La sede con ID 33 ya existe en etl_rapidos_furiosos, no se insertará.\n",
      "La sede con ID 35 ya existe en etl_rapidos_furiosos, no se insertará.\n",
      "La sede con ID 46 ya existe en etl_rapidos_furiosos, no se insertará.\n",
      "La sede con ID 44 ya existe en etl_rapidos_furiosos, no se insertará.\n",
      "La sede con ID 45 ya existe en etl_rapidos_furiosos, no se insertará.\n",
      "La sede con ID 1 ya existe en etl_rapidos_furiosos, no se insertará.\n",
      "La sede con ID 2 ya existe en etl_rapidos_furiosos, no se insertará.\n",
      "La sede con ID 5 ya existe en etl_rapidos_furiosos, no se insertará.\n",
      "La sede con ID 7 ya existe en etl_rapidos_furiosos, no se insertará.\n",
      "La sede con ID 9 ya existe en etl_rapidos_furiosos, no se insertará.\n",
      "La sede con ID 8 ya existe en etl_rapidos_furiosos, no se insertará.\n",
      "La sede con ID 48 ya existe en etl_rapidos_furiosos, no se insertará.\n",
      "La sede con ID 28 ya existe en etl_rapidos_furiosos, no se insertará.\n",
      "La sede con ID 49 ya existe en etl_rapidos_furiosos, no se insertará.\n",
      "La sede con ID 40 ya existe en etl_rapidos_furiosos, no se insertará.\n",
      "La sede con ID 6 ya existe en etl_rapidos_furiosos, no se insertará.\n",
      "La sede con ID 41 ya existe en etl_rapidos_furiosos, no se insertará.\n",
      "La sede con ID 42 ya existe en etl_rapidos_furiosos, no se insertará.\n",
      "La sede con ID 15 ya existe en etl_rapidos_furiosos, no se insertará.\n",
      "La sede con ID 16 ya existe en etl_rapidos_furiosos, no se insertará.\n",
      "La sede con ID 17 ya existe en etl_rapidos_furiosos, no se insertará.\n",
      "La sede con ID 18 ya existe en etl_rapidos_furiosos, no se insertará.\n",
      "La sede con ID 19 ya existe en etl_rapidos_furiosos, no se insertará.\n",
      "La sede con ID 20 ya existe en etl_rapidos_furiosos, no se insertará.\n",
      "La sede con ID 21 ya existe en etl_rapidos_furiosos, no se insertará.\n",
      "La sede con ID 22 ya existe en etl_rapidos_furiosos, no se insertará.\n",
      "La sede con ID 29 ya existe en etl_rapidos_furiosos, no se insertará.\n",
      "La sede con ID 34 ya existe en etl_rapidos_furiosos, no se insertará.\n",
      "La sede con ID 36 ya existe en etl_rapidos_furiosos, no se insertará.\n",
      "La sede con ID 37 ya existe en etl_rapidos_furiosos, no se insertará.\n",
      "La sede con ID 47 ya existe en etl_rapidos_furiosos, no se insertará.\n",
      "La sede con ID 51 ya existe en etl_rapidos_furiosos, no se insertará.\n",
      "La sede con ID 30 ya existe en etl_rapidos_furiosos, no se insertará.\n",
      "La sede con ID 50 ya existe en etl_rapidos_furiosos, no se insertará.\n",
      "La sede con ID 38 ya existe en etl_rapidos_furiosos, no se insertará.\n",
      "La sede con ID 31 ya existe en etl_rapidos_furiosos, no se insertará.\n",
      "La sede con ID 52 ya existe en etl_rapidos_furiosos, no se insertará.\n",
      "La sede con ID 53 ya existe en etl_rapidos_furiosos, no se insertará.\n",
      "La sede con ID 54 ya existe en etl_rapidos_furiosos, no se insertará.\n",
      "La sede con ID 85 ya existe en etl_rapidos_furiosos, no se insertará.\n",
      "La sede con ID 3 ya existe en etl_rapidos_furiosos, no se insertará.\n",
      "La sede con ID 4 ya existe en etl_rapidos_furiosos, no se insertará.\n",
      "La sede con ID 12 ya existe en etl_rapidos_furiosos, no se insertará.\n",
      "Registros en la base de datos 'etl_rapidos_furiosos' (sedes):\n",
      "    ID Sede                       Nombre Sede  ID Ciudad\n",
      "0         1         Sede principal - Cliente1          1\n",
      "1         2              sede aux - cliente 1          1\n",
      "2         3               TORRES DE MARACAIBO          1\n",
      "3         4                           INGENIO          1\n",
      "4         5                      VASQUEZ COBO          1\n",
      "5         6                         CAPITOLIO          1\n",
      "6         7                     VILLACOLOMBIA          1\n",
      "7         8             PRINCIPAL / OCCIDENTE          1\n",
      "8         9                 PRINCIPAL/ ESENSA          1\n",
      "9        10                   FARALLONES /123          1\n",
      "10       11                     REMEDIOZ/ 123          1\n",
      "11       12            PALMA REAL / LOS ROJOS          2\n",
      "12       13                  DIME / LOS ROJOS          1\n",
      "13       14             DESPACHOS / LOS ROJOS          1\n",
      "14       15  PRINCIPAL NORTE / CHINA PACIFICO          1\n",
      "15       16       MEGATALLER / CHINA PACIFICO          1\n",
      "16       17                BUSES Y CAMIONES -          1\n",
      "17       18                            FORCAS          1\n",
      "18       19                         HYUNDAI /          1\n",
      "19       20                FORD CAÑAS FLASCAS          1\n",
      "20       21                    BUGA BODEGA 24          6\n",
      "21       22                 TULUA BODEGA 26 /          7\n",
      "22       23             POPAYAN BODEGA 28 / A          3\n",
      "23       24                  PASTO VITRINA /           4\n",
      "24       25                  PASTO BODEGA 29/          4\n",
      "25       26            PALMIRA BODEGA 20  /            2\n",
      "26       28             CONTRIBUTIVO / ESENSA          1\n",
      "27       29          PROVIDA ATENCION BASICA           1\n",
      "28       30                 RIOCAUCA / ESENSA          1\n",
      "29       31                        CRISTO REY          1\n",
      "30       32                   CLINICA FABILUX          1\n",
      "31       33                FORDES PASOANCHOS           1\n",
      "32       34                         AUTOPISTA          1\n",
      "33       35                            JMC /           1\n",
      "34       36                     PRINCIPAL /14          1\n",
      "35       37                             HEMAS          1\n",
      "36       38                          HEMOLIFE          1\n",
      "37       40                    TRAUMA ORIENTE          1\n",
      "38       41                         ARTMEDICA          1\n",
      "39       42                      CLINICA CALI          1\n",
      "40       44                       VALLE NORTE          1\n",
      "41       45                          CAMBULOS          1\n",
      "42       46                     SAN BER NANDO          1\n",
      "43       47                      CLINICA CALI          1\n",
      "44       48              BATALLON DISPENSARIO          1\n",
      "45       49                         OCCISALUD          1\n",
      "46       50                         RECUPERAR          1\n",
      "47       51                         CLUB NOEL          1\n",
      "48       52                      NUEVA HEMATO          1\n",
      "49       53                      NUEVA HEMATO          1\n",
      "50       54                      NUEVA HEMATO          1\n",
      "51       85                             CIMEX          1\n"
     ]
    }
   ],
   "source": [
    "#Ejecutar ETL Sedes \n",
    "!python3 DimSedes.py"
   ]
  },
  {
   "cell_type": "code",
   "execution_count": null,
   "metadata": {},
   "outputs": [],
   "source": []
  }
 ],
 "metadata": {
  "kernelspec": {
   "display_name": "Python 3",
   "language": "python",
   "name": "myenv"
  },
  "language_info": {
   "codemirror_mode": {
    "name": "ipython",
    "version": 3
   },
   "file_extension": ".py",
   "mimetype": "text/x-python",
   "name": "python",
   "nbconvert_exporter": "python",
   "pygments_lexer": "ipython3",
   "version": "3.12.3"
  }
 },
 "nbformat": 4,
 "nbformat_minor": 2
}
