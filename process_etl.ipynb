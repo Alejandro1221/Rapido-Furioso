{
 "cells": [
  {
   "cell_type": "code",
   "execution_count": 1,
   "metadata": {},
   "outputs": [
    {
     "name": "stdout",
     "output_type": "stream",
     "text": [
      "Requirement already satisfied: pandas in /Library/Frameworks/Python.framework/Versions/3.12/lib/python3.12/site-packages (from -r requirements.txt (line 1)) (2.2.2)\n",
      "Requirement already satisfied: sqlalchemy in /Library/Frameworks/Python.framework/Versions/3.12/lib/python3.12/site-packages (from -r requirements.txt (line 2)) (2.0.36)\n",
      "Requirement already satisfied: python-dotenv in /Library/Frameworks/Python.framework/Versions/3.12/lib/python3.12/site-packages (from -r requirements.txt (line 3)) (1.0.1)\n",
      "Requirement already satisfied: psycopg2 in /Library/Frameworks/Python.framework/Versions/3.12/lib/python3.12/site-packages (from -r requirements.txt (line 4)) (2.9.10)\n",
      "Requirement already satisfied: numpy>=1.26.0 in /Library/Frameworks/Python.framework/Versions/3.12/lib/python3.12/site-packages (from pandas->-r requirements.txt (line 1)) (1.26.4)\n",
      "Requirement already satisfied: python-dateutil>=2.8.2 in /Library/Frameworks/Python.framework/Versions/3.12/lib/python3.12/site-packages (from pandas->-r requirements.txt (line 1)) (2.9.0.post0)\n",
      "Requirement already satisfied: pytz>=2020.1 in /Library/Frameworks/Python.framework/Versions/3.12/lib/python3.12/site-packages (from pandas->-r requirements.txt (line 1)) (2024.1)\n",
      "Requirement already satisfied: tzdata>=2022.7 in /Library/Frameworks/Python.framework/Versions/3.12/lib/python3.12/site-packages (from pandas->-r requirements.txt (line 1)) (2024.1)\n",
      "Requirement already satisfied: typing-extensions>=4.6.0 in /Library/Frameworks/Python.framework/Versions/3.12/lib/python3.12/site-packages (from sqlalchemy->-r requirements.txt (line 2)) (4.12.2)\n",
      "Requirement already satisfied: greenlet!=0.4.17 in /Library/Frameworks/Python.framework/Versions/3.12/lib/python3.12/site-packages (from sqlalchemy->-r requirements.txt (line 2)) (3.1.1)\n",
      "Requirement already satisfied: six>=1.5 in /Library/Frameworks/Python.framework/Versions/3.12/lib/python3.12/site-packages (from python-dateutil>=2.8.2->pandas->-r requirements.txt (line 1)) (1.16.0)\n"
     ]
    }
   ],
   "source": [
    "#librerias\n",
    "#!pip install -r requirements.txt #si se usa python2\n",
    "#si se usa python 3\n",
    "!python3 -m pip install -r requirements.txt\n",
    "#!python -m pip install -r requirements.txt #correr pyhon3 si no tiene instalado el 2.7"
   ]
  },
  {
   "cell_type": "code",
   "execution_count": 2,
   "metadata": {},
   "outputs": [],
   "source": [
    "#Importar la conexiones a las bases de datos \n",
    "from connection_script import connect_databases\n"
   ]
  },
  {
   "cell_type": "code",
   "execution_count": 10,
   "metadata": {},
   "outputs": [],
   "source": [
    "# Prueba de conexion a la base de datos\n",
    "#!python3 test_bd.py\n"
   ]
  },
  {
   "cell_type": "code",
   "execution_count": 3,
   "metadata": {},
   "outputs": [
    {
     "name": "stdout",
     "output_type": "stream",
     "text": [
      "Departamento 4 insertado correctamente.\n",
      "Departamento 3 insertado correctamente.\n",
      "Departamento 2 insertado correctamente.\n",
      "Departamento 1 insertado correctamente.\n",
      "Registros en la base de datos 'etl_rapidos_furiosos':\n",
      "   ID Departamento Nombre Departamento\n",
      "0                1     VALLE DEL CAUCA\n",
      "1                2        CUNDINAMARCA\n",
      "2                3               CAUCA\n",
      "3                4              NARIÑO\n"
     ]
    }
   ],
   "source": [
    "#Ejecutar ETL Departamento \n",
    "!python3 DimDepartamento.py\n"
   ]
  },
  {
   "cell_type": "code",
   "execution_count": 4,
   "metadata": {},
   "outputs": [
    {
     "name": "stdout",
     "output_type": "stream",
     "text": [
      "Registros en la base de datos 'etl_rapidos_furiosos' (ciudades):\n",
      "    ID Ciudad  Nombre Ciudad  ID Departamento\n",
      "0           1           CALI                1\n",
      "1           2        PALMIRA                1\n",
      "2           3        POPAYAN                3\n",
      "3           4          PASTO                4\n",
      "4           5         BOGOTA                2\n",
      "5           6           BUGA                1\n",
      "6           7          TULUA                1\n",
      "7           8          YUMBO                1\n",
      "8           9        JAMUNDI                1\n",
      "9          10        GUACARI                1\n",
      "10         11     CANDELARIA                1\n",
      "11         12        CARTAGO                1\n",
      "12         13    ACOPI YUMBO                1\n",
      "13         14   CENCAR YUMBO                1\n",
      "14         15         ZARZAL                1\n",
      "15         16     VILLA RICA                3\n",
      "16         17        FLORIDA                1\n",
      "17         18        PRADERA                1\n",
      "18         19  CALIMA DARIEN                1\n"
     ]
    }
   ],
   "source": [
    "#Ejecutar ETL Ciudades \n",
    "!python3 DimCiudades.py"
   ]
  },
  {
   "cell_type": "code",
   "execution_count": 5,
   "metadata": {},
   "outputs": [
    {
     "name": "stdout",
     "output_type": "stream",
     "text": [
      "Tipo de cliente 1 insertado correctamente.\n",
      "Tipo de cliente 2 insertado correctamente.\n",
      "Registros en la base de datos 'etl_rapidos_furiosos' (tipo_cliente):\n",
      "   ID Tipo Cliente            Nombre Descripción\n",
      "0                1  Persona Juridica         NaN\n",
      "1                2   Persona Natural         NaN\n"
     ]
    }
   ],
   "source": [
    "#Ejecutar ETL Tipo Cliente \n",
    "!python3 DimTipoCliente.py"
   ]
  },
  {
   "cell_type": "code",
   "execution_count": 6,
   "metadata": {},
   "outputs": [
    {
     "name": "stdout",
     "output_type": "stream",
     "text": [
      "Cliente 1 insertado correctamente.\n",
      "Cliente 2 insertado correctamente.\n",
      "Cliente 6 insertado correctamente.\n",
      "Cliente 19 insertado correctamente.\n",
      "Cliente 8 insertado correctamente.\n",
      "Cliente 3 insertado correctamente.\n",
      "Cliente 4 insertado correctamente.\n",
      "Cliente 5 insertado correctamente.\n",
      "Cliente 7 insertado correctamente.\n",
      "Cliente 9 insertado correctamente.\n",
      "Cliente 10 insertado correctamente.\n",
      "Cliente 11 insertado correctamente.\n",
      "Cliente 12 insertado correctamente.\n",
      "Cliente 13 insertado correctamente.\n",
      "Cliente 14 insertado correctamente.\n",
      "Cliente 15 insertado correctamente.\n",
      "Cliente 16 insertado correctamente.\n",
      "Cliente 17 insertado correctamente.\n",
      "Cliente 18 insertado correctamente.\n",
      "Cliente 20 insertado correctamente.\n",
      "Cliente 21 insertado correctamente.\n",
      "Cliente 22 insertado correctamente.\n",
      "Cliente 23 insertado correctamente.\n",
      "Cliente 24 insertado correctamente.\n",
      "Cliente 25 insertado correctamente.\n",
      "Cliente 26 insertado correctamente.\n",
      "Cliente 27 insertado correctamente.\n",
      "Registros en la base de datos 'etl_rapidos_furiosos' (cliente):\n",
      "    ID Cliente  ... ID Ciudad\n",
      "0            1  ...         1\n",
      "1            2  ...         1\n",
      "2            3  ...         1\n",
      "3            4  ...         1\n",
      "4            5  ...         1\n",
      "5            6  ...         1\n",
      "6            7  ...         1\n",
      "7            8  ...         1\n",
      "8            9  ...         1\n",
      "9           10  ...         1\n",
      "10          11  ...         1\n",
      "11          12  ...         1\n",
      "12          13  ...         1\n",
      "13          14  ...         1\n",
      "14          15  ...         1\n",
      "15          16  ...         1\n",
      "16          17  ...         1\n",
      "17          18  ...         1\n",
      "18          19  ...         1\n",
      "19          20  ...         8\n",
      "20          21  ...         1\n",
      "21          22  ...         1\n",
      "22          23  ...         1\n",
      "23          24  ...         1\n",
      "24          25  ...         1\n",
      "25          26  ...         1\n",
      "26          27  ...         1\n",
      "\n",
      "[27 rows x 4 columns]\n"
     ]
    }
   ],
   "source": [
    "#Ejecutar ETL Clientes \n",
    "!python3 DimCliente.py"
   ]
  },
  {
   "cell_type": "code",
   "execution_count": null,
   "metadata": {},
   "outputs": [],
   "source": []
  }
 ],
 "metadata": {
  "kernelspec": {
   "display_name": "Python 3",
   "language": "python",
   "name": "myenv"
  },
  "language_info": {
   "codemirror_mode": {
    "name": "ipython",
    "version": 3
   },
   "file_extension": ".py",
   "mimetype": "text/x-python",
   "name": "python",
   "nbconvert_exporter": "python",
   "pygments_lexer": "ipython3",
   "version": "3.12.3"
  }
 },
 "nbformat": 4,
 "nbformat_minor": 2
}
