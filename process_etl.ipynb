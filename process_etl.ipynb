{
 "cells": [
  {
   "cell_type": "code",
   "execution_count": 15,
   "metadata": {},
   "outputs": [
    {
     "name": "stdout",
     "output_type": "stream",
     "text": [
      "\n",
      "Usage:   \n",
      "  /Library/Frameworks/Python.framework/Versions/3.12/bin/python3 -m pip install [options] <requirement specifier> [package-index-options] ...\n",
      "  /Library/Frameworks/Python.framework/Versions/3.12/bin/python3 -m pip install [options] -r <requirements file> [package-index-options] ...\n",
      "  /Library/Frameworks/Python.framework/Versions/3.12/bin/python3 -m pip install [options] [-e] <vcs project url> ...\n",
      "  /Library/Frameworks/Python.framework/Versions/3.12/bin/python3 -m pip install [options] [-e] <local project path> ...\n",
      "  /Library/Frameworks/Python.framework/Versions/3.12/bin/python3 -m pip install [options] <archive url/path> ...\n",
      "\n",
      "no such option: -m\n"
     ]
    }
   ],
   "source": [
    "#librerias\n",
    "#!pip install -r requirements.txt #si se usa python2\n",
    "#si se usa python 3\n",
    "!python3 -m pip install -r requirements.txt\n",
    "#!python -m pip install -r requirements.txt #correr pyhon3 si no tiene instalado el 2.7"
   ]
  },
  {
   "cell_type": "code",
   "execution_count": 9,
   "metadata": {},
   "outputs": [],
   "source": [
    "#Importar la conexiones a las bases de datos \n",
    "from connection_script import connect_databases\n"
   ]
  },
  {
   "cell_type": "code",
   "execution_count": 10,
   "metadata": {},
   "outputs": [],
   "source": [
    "# Prueba de conexion a la base de datos\n",
    "#!python3 test_bd.py\n"
   ]
  },
  {
   "cell_type": "code",
   "execution_count": 18,
   "metadata": {},
   "outputs": [
    {
     "name": "stdout",
     "output_type": "stream",
     "text": [
      "El departamento con ID 4 ya existe en etl_rapidos_furiosos, no se insertará.\n",
      "El departamento con ID 3 ya existe en etl_rapidos_furiosos, no se insertará.\n",
      "El departamento con ID 2 ya existe en etl_rapidos_furiosos, no se insertará.\n",
      "El departamento con ID 1 ya existe en etl_rapidos_furiosos, no se insertará.\n",
      "Registros en la base de datos 'etl_rapidos_furiosos':\n",
      "   ID Departamento Nombre Departamento\n",
      "0                1     VALLE DEL CAUCA\n",
      "1                2        CUNDINAMARCA\n",
      "2                3               CAUCA\n",
      "3                4              NARIÑO\n"
     ]
    }
   ],
   "source": [
    "#Ejecutar ETL Departamento \n",
    "!python3 DimDepartamento.py\n"
   ]
  },
  {
   "cell_type": "code",
   "execution_count": 21,
   "metadata": {},
   "outputs": [
    {
     "name": "stdout",
     "output_type": "stream",
     "text": [
      "La ciudad con ID 6 ya existe en etl_rapidos_furiosos, no se insertará.\n",
      "La ciudad con ID 5 ya existe en etl_rapidos_furiosos, no se insertará.\n",
      "La ciudad con ID 4 ya existe en etl_rapidos_furiosos, no se insertará.\n",
      "La ciudad con ID 3 ya existe en etl_rapidos_furiosos, no se insertará.\n",
      "La ciudad con ID 2 ya existe en etl_rapidos_furiosos, no se insertará.\n",
      "La ciudad con ID 1 ya existe en etl_rapidos_furiosos, no se insertará.\n",
      "La ciudad con ID 7 ya existe en etl_rapidos_furiosos, no se insertará.\n",
      "La ciudad con ID 10 ya existe en etl_rapidos_furiosos, no se insertará.\n",
      "La ciudad con ID 11 ya existe en etl_rapidos_furiosos, no se insertará.\n",
      "La ciudad con ID 12 ya existe en etl_rapidos_furiosos, no se insertará.\n",
      "La ciudad con ID 9 ya existe en etl_rapidos_furiosos, no se insertará.\n",
      "La ciudad con ID 8 ya existe en etl_rapidos_furiosos, no se insertará.\n",
      "La ciudad con ID 13 ya existe en etl_rapidos_furiosos, no se insertará.\n",
      "La ciudad con ID 14 ya existe en etl_rapidos_furiosos, no se insertará.\n",
      "La ciudad con ID 15 ya existe en etl_rapidos_furiosos, no se insertará.\n",
      "La ciudad con ID 16 ya existe en etl_rapidos_furiosos, no se insertará.\n",
      "La ciudad con ID 17 ya existe en etl_rapidos_furiosos, no se insertará.\n",
      "La ciudad con ID 18 ya existe en etl_rapidos_furiosos, no se insertará.\n",
      "La ciudad con ID 19 ya existe en etl_rapidos_furiosos, no se insertará.\n",
      "Registros en la base de datos 'etl_rapidos_furiosos' (ciudades):\n",
      "    ID Ciudad  Nombre Ciudad  ID Departamento\n",
      "0           1           CALI                1\n",
      "1           2        PALMIRA                1\n",
      "2           3        POPAYAN                3\n",
      "3           4          PASTO                4\n",
      "4           5         BOGOTA                2\n",
      "5           6           BUGA                1\n",
      "6           7          TULUA                1\n",
      "7           8          YUMBO                1\n",
      "8           9        JAMUNDI                1\n",
      "9          10        GUACARI                1\n",
      "10         11     CANDELARIA                1\n",
      "11         12        CARTAGO                1\n",
      "12         13    ACOPI YUMBO                1\n",
      "13         14   CENCAR YUMBO                1\n",
      "14         15         ZARZAL                1\n",
      "15         16     VILLA RICA                3\n",
      "16         17        FLORIDA                1\n",
      "17         18        PRADERA                1\n",
      "18         19  CALIMA DARIEN                1\n"
     ]
    }
   ],
   "source": [
    "#Ejecutar ETL Ciudades \n",
    "!python3 DimCiudades.py"
   ]
  },
  {
   "cell_type": "code",
   "execution_count": null,
   "metadata": {},
   "outputs": [],
   "source": []
  }
 ],
 "metadata": {
  "kernelspec": {
   "display_name": "Python 3",
   "language": "python",
   "name": "myenv"
  },
  "language_info": {
   "codemirror_mode": {
    "name": "ipython",
    "version": 3
   },
   "file_extension": ".py",
   "mimetype": "text/x-python",
   "name": "python",
   "nbconvert_exporter": "python",
   "pygments_lexer": "ipython3",
   "version": "3.12.3"
  }
 },
 "nbformat": 4,
 "nbformat_minor": 2
}
