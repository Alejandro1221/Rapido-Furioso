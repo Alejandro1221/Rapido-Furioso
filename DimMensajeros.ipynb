{
 "cells": [
  {
   "cell_type": "code",
   "execution_count": 5,
   "metadata": {},
   "outputs": [
    {
     "name": "stderr",
     "output_type": "stream",
     "text": [
      "python3: can't open file 'c:\\\\Users\\\\Usuario\\\\Desktop\\\\reps\\\\Rapido-Furioso\\\\pip': [Errno 2] No such file or directory\n"
     ]
    }
   ],
   "source": [
    "#librerias\n",
    "#%pip install -r requirements.txt\n",
    "!python3 pip install -r requirements.txt"
   ]
  },
  {
   "cell_type": "code",
   "execution_count": 6,
   "metadata": {},
   "outputs": [],
   "source": [
    "import pandas as pd\n",
    "from connection_script import engine_bodega, engine_etl"
   ]
  },
  {
   "cell_type": "markdown",
   "metadata": {},
   "source": [
    "EXTRAER DATOS:\n",
    "se extrae los las columnas neecesarias desde la tabla clientes_mensajeroaquitoy de la base de datos, y estos se cargan en un Dataframe"
   ]
  },
  {
   "cell_type": "code",
   "execution_count": 7,
   "metadata": {},
   "outputs": [],
   "source": [
    "query = \"\"\"\n",
    "    SELECT id,activo,telefono\n",
    "    FROM clientes_mensajeroaquitoy\n",
    "\"\"\"\n",
    "\n",
    "# Ejecutar la consulta y cargar los datos en un DataFrame de Pandas\n",
    "mensajeros_df = pd.read_sql(query, engine_bodega)\n"
   ]
  },
  {
   "cell_type": "markdown",
   "metadata": {},
   "source": [
    "Transformacion\n",
    "\n",
    "Cambios del nombre de la columna"
   ]
  },
  {
   "cell_type": "code",
   "execution_count": 8,
   "metadata": {},
   "outputs": [],
   "source": [
    "#transformar datos\n",
    "mensajeros_df[\"id_mensajero\"] = mensajeros_df[\"id\"]\n",
    "mensajeros_df[\"telefono_mensajero\"] = mensajeros_df[\"telefono\"]\n",
    "\n",
    "mensajeros_df.drop(columns=[\"id\", \"telefono\"], inplace=True)"
   ]
  },
  {
   "cell_type": "code",
   "execution_count": 9,
   "metadata": {},
   "outputs": [
    {
     "data": {
      "text/plain": [
       "0"
      ]
     },
     "execution_count": 9,
     "metadata": {},
     "output_type": "execute_result"
    }
   ],
   "source": [
    "#cargar para la base de datos\n",
    "# Verificar si ya existen registros con 'id_estado' en la base de datos ETL para evitar duplicados\n",
    "existing_ids_query = \"SELECT id_mensajero FROM mensajero\"\n",
    "existing_ids = pd.read_sql(existing_ids_query, engine_etl)\n",
    "\n",
    "# Filtrar los registros que ya existen en la base de datos ETL\n",
    "mensajeros_df = mensajeros_df[~mensajeros_df['id_mensajero'].isin(existing_ids['id_mensajero'])]\n",
    "\n",
    "# Cargar los datos transformados en la base de datos ETL\n",
    "mensajeros_df.to_sql('mensajero', con=engine_etl, if_exists=\"append\", index=False)"
   ]
  }
 ],
 "metadata": {
  "kernelspec": {
   "display_name": ".venv",
   "language": "python",
   "name": "python3"
  },
  "language_info": {
   "codemirror_mode": {
    "name": "ipython",
    "version": 3
   },
   "file_extension": ".py",
   "mimetype": "text/x-python",
   "name": "python",
   "nbconvert_exporter": "python",
   "pygments_lexer": "ipython3",
   "version": "3.12.7"
  }
 },
 "nbformat": 4,
 "nbformat_minor": 2
}
