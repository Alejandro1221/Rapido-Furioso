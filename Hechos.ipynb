{
 "cells": [
  {
   "cell_type": "raw",
   "metadata": {},
   "source": [
    "Implementar los diferentes Hechos del ETL para el analizar y procesamiento de los datos "
   ]
  },
  {
   "cell_type": "code",
   "execution_count": 4,
   "metadata": {},
   "outputs": [],
   "source": [
    "#Cargar data a la tabla de Hechos Servicios \n",
    "#!python HechoServicios.py"
   ]
  },
  {
   "cell_type": "markdown",
   "metadata": {},
   "source": [
    "Cargar los datos para los servicios con granularidad\n",
    "\n",
    "Granularidad: Servicio único\n",
    "Esta tabla registra un solo registro por cada servicio. Cada fila representa un servicio completo desde su solicitud hasta su finalización, sin detalles de cambios de estado intermedios."
   ]
  },
  {
   "cell_type": "code",
   "execution_count": 5,
   "metadata": {},
   "outputs": [
    {
     "name": "stdout",
     "output_type": "stream",
     "text": [
      "ETL completado exitosamente y datos cargados en la tabla 'mayor'.\n"
     ]
    }
   ],
   "source": [
    "#Cargar data a la tabla de Hechos Servicios \n",
    "!python3 HechoServicios1.py"
   ]
  },
  {
   "cell_type": "markdown",
   "metadata": {},
   "source": [
    "Cargar los datos para loa estados del servicio con granularidad \n",
    "\n",
    "Granularidad: Cambio de estado por servicio\n",
    "Cada registro en esta tabla representa un cambio de estado para un servicio específico, es decir, un nivel más detallado que permite ver la secuencia de estados que ha pasado cada servicio."
   ]
  },
  {
   "cell_type": "code",
   "execution_count": null,
   "metadata": {},
   "outputs": [],
   "source": [
    "#Cargar data a la tabla de Hechos Novedades\n",
    "!python3 HechosNovedades.py"
   ]
  }
 ],
 "metadata": {
  "kernelspec": {
   "display_name": "Python 3",
   "language": "python",
   "name": "myenv"
  },
  "language_info": {
   "codemirror_mode": {
    "name": "ipython",
    "version": 3
   },
   "file_extension": ".py",
   "mimetype": "text/x-python",
   "name": "python",
   "nbconvert_exporter": "python",
   "pygments_lexer": "ipython3",
   "version": "3.12.3"
  }
 },
 "nbformat": 4,
 "nbformat_minor": 2
}
