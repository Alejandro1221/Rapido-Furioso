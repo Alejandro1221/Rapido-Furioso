{
 "cells": [
  {
   "cell_type": "raw",
   "metadata": {},
   "source": [
    "Implementar los diferentes Hechos del ETL para el analizar y procesamiento de los datos "
   ]
  },
  {
   "cell_type": "code",
   "execution_count": 2,
   "metadata": {},
   "outputs": [],
   "source": [
    "#Cargar data a la tabla de Hechos Servicios \n",
    "#!python HechoServicios.py"
   ]
  },
  {
   "cell_type": "markdown",
   "metadata": {},
   "source": [
    "Cargar los datos para los servicios con granularidad\n",
    "\n",
    "Granularidad: Servicio único\n",
    "Esta tabla registra un solo registro por cada servicio. Cada fila representa un servicio completo desde su solicitud hasta su finalización, sin detalles de cambios de estado intermedios."
   ]
  },
  {
   "cell_type": "code",
   "execution_count": null,
   "metadata": {},
   "outputs": [],
   "source": [
    "#Cargar data a la tabla de Hechos Servicios \n",
    "!python HechoServicios1.py"
   ]
  },
  {
   "cell_type": "markdown",
   "metadata": {},
   "source": [
    "Cargar los datos para loa estados del servicio con granularidad \n",
    "\n",
    "Granularidad: Cambio de estado por servicio\n",
    "Cada registro en esta tabla representa un cambio de estado para un servicio específico, es decir, un nivel más detallado que permite ver la secuencia de estados que ha pasado cada servicio."
   ]
  },
  {
   "cell_type": "code",
   "execution_count": null,
   "metadata": {},
   "outputs": [],
   "source": [
    "#Cargar data a la tabla de Hechos History Servicios \n",
    "!python HechoNovedades.py"
   ]
  },
  {
   "cell_type": "markdown",
   "metadata": {},
   "source": [
    "Cargar los datos de eficiencia a nivel de día para cada mensajero, agrupando por fecha.\n",
    "\n",
    "Granularidad: Eficiencia diaria por mensajero Cada registro en esta tabla representa la eficiencia de un mensajero en un día específico."
   ]
  },
  {
   "cell_type": "code",
   "execution_count": null,
   "metadata": {},
   "outputs": [],
   "source": [
    "#Cargar  data a la tabla de Hechos Eficiencia Hora\n",
    "!python HechoEficienciaHora.py"
   ]
  },
  {
   "cell_type": "markdown",
   "metadata": {},
   "source": [
    "Cargar los datos de eficiencia diaria por mensajero, agrupando por fecha y estado del servicio.\n",
    "\n",
    "Granularidad: Eficiencia diaria por mensajero y estado del servicio\n",
    "Cada registro en esta tabla representa la eficiencia diaria de un mensajero, desglosada por estado del servicio en una fecha específica."
   ]
  },
  {
   "cell_type": "code",
   "execution_count": null,
   "metadata": {},
   "outputs": [],
   "source": [
    "#Cargar data a la tabla de Hechos Eficiencia Dia\n",
    "!python HechoEficienciaDia.py"
   ]
  }
 ],
 "metadata": {
  "kernelspec": {
   "display_name": "Python 3",
   "language": "python",
   "name": "python3"
  },
  "language_info": {
   "codemirror_mode": {
    "name": "ipython",
    "version": 3
   },
   "file_extension": ".py",
   "mimetype": "text/x-python",
   "name": "python",
   "nbconvert_exporter": "python",
   "pygments_lexer": "ipython3",
   "version": "3.12.3"
  }
 },
 "nbformat": 4,
 "nbformat_minor": 2
}
