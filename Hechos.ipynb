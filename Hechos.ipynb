{
 "cells": [
  {
   "cell_type": "raw",
   "metadata": {},
   "source": [
    "Implementar los diferentes Hechos del ETL para el analizar y procesamiento de los datos "
   ]
  },
  {
   "cell_type": "code",
   "execution_count": 2,
   "metadata": {},
   "outputs": [],
   "source": [
    "#Cargar data a la tabla de Hechos Servicios \n",
    "#!python HechoServicios.py"
   ]
  },
  {
   "cell_type": "markdown",
   "metadata": {},
   "source": [
    "Cargar los datos para los servicios con granularidad\n",
    "\n",
    "Granularidad: Servicio único\n",
    "Esta tabla registra un solo registro por cada servicio. Cada fila representa un servicio completo desde su solicitud hasta su finalización, sin detalles de cambios de estado intermedios."
   ]
  },
  {
   "cell_type": "code",
   "execution_count": 7,
   "metadata": {},
   "outputs": [
    {
     "name": "stdout",
     "output_type": "stream",
     "text": [
      "ETL completado exitosamente y datos cargados en la tabla 'mayor'.\n"
     ]
    }
   ],
   "source": [
    "#Cargar data a la tabla de Hechos Servicios \n",
    "!python HechoServicios1.py"
   ]
  },
  {
   "cell_type": "markdown",
   "metadata": {},
   "source": [
    "Cargar los datos para loa estados del servicio con granularidad \n",
    "\n",
    "Granularidad: Cambio de estado por servicio\n",
    "Cada registro en esta tabla representa un cambio de estado para un servicio específico, es decir, un nivel más detallado que permite ver la secuencia de estados que ha pasado cada servicio."
   ]
  },
  {
   "cell_type": "code",
   "execution_count": 7,
   "metadata": {},
   "outputs": [
    {
     "name": "stdout",
     "output_type": "stream",
     "text": [
      "/Library/Frameworks/Python.framework/Versions/2.7/Resources/Python.app/Contents/MacOS/Python: can't open file 'HechoNovedades.py': [Errno 2] No such file or directory\n"
     ]
    }
   ],
   "source": [
    "#Cargar data a la tabla de Hechos History Servicios \n",
    "!python HechoNovedades.py"
   ]
  },
  {
   "cell_type": "markdown",
   "metadata": {},
   "source": []
  },
  {
   "cell_type": "code",
   "execution_count": null,
   "metadata": {},
   "outputs": [],
   "source": [
    "#!python HechoEficienciaHora.py"
   ]
  }
 ],
 "metadata": {
  "kernelspec": {
   "display_name": ".venv",
   "language": "python",
   "name": "python3"
  },
  "language_info": {
   "codemirror_mode": {
    "name": "ipython",
    "version": 3
   },
   "file_extension": ".py",
   "mimetype": "text/x-python",
   "name": "python",
   "nbconvert_exporter": "python",
   "pygments_lexer": "ipython3",
   "version": "3.12.7"
  }
 },
 "nbformat": 4,
 "nbformat_minor": 2
}
