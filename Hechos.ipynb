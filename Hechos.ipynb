{
 "cells": [
  {
   "cell_type": "raw",
   "metadata": {},
   "source": [
    "Implementar los diferentes Hechos del ETL para el analizar y procesamiento de los datos "
   ]
  },
  {
   "cell_type": "code",
   "execution_count": 8,
   "metadata": {},
   "outputs": [
    {
     "name": "stderr",
     "output_type": "stream",
     "text": [
      "Traceback (most recent call last):\n",
      "  File \"C:\\Users\\chara\\AppData\\Local\\Packages\\PythonSoftwareFoundation.Python.3.11_qbz5n2kfra8p0\\LocalCache\\local-packages\\Python311\\site-packages\\sqlalchemy\\engine\\base.py\", line 2118, in _exec_insertmany_context\n",
      "    dialect.do_execute(\n",
      "  File \"C:\\Users\\chara\\AppData\\Local\\Packages\\PythonSoftwareFoundation.Python.3.11_qbz5n2kfra8p0\\LocalCache\\local-packages\\Python311\\site-packages\\sqlalchemy\\engine\\default.py\", line 941, in do_execute\n",
      "    cursor.execute(statement, parameters)\n",
      "psycopg2.errors.DatatypeMismatch: la columna «id_fecha_solicitud» es de tipo integer pero la expresión es de tipo date\n",
      "LINE 1: ...spera, descripcion_cancelado) VALUES (35, 5, 7.0, '2023-10-2...\n",
      "                                                             ^\n",
      "HINT:  Necesitará reescribir la expresión o aplicarle una conversión de tipo.\n",
      "\n",
      "\n",
      "The above exception was the direct cause of the following exception:\n",
      "\n",
      "Traceback (most recent call last):\n",
      "  File \"c:\\Users\\chara\\Desktop\\Rapido-Furioso\\HechoServicios.py\", line 116, in <module>\n",
      "    etl_mayor()\n",
      "  File \"c:\\Users\\chara\\Desktop\\Rapido-Furioso\\HechoServicios.py\", line 73, in etl_mayor\n",
      "    df.to_sql('servicios', conn_etl, if_exists='append', index=False)\n",
      "  File \"C:\\Users\\chara\\AppData\\Local\\Packages\\PythonSoftwareFoundation.Python.3.11_qbz5n2kfra8p0\\LocalCache\\local-packages\\Python311\\site-packages\\pandas\\util\\_decorators.py\", line 333, in wrapper\n",
      "    return func(*args, **kwargs)\n",
      "           ^^^^^^^^^^^^^^^^^^^^^\n",
      "  File \"C:\\Users\\chara\\AppData\\Local\\Packages\\PythonSoftwareFoundation.Python.3.11_qbz5n2kfra8p0\\LocalCache\\local-packages\\Python311\\site-packages\\pandas\\core\\generic.py\", line 3087, in to_sql\n",
      "    return sql.to_sql(\n",
      "           ^^^^^^^^^^^\n",
      "  File \"C:\\Users\\chara\\AppData\\Local\\Packages\\PythonSoftwareFoundation.Python.3.11_qbz5n2kfra8p0\\LocalCache\\local-packages\\Python311\\site-packages\\pandas\\io\\sql.py\", line 842, in to_sql\n",
      "    return pandas_sql.to_sql(\n",
      "           ^^^^^^^^^^^^^^^^^^\n",
      "  File \"C:\\Users\\chara\\AppData\\Local\\Packages\\PythonSoftwareFoundation.Python.3.11_qbz5n2kfra8p0\\LocalCache\\local-packages\\Python311\\site-packages\\pandas\\io\\sql.py\", line 2018, in to_sql\n",
      "    total_inserted = sql_engine.insert_records(\n",
      "                     ^^^^^^^^^^^^^^^^^^^^^^^^^^\n",
      "  File \"C:\\Users\\chara\\AppData\\Local\\Packages\\PythonSoftwareFoundation.Python.3.11_qbz5n2kfra8p0\\LocalCache\\local-packages\\Python311\\site-packages\\pandas\\io\\sql.py\", line 1567, in insert_records\n",
      "    raise err\n",
      "  File \"C:\\Users\\chara\\AppData\\Local\\Packages\\PythonSoftwareFoundation.Python.3.11_qbz5n2kfra8p0\\LocalCache\\local-packages\\Python311\\site-packages\\pandas\\io\\sql.py\", line 1558, in insert_records\n",
      "    return table.insert(chunksize=chunksize, method=method)\n",
      "           ^^^^^^^^^^^^^^^^^^^^^^^^^^^^^^^^^^^^^^^^^^^^^^^^\n",
      "  File \"C:\\Users\\chara\\AppData\\Local\\Packages\\PythonSoftwareFoundation.Python.3.11_qbz5n2kfra8p0\\LocalCache\\local-packages\\Python311\\site-packages\\pandas\\io\\sql.py\", line 1119, in insert\n",
      "    num_inserted = exec_insert(conn, keys, chunk_iter)\n",
      "                   ^^^^^^^^^^^^^^^^^^^^^^^^^^^^^^^^^^^\n",
      "  File \"C:\\Users\\chara\\AppData\\Local\\Packages\\PythonSoftwareFoundation.Python.3.11_qbz5n2kfra8p0\\LocalCache\\local-packages\\Python311\\site-packages\\pandas\\io\\sql.py\", line 1010, in _execute_insert\n",
      "    result = conn.execute(self.table.insert(), data)\n",
      "             ^^^^^^^^^^^^^^^^^^^^^^^^^^^^^^^^^^^^^^^\n",
      "  File \"C:\\Users\\chara\\AppData\\Local\\Packages\\PythonSoftwareFoundation.Python.3.11_qbz5n2kfra8p0\\LocalCache\\local-packages\\Python311\\site-packages\\sqlalchemy\\engine\\base.py\", line 1418, in execute\n",
      "    return meth(\n",
      "           ^^^^^\n",
      "  File \"C:\\Users\\chara\\AppData\\Local\\Packages\\PythonSoftwareFoundation.Python.3.11_qbz5n2kfra8p0\\LocalCache\\local-packages\\Python311\\site-packages\\sqlalchemy\\sql\\elements.py\", line 515, in _execute_on_connection\n",
      "    return connection._execute_clauseelement(\n",
      "           ^^^^^^^^^^^^^^^^^^^^^^^^^^^^^^^^^^\n",
      "  File \"C:\\Users\\chara\\AppData\\Local\\Packages\\PythonSoftwareFoundation.Python.3.11_qbz5n2kfra8p0\\LocalCache\\local-packages\\Python311\\site-packages\\sqlalchemy\\engine\\base.py\", line 1640, in _execute_clauseelement\n",
      "    ret = self._execute_context(\n",
      "          ^^^^^^^^^^^^^^^^^^^^^^\n",
      "  File \"C:\\Users\\chara\\AppData\\Local\\Packages\\PythonSoftwareFoundation.Python.3.11_qbz5n2kfra8p0\\LocalCache\\local-packages\\Python311\\site-packages\\sqlalchemy\\engine\\base.py\", line 1844, in _execute_context\n",
      "    return self._exec_insertmany_context(dialect, context)\n",
      "           ^^^^^^^^^^^^^^^^^^^^^^^^^^^^^^^^^^^^^^^^^^^^^^^\n",
      "  File \"C:\\Users\\chara\\AppData\\Local\\Packages\\PythonSoftwareFoundation.Python.3.11_qbz5n2kfra8p0\\LocalCache\\local-packages\\Python311\\site-packages\\sqlalchemy\\engine\\base.py\", line 2126, in _exec_insertmany_context\n",
      "    self._handle_dbapi_exception(\n",
      "  File \"C:\\Users\\chara\\AppData\\Local\\Packages\\PythonSoftwareFoundation.Python.3.11_qbz5n2kfra8p0\\LocalCache\\local-packages\\Python311\\site-packages\\sqlalchemy\\engine\\base.py\", line 2355, in _handle_dbapi_exception\n",
      "    raise sqlalchemy_exception.with_traceback(exc_info[2]) from e\n",
      "  File \"C:\\Users\\chara\\AppData\\Local\\Packages\\PythonSoftwareFoundation.Python.3.11_qbz5n2kfra8p0\\LocalCache\\local-packages\\Python311\\site-packages\\sqlalchemy\\engine\\base.py\", line 2118, in _exec_insertmany_context\n",
      "    dialect.do_execute(\n",
      "  File \"C:\\Users\\chara\\AppData\\Local\\Packages\\PythonSoftwareFoundation.Python.3.11_qbz5n2kfra8p0\\LocalCache\\local-packages\\Python311\\site-packages\\sqlalchemy\\engine\\default.py\", line 941, in do_execute\n",
      "    cursor.execute(statement, parameters)\n",
      "sqlalchemy.exc.ProgrammingError: (psycopg2.errors.DatatypeMismatch) la columna «id_fecha_solicitud» es de tipo integer pero la expresión es de tipo date\n",
      "LINE 1: ...spera, descripcion_cancelado) VALUES (35, 5, 7.0, '2023-10-2...\n",
      "                                                             ^\n",
      "HINT:  Necesitará reescribir la expresión o aplicarle una conversión de tipo.\n",
      "\n",
      "[SQL: INSERT INTO servicios (id_servicio, id_cliente, id_mensajero, id_fecha_solicitud, id_fecha_entrega, id_destino_servicio, id_origen_servicio, descripcion_pago, id_tiposervicio, prioridad, id_destino_ciudad, id_origen_ciudad, duracion_total, tiempo_esp ... 390283 characters truncated ... igen_ciudad__999)s, %(duracion_total__999)s, %(tiempo_espera__999)s, %(descripcion_cancelado__999)s)]\n",
      "[parameters: {'id_destino_servicio__0': 214, 'id_fecha_entrega__0': datetime.date(2023, 10, 26), 'tiempo_espera__0': 0.0, 'prioridad__0': 'Media: De 1 a 3 horas', 'id_origen_servicio__0': 236, 'id_tiposervicio__0': 3, 'descripcion_cancelado__0': '', 'id_mensajero__0': 7.0, 'id_destino_ciudad__0': 1, 'id_cliente__0': 5, 'id_servicio__0': 35, 'id_origen_ciudad__0': 1, 'duracion_total__0': 0.0, 'descripcion_pago__0': '', 'id_fecha_solicitud__0': datetime.date(2023, 10, 26), 'id_destino_servicio__1': 238, 'id_fecha_entrega__1': datetime.date(2023, 11, 9), 'tiempo_espera__1': 0.0, 'prioridad__1': 'Media: De 1 a 3 horas', 'id_origen_servicio__1': 262, 'id_tiposervicio__1': 3, 'descripcion_cancelado__1': '', 'id_mensajero__1': 12.0, 'id_destino_ciudad__1': 1, 'id_cliente__1': 4, 'id_servicio__1': 46, 'id_origen_ciudad__1': 1, 'duracion_total__1': 0.0, 'descripcion_pago__1': '', 'id_fecha_solicitud__1': datetime.date(2023, 11, 9), 'id_destino_servicio__2': 214, 'id_fecha_entrega__2': datetime.date(2023, 11, 10), 'tiempo_espera__2': 24.0, 'prioridad__2': 'Media: De 1 a 3 horas', 'id_origen_servicio__2': 242, 'id_tiposervicio__2': 3, 'descripcion_cancelado__2': '', 'id_mensajero__2': 12.0, 'id_destino_ciudad__2': 1, 'id_cliente__2': 5, 'id_servicio__2': 45, 'id_origen_ciudad__2': 1, 'duracion_total__2': 24.0, 'descripcion_pago__2': '', 'id_fecha_solicitud__2': datetime.date(2023, 11, 9), 'id_destino_servicio__3': 214, 'id_fecha_entrega__3': datetime.date(2023, 11, 14), 'tiempo_espera__3': 72.0, 'prioridad__3': 'Media: De 1 - 3 Horas', 'id_origen_servicio__3': 239 ... 14900 parameters truncated ... 'id_servicio__996': 916, 'id_origen_ciudad__996': 1, 'duracion_total__996': 0.0, 'descripcion_pago__996': '', 'id_fecha_solicitud__996': datetime.date(2024, 2, 10), 'id_destino_servicio__997': 294, 'id_fecha_entrega__997': datetime.date(2024, 2, 13), 'tiempo_espera__997': 0.0, 'prioridad__997': 'Alta: En una Hora', 'id_origen_servicio__997': 414, 'id_tiposervicio__997': 3, 'descripcion_cancelado__997': '', 'id_mensajero__997': 3.0, 'id_destino_ciudad__997': 1, 'id_cliente__997': 6, 'id_servicio__997': 1067, 'id_origen_ciudad__997': 1, 'duracion_total__997': 0.0, 'descripcion_pago__997': '', 'id_fecha_solicitud__997': datetime.date(2024, 2, 13), 'id_destino_servicio__998': 5, 'id_fecha_entrega__998': datetime.date(2024, 2, 13), 'tiempo_espera__998': 0.0, 'prioridad__998': 'Alta: En una Hora', 'id_origen_servicio__998': 26, 'id_tiposervicio__998': 2, 'descripcion_cancelado__998': '', 'id_mensajero__998': 22.0, 'id_destino_ciudad__998': 1, 'id_cliente__998': 11, 'id_servicio__998': 1072, 'id_origen_ciudad__998': 1, 'duracion_total__998': 0.0, 'descripcion_pago__998': '', 'id_fecha_solicitud__998': datetime.date(2024, 2, 13), 'id_destino_servicio__999': 26, 'id_fecha_entrega__999': datetime.date(2024, 2, 13), 'tiempo_espera__999': 0.0, 'prioridad__999': 'Alta: En una Hora', 'id_origen_servicio__999': 415, 'id_tiposervicio__999': 1, 'descripcion_cancelado__999': '', 'id_mensajero__999': 29.0, 'id_destino_ciudad__999': 1, 'id_cliente__999': 11, 'id_servicio__999': 1073, 'id_origen_ciudad__999': 8, 'duracion_total__999': 0.0, 'descripcion_pago__999': 'traslado de horno microondas', 'id_fecha_solicitud__999': datetime.date(2024, 2, 13)}]\n",
      "(Background on this error at: https://sqlalche.me/e/20/f405)\n"
     ]
    }
   ],
   "source": [
    "#Cargar data a la tabla de Hechos Servicios \n",
    "!python HechoServicios.py"
   ]
  }
 ],
 "metadata": {
  "kernelspec": {
   "display_name": "Python 3",
   "language": "python",
   "name": "python3"
  },
  "language_info": {
   "codemirror_mode": {
    "name": "ipython",
    "version": 3
   },
   "file_extension": ".py",
   "mimetype": "text/x-python",
   "name": "python",
   "nbconvert_exporter": "python",
   "pygments_lexer": "ipython3",
   "version": "3.11.9"
  }
 },
 "nbformat": 4,
 "nbformat_minor": 2
}
