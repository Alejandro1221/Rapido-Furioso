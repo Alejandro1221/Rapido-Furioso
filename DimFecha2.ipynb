{
 "cells": [
  {
   "cell_type": "raw",
   "metadata": {},
   "source": [
    "Tabla de fechas realizando el llenado automatico y creando los campos y la tabla si no existe"
   ]
  },
  {
   "cell_type": "code",
   "execution_count": null,
   "metadata": {},
   "outputs": [
    {
     "name": "stdout",
     "output_type": "stream",
     "text": [
      "Llenando la tabla 'fechas2' con fechas para los próximos 3 años.\n",
      "Tabla 'fechas2' llenada exitosamente con fechas para los próximos 3 años.\n"
     ]
    }
   ],
   "source": [
    "from connection_script import get_engine\n",
    "import pandas as pd\n",
    "import numpy as np\n",
    "from sqlalchemy import text, inspect, MetaData, Table, Column, Integer, String, Boolean, Date\n",
    "from datetime import datetime, timedelta\n",
    "from pandas.errors import OutOfBoundsDatetime\n",
    "\n",
    "# Obtener las conexiones a las bases de datos\n",
    "engine_bodega = get_engine('bodega_datos')\n",
    "engine_etl = get_engine('etl_rapidos_furiosos')\n",
    "\n",
    "# Función para crear y llenar la tabla 'fechas' si no existe o si está vacía\n",
    "def crear_y_llenar_tabla_fechas(engine):\n",
    "    # Inspector para verificar si la tabla ya existe\n",
    "    inspector = inspect(engine)\n",
    "    if not inspector.has_table(\"fechas\"):\n",
    "        metadata = MetaData()\n",
    "        \n",
    "        # Definir estructura de la tabla fechas\n",
    "        fechas = Table(\n",
    "            \"fechas\", metadata,\n",
    "            Column(\"id_fecha\", Integer, primary_key=True),\n",
    "            Column(\"fecha\", Date, nullable=False),\n",
    "            Column(\"dia\", Integer, nullable=False),\n",
    "            Column(\"mes\", Integer, nullable=False),\n",
    "            Column(\"año\", Integer, nullable=False),\n",
    "            Column(\"nombre_dia\", String(10), nullable=False),\n",
    "            Column(\"nombre_mes\", String(15), nullable=False),\n",
    "            Column(\"es_fin_de_semana\", Boolean, nullable=False)\n",
    "        )\n",
    "        \n",
    "        # Crear la tabla en la base de datos\n",
    "        metadata.create_all(engine)\n",
    "        print(\"Tabla 'fechas' creada exitosamente.\")\n",
    "        \n",
    "    # Verificar si la tabla 'fechas' está vacía\n",
    "    with engine.connect() as conn:\n",
    "        result = conn.execute(text(\"SELECT COUNT(*) FROM fechas\"))\n",
    "        count = result.scalar()\n",
    "        \n",
    "    # Llenar la tabla solo si está vacía\n",
    "    if count == 0:\n",
    "        print(\"Llenando la tabla 'fechas' con fechas para los próximos 3 años.\")\n",
    "        \n",
    "        # Rellenar la tabla con fechas desde 2023 hasta tres años en adelante\n",
    "        fechas = []\n",
    "        start_date = datetime(2023, 1, 1)\n",
    "        end_date = datetime(2026, 1, 1)\n",
    "        current_date = start_date\n",
    "        id_fecha = 1\n",
    "        \n",
    "        while current_date < end_date:\n",
    "            dia = current_date.day\n",
    "            mes = current_date.month\n",
    "            año = current_date.year\n",
    "            nombre_dia = current_date.strftime(\"%A\")  # Ej. \"Monday\"\n",
    "            nombre_mes = current_date.strftime(\"%B\")  # Ej. \"January\"\n",
    "            es_fin_de_semana = current_date.weekday() >= 5  # Sábado(5) o Domingo(6)\n",
    "            \n",
    "            fechas.append({\n",
    "                \"id_fecha\": id_fecha,\n",
    "                \"fecha\": current_date,\n",
    "                \"dia\": dia,\n",
    "                \"mes\": mes,\n",
    "                \"año\": año,\n",
    "                \"nombre_dia\": nombre_dia,\n",
    "                \"nombre_mes\": nombre_mes,\n",
    "                \"es_fin_de_semana\": es_fin_de_semana\n",
    "            })\n",
    "            \n",
    "            id_fecha += 1\n",
    "            current_date += timedelta(days=1)\n",
    "        \n",
    "        # Convertir a DataFrame y cargar en la tabla 'fechas'\n",
    "        df_fechas = pd.DataFrame(fechas)\n",
    "        with engine.connect() as conn:\n",
    "            df_fechas.to_sql('fechas', conn, if_exists='append', index=False)\n",
    "        \n",
    "        print(\"Tabla 'fechas' llenada exitosamente con fechas para los próximos 3 años.\")\n",
    "    else:\n",
    "        print(\"La tabla 'fechas' ya tiene datos y no se insertaron nuevas filas.\")\n",
    "\n",
    "# Ejecutar el proceso de creación y carga de 'fechas'\n",
    "crear_y_llenar_tabla_fechas(engine_etl)\n"
   ]
  },
  {
   "cell_type": "code",
   "execution_count": 5,
   "metadata": {},
   "outputs": [],
   "source": [
    "# Esta celda se ejecuta primero para obtener la conexión\n",
    "from connection_script import get_engine\n",
    "\n",
    "# Obtener el motor de conexión para la base de datos 'etl_rapidos_furiosos'\n",
    "engine_etl = get_engine('etl_rapidos_furiosos')\n"
   ]
  },
  {
   "cell_type": "code",
   "execution_count": 6,
   "metadata": {},
   "outputs": [
    {
     "name": "stdout",
     "output_type": "stream",
     "text": [
      "La tabla 'fechas2' ya tiene datos y no se insertaron nuevas filas.\n"
     ]
    }
   ],
   "source": [
    "# Esta celda llama a la función que creará y llenará la tabla 'fechas2'\n",
    "crear_y_llenar_tabla_fechas(engine_etl)\n"
   ]
  }
 ],
 "metadata": {
  "kernelspec": {
   "display_name": "Python 3",
   "language": "python",
   "name": "python3"
  },
  "language_info": {
   "codemirror_mode": {
    "name": "ipython",
    "version": 3
   },
   "file_extension": ".py",
   "mimetype": "text/x-python",
   "name": "python",
   "nbconvert_exporter": "python",
   "pygments_lexer": "ipython3",
   "version": "3.12.3"
  }
 },
 "nbformat": 4,
 "nbformat_minor": 2
}
