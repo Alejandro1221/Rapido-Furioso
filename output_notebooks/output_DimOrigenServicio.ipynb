{
 "cells": [
  {
   "cell_type": "code",
   "execution_count": 1,
   "metadata": {
    "execution": {
     "iopub.execute_input": "2024-11-09T03:19:30.745647Z",
     "iopub.status.busy": "2024-11-09T03:19:30.745647Z",
     "iopub.status.idle": "2024-11-09T03:19:32.121934Z",
     "shell.execute_reply": "2024-11-09T03:19:32.121934Z"
    }
   },
   "outputs": [
    {
     "name": "stdout",
     "output_type": "stream",
     "text": [
      "Requirement already satisfied: pandas in c:\\users\\usuario\\desktop\\reps\\rapido-furioso\\.venv\\lib\\site-packages (from -r requirements.txt (line 1)) (2.2.3)\n",
      "Requirement already satisfied: sqlalchemy in c:\\users\\usuario\\desktop\\reps\\rapido-furioso\\.venv\\lib\\site-packages (from -r requirements.txt (line 2)) (2.0.36)\n",
      "Requirement already satisfied: python-dotenv in c:\\users\\usuario\\desktop\\reps\\rapido-furioso\\.venv\\lib\\site-packages (from -r requirements.txt (line 3)) (1.0.1)\n",
      "Requirement already satisfied: psycopg2 in c:\\users\\usuario\\desktop\\reps\\rapido-furioso\\.venv\\lib\\site-packages (from -r requirements.txt (line 4)) (2.9.10)\n",
      "Requirement already satisfied: numpy>=1.26.0 in c:\\users\\usuario\\desktop\\reps\\rapido-furioso\\.venv\\lib\\site-packages (from pandas->-r requirements.txt (line 1)) (2.1.3)\n",
      "Requirement already satisfied: python-dateutil>=2.8.2 in c:\\users\\usuario\\desktop\\reps\\rapido-furioso\\.venv\\lib\\site-packages (from pandas->-r requirements.txt (line 1)) (2.9.0.post0)\n",
      "Requirement already satisfied: pytz>=2020.1 in c:\\users\\usuario\\desktop\\reps\\rapido-furioso\\.venv\\lib\\site-packages (from pandas->-r requirements.txt (line 1)) (2024.2)\n",
      "Requirement already satisfied: tzdata>=2022.7 in c:\\users\\usuario\\desktop\\reps\\rapido-furioso\\.venv\\lib\\site-packages (from pandas->-r requirements.txt (line 1)) (2024.2)\n",
      "Requirement already satisfied: typing-extensions>=4.6.0 in c:\\users\\usuario\\desktop\\reps\\rapido-furioso\\.venv\\lib\\site-packages (from sqlalchemy->-r requirements.txt (line 2)) (4.12.2)\n",
      "Requirement already satisfied: greenlet!=0.4.17 in c:\\users\\usuario\\desktop\\reps\\rapido-furioso\\.venv\\lib\\site-packages (from sqlalchemy->-r requirements.txt (line 2)) (3.1.1)\n",
      "Requirement already satisfied: six>=1.5 in c:\\users\\usuario\\desktop\\reps\\rapido-furioso\\.venv\\lib\\site-packages (from python-dateutil>=2.8.2->pandas->-r requirements.txt (line 1)) (1.16.0)\n",
      "Note: you may need to restart the kernel to use updated packages.\n"
     ]
    }
   ],
   "source": [
    "#librerias\n",
    "%pip install -r requirements.txt"
   ]
  },
  {
   "cell_type": "code",
   "execution_count": 2,
   "metadata": {
    "execution": {
     "iopub.execute_input": "2024-11-09T03:19:32.122939Z",
     "iopub.status.busy": "2024-11-09T03:19:32.122939Z",
     "iopub.status.idle": "2024-11-09T03:19:32.576416Z",
     "shell.execute_reply": "2024-11-09T03:19:32.576416Z"
    }
   },
   "outputs": [],
   "source": [
    "import pandas as pd\n",
    "from connection_script import engine_bodega, engine_etl"
   ]
  },
  {
   "cell_type": "code",
   "execution_count": 3,
   "metadata": {
    "execution": {
     "iopub.execute_input": "2024-11-09T03:19:32.578494Z",
     "iopub.status.busy": "2024-11-09T03:19:32.577417Z",
     "iopub.status.idle": "2024-11-09T03:19:32.619860Z",
     "shell.execute_reply": "2024-11-09T03:19:32.619860Z"
    }
   },
   "outputs": [],
   "source": [
    "query = \"SELECT * FROM mensajeria_origenservicio\"\n",
    "\n",
    "df_origenservicio = pd.read_sql(query, engine_bodega)"
   ]
  },
  {
   "cell_type": "code",
   "execution_count": 4,
   "metadata": {
    "execution": {
     "iopub.execute_input": "2024-11-09T03:19:32.621864Z",
     "iopub.status.busy": "2024-11-09T03:19:32.620864Z",
     "iopub.status.idle": "2024-11-09T03:19:32.624141Z",
     "shell.execute_reply": "2024-11-09T03:19:32.624141Z"
    }
   },
   "outputs": [],
   "source": [
    "df_origenservicio = df_origenservicio.rename(columns={\n",
    "    'id': 'id_origen',\n",
    "    'cliente_id': 'id_cliente',\n",
    "    'ciudad_id': 'id_ciudad'\n",
    "})"
   ]
  },
  {
   "cell_type": "code",
   "execution_count": 5,
   "metadata": {
    "execution": {
     "iopub.execute_input": "2024-11-09T03:19:32.625148Z",
     "iopub.status.busy": "2024-11-09T03:19:32.625148Z",
     "iopub.status.idle": "2024-11-09T03:19:32.629481Z",
     "shell.execute_reply": "2024-11-09T03:19:32.629481Z"
    }
   },
   "outputs": [],
   "source": [
    "if df_origenservicio.isnull().values.any():\n",
    "    print(\"Advertencia: Hay valores nulos en el DataFrame.\")"
   ]
  },
  {
   "cell_type": "code",
   "execution_count": 6,
   "metadata": {
    "execution": {
     "iopub.execute_input": "2024-11-09T03:19:32.630485Z",
     "iopub.status.busy": "2024-11-09T03:19:32.630485Z",
     "iopub.status.idle": "2024-11-09T03:19:32.687669Z",
     "shell.execute_reply": "2024-11-09T03:19:32.687669Z"
    }
   },
   "outputs": [
    {
     "data": {
      "text/plain": [
       "741"
      ]
     },
     "execution_count": 6,
     "metadata": {},
     "output_type": "execute_result"
    }
   ],
   "source": [
    "df_origenservicio.to_sql('origen_servicio', con=engine_etl, if_exists=\"append\", index=False)\n",
    "\n"
   ]
  },
  {
   "cell_type": "code",
   "execution_count": 7,
   "metadata": {
    "execution": {
     "iopub.execute_input": "2024-11-09T03:19:32.688675Z",
     "iopub.status.busy": "2024-11-09T03:19:32.688675Z",
     "iopub.status.idle": "2024-11-09T03:19:32.693285Z",
     "shell.execute_reply": "2024-11-09T03:19:32.693285Z"
    }
   },
   "outputs": [
    {
     "name": "stdout",
     "output_type": "stream",
     "text": [
      "   id_origen                    direccion  id_cliente  id_ciudad\n",
      "0         94  Los angeles distrito Latino          11          1\n",
      "1         95  Los angeles distrito Latino          11          6\n",
      "2         96  Los angeles distrito Latino          11          1\n",
      "3         55  Los angeles distrito Latino          11          1\n",
      "4         79  Los angeles distrito Latino          11          8\n"
     ]
    }
   ],
   "source": [
    "print(df_origenservicio.head())"
   ]
  }
 ],
 "metadata": {
  "kernelspec": {
   "display_name": "Python 3",
   "language": "python",
   "name": "python3"
  },
  "language_info": {
   "codemirror_mode": {
    "name": "ipython",
    "version": 3
   },
   "file_extension": ".py",
   "mimetype": "text/x-python",
   "name": "python",
   "nbconvert_exporter": "python",
   "pygments_lexer": "ipython3",
   "version": "3.12.7"
  }
 },
 "nbformat": 4,
 "nbformat_minor": 2
}
