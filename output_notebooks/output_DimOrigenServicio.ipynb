{
 "cells": [
  {
   "cell_type": "code",
   "execution_count": 1,
   "metadata": {
    "execution": {
     "iopub.execute_input": "2024-11-11T07:25:13.691340Z",
     "iopub.status.busy": "2024-11-11T07:25:13.690339Z",
     "iopub.status.idle": "2024-11-11T07:25:13.824520Z",
     "shell.execute_reply": "2024-11-11T07:25:13.824005Z"
    }
   },
   "outputs": [
    {
     "name": "stderr",
     "output_type": "stream",
     "text": [
      "python3: can't open file 'c:\\\\Users\\\\chara\\\\Desktop\\\\Rapido-Furioso\\\\pip': [Errno 2] No such file or directory\n"
     ]
    }
   ],
   "source": [
    "#librerias\n",
    "#%pip install -r requirements.txt\n",
    "!python3 pip install -r requirements.txt"
   ]
  },
  {
   "cell_type": "code",
   "execution_count": 2,
   "metadata": {
    "execution": {
     "iopub.execute_input": "2024-11-11T07:25:13.826594Z",
     "iopub.status.busy": "2024-11-11T07:25:13.826594Z",
     "iopub.status.idle": "2024-11-11T07:25:14.530252Z",
     "shell.execute_reply": "2024-11-11T07:25:14.529236Z"
    }
   },
   "outputs": [],
   "source": [
    "import pandas as pd\n",
    "from connection_script import engine_bodega, engine_etl"
   ]
  },
  {
   "cell_type": "code",
   "execution_count": 3,
   "metadata": {
    "execution": {
     "iopub.execute_input": "2024-11-11T07:25:14.533254Z",
     "iopub.status.busy": "2024-11-11T07:25:14.532247Z",
     "iopub.status.idle": "2024-11-11T07:25:14.621045Z",
     "shell.execute_reply": "2024-11-11T07:25:14.620035Z"
    }
   },
   "outputs": [],
   "source": [
    "query = \"SELECT * FROM mensajeria_origenservicio\"\n",
    "\n",
    "df_origenservicio = pd.read_sql(query, engine_bodega)"
   ]
  },
  {
   "cell_type": "code",
   "execution_count": 4,
   "metadata": {
    "execution": {
     "iopub.execute_input": "2024-11-11T07:25:14.623044Z",
     "iopub.status.busy": "2024-11-11T07:25:14.623044Z",
     "iopub.status.idle": "2024-11-11T07:25:14.628290Z",
     "shell.execute_reply": "2024-11-11T07:25:14.627282Z"
    }
   },
   "outputs": [],
   "source": [
    "df_origenservicio = df_origenservicio.rename(columns={\n",
    "    'id': 'id_origen',\n",
    "    'cliente_id': 'id_cliente',\n",
    "    'ciudad_id': 'id_ciudad'\n",
    "})"
   ]
  },
  {
   "cell_type": "code",
   "execution_count": 5,
   "metadata": {
    "execution": {
     "iopub.execute_input": "2024-11-11T07:25:14.630289Z",
     "iopub.status.busy": "2024-11-11T07:25:14.630289Z",
     "iopub.status.idle": "2024-11-11T07:25:14.635919Z",
     "shell.execute_reply": "2024-11-11T07:25:14.634871Z"
    }
   },
   "outputs": [],
   "source": [
    "if df_origenservicio.isnull().values.any():\n",
    "    print(\"Advertencia: Hay valores nulos en el DataFrame.\")\n"
   ]
  },
  {
   "cell_type": "code",
   "execution_count": 6,
   "metadata": {
    "execution": {
     "iopub.execute_input": "2024-11-11T07:25:14.637879Z",
     "iopub.status.busy": "2024-11-11T07:25:14.637879Z",
     "iopub.status.idle": "2024-11-11T07:25:14.710371Z",
     "shell.execute_reply": "2024-11-11T07:25:14.710371Z"
    }
   },
   "outputs": [
    {
     "data": {
      "text/plain": [
       "0"
      ]
     },
     "execution_count": 6,
     "metadata": {},
     "output_type": "execute_result"
    }
   ],
   "source": [
    "# Obtener los 'id_origen' existentes en la base de datos ETL para evitar duplicados\n",
    "existing_ids_query = \"SELECT id_origen FROM origen_servicio\"\n",
    "existing_ids = pd.read_sql(existing_ids_query, engine_etl)\n",
    "\n",
    "# Filtrar los registros de 'df_origenservicio' que ya existen en la base de datos ETL\n",
    "df_origenservicio = df_origenservicio[~df_origenservicio['id_origen'].isin(existing_ids['id_origen'])]\n",
    "\n",
    "# Cargar los datos transformados en la base de datos ETL\n",
    "df_origenservicio.to_sql('origen_servicio', con=engine_etl, if_exists=\"append\", index=False)\n"
   ]
  },
  {
   "cell_type": "code",
   "execution_count": 7,
   "metadata": {
    "execution": {
     "iopub.execute_input": "2024-11-11T07:25:14.713379Z",
     "iopub.status.busy": "2024-11-11T07:25:14.713379Z",
     "iopub.status.idle": "2024-11-11T07:25:14.718989Z",
     "shell.execute_reply": "2024-11-11T07:25:14.718989Z"
    }
   },
   "outputs": [
    {
     "name": "stdout",
     "output_type": "stream",
     "text": [
      "Empty DataFrame\n",
      "Columns: [id_origen, direccion, id_cliente, id_ciudad]\n",
      "Index: []\n"
     ]
    }
   ],
   "source": [
    "print(df_origenservicio.head())"
   ]
  }
 ],
 "metadata": {
  "kernelspec": {
   "display_name": ".venv",
   "language": "python",
   "name": "python3"
  },
  "language_info": {
   "codemirror_mode": {
    "name": "ipython",
    "version": 3
   },
   "file_extension": ".py",
   "mimetype": "text/x-python",
   "name": "python",
   "nbconvert_exporter": "python",
   "pygments_lexer": "ipython3",
   "version": "3.11.9"
  }
 },
 "nbformat": 4,
 "nbformat_minor": 2
}
