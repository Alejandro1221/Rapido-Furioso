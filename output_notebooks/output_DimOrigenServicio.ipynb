{
 "cells": [
  {
   "cell_type": "code",
   "execution_count": 1,
   "metadata": {
    "execution": {
     "iopub.execute_input": "2024-11-09T04:41:13.309560Z",
     "iopub.status.busy": "2024-11-09T04:41:13.308620Z",
     "iopub.status.idle": "2024-11-09T04:41:15.135187Z",
     "shell.execute_reply": "2024-11-09T04:41:15.135187Z"
    }
   },
   "outputs": [
    {
     "name": "stdout",
     "output_type": "stream",
     "text": [
      "Requirement already satisfied: pandas in c:\\users\\chara\\appdata\\local\\packages\\pythonsoftwarefoundation.python.3.11_qbz5n2kfra8p0\\localcache\\local-packages\\python311\\site-packages (from -r requirements.txt (line 1)) (2.2.2)\n",
      "Requirement already satisfied: sqlalchemy in c:\\users\\chara\\appdata\\local\\packages\\pythonsoftwarefoundation.python.3.11_qbz5n2kfra8p0\\localcache\\local-packages\\python311\\site-packages (from -r requirements.txt (line 2)) (2.0.36)\n",
      "Requirement already satisfied: python-dotenv in c:\\users\\chara\\appdata\\local\\packages\\pythonsoftwarefoundation.python.3.11_qbz5n2kfra8p0\\localcache\\local-packages\\python311\\site-packages (from -r requirements.txt (line 3)) (1.0.1)\n",
      "Requirement already satisfied: psycopg2 in c:\\users\\chara\\appdata\\local\\packages\\pythonsoftwarefoundation.python.3.11_qbz5n2kfra8p0\\localcache\\local-packages\\python311\\site-packages (from -r requirements.txt (line 4)) (2.9.10)\n",
      "Requirement already satisfied: numpy>=1.23.2 in c:\\users\\chara\\appdata\\local\\packages\\pythonsoftwarefoundation.python.3.11_qbz5n2kfra8p0\\localcache\\local-packages\\python311\\site-packages (from pandas->-r requirements.txt (line 1)) (1.26.0)\n",
      "Requirement already satisfied: python-dateutil>=2.8.2 in c:\\users\\chara\\appdata\\local\\packages\\pythonsoftwarefoundation.python.3.11_qbz5n2kfra8p0\\localcache\\local-packages\\python311\\site-packages (from pandas->-r requirements.txt (line 1)) (2.9.0.post0)\n",
      "Requirement already satisfied: pytz>=2020.1 in c:\\users\\chara\\appdata\\local\\packages\\pythonsoftwarefoundation.python.3.11_qbz5n2kfra8p0\\localcache\\local-packages\\python311\\site-packages (from pandas->-r requirements.txt (line 1)) (2024.1)\n",
      "Requirement already satisfied: tzdata>=2022.7 in c:\\users\\chara\\appdata\\local\\packages\\pythonsoftwarefoundation.python.3.11_qbz5n2kfra8p0\\localcache\\local-packages\\python311\\site-packages (from pandas->-r requirements.txt (line 1)) (2024.1)\n",
      "Requirement already satisfied: typing-extensions>=4.6.0 in c:\\users\\chara\\appdata\\local\\packages\\pythonsoftwarefoundation.python.3.11_qbz5n2kfra8p0\\localcache\\local-packages\\python311\\site-packages (from sqlalchemy->-r requirements.txt (line 2)) (4.12.2)\n",
      "Requirement already satisfied: greenlet!=0.4.17 in c:\\users\\chara\\appdata\\local\\packages\\pythonsoftwarefoundation.python.3.11_qbz5n2kfra8p0\\localcache\\local-packages\\python311\\site-packages (from sqlalchemy->-r requirements.txt (line 2)) (3.1.1)\n",
      "Requirement already satisfied: six>=1.5 in c:\\users\\chara\\appdata\\local\\packages\\pythonsoftwarefoundation.python.3.11_qbz5n2kfra8p0\\localcache\\local-packages\\python311\\site-packages (from python-dateutil>=2.8.2->pandas->-r requirements.txt (line 1)) (1.16.0)\n",
      "Note: you may need to restart the kernel to use updated packages.\n"
     ]
    }
   ],
   "source": [
    "#librerias\n",
    "%pip install -r requirements.txt"
   ]
  },
  {
   "cell_type": "code",
   "execution_count": 2,
   "metadata": {
    "execution": {
     "iopub.execute_input": "2024-11-09T04:41:15.137285Z",
     "iopub.status.busy": "2024-11-09T04:41:15.137285Z",
     "iopub.status.idle": "2024-11-09T04:41:15.722451Z",
     "shell.execute_reply": "2024-11-09T04:41:15.721506Z"
    }
   },
   "outputs": [],
   "source": [
    "import pandas as pd\n",
    "from connection_script import engine_bodega, engine_etl"
   ]
  },
  {
   "cell_type": "code",
   "execution_count": 3,
   "metadata": {
    "execution": {
     "iopub.execute_input": "2024-11-09T04:41:15.724447Z",
     "iopub.status.busy": "2024-11-09T04:41:15.724447Z",
     "iopub.status.idle": "2024-11-09T04:41:15.816478Z",
     "shell.execute_reply": "2024-11-09T04:41:15.816478Z"
    }
   },
   "outputs": [],
   "source": [
    "query = \"SELECT * FROM mensajeria_origenservicio\"\n",
    "\n",
    "df_origenservicio = pd.read_sql(query, engine_bodega)"
   ]
  },
  {
   "cell_type": "code",
   "execution_count": 4,
   "metadata": {
    "execution": {
     "iopub.execute_input": "2024-11-09T04:41:15.819107Z",
     "iopub.status.busy": "2024-11-09T04:41:15.819107Z",
     "iopub.status.idle": "2024-11-09T04:41:15.823261Z",
     "shell.execute_reply": "2024-11-09T04:41:15.823261Z"
    }
   },
   "outputs": [],
   "source": [
    "df_origenservicio = df_origenservicio.rename(columns={\n",
    "    'id': 'id_origen',\n",
    "    'cliente_id': 'id_cliente',\n",
    "    'ciudad_id': 'id_ciudad'\n",
    "})"
   ]
  },
  {
   "cell_type": "code",
   "execution_count": 5,
   "metadata": {
    "execution": {
     "iopub.execute_input": "2024-11-09T04:41:15.826268Z",
     "iopub.status.busy": "2024-11-09T04:41:15.825361Z",
     "iopub.status.idle": "2024-11-09T04:41:15.830690Z",
     "shell.execute_reply": "2024-11-09T04:41:15.830690Z"
    }
   },
   "outputs": [],
   "source": [
    "if df_origenservicio.isnull().values.any():\n",
    "    print(\"Advertencia: Hay valores nulos en el DataFrame.\")\n"
   ]
  },
  {
   "cell_type": "code",
   "execution_count": 6,
   "metadata": {
    "execution": {
     "iopub.execute_input": "2024-11-09T04:41:15.833577Z",
     "iopub.status.busy": "2024-11-09T04:41:15.833577Z",
     "iopub.status.idle": "2024-11-09T04:41:15.900915Z",
     "shell.execute_reply": "2024-11-09T04:41:15.899908Z"
    }
   },
   "outputs": [
    {
     "data": {
      "text/plain": [
       "0"
      ]
     },
     "execution_count": 6,
     "metadata": {},
     "output_type": "execute_result"
    }
   ],
   "source": [
    "# Obtener los 'id_origen' existentes en la base de datos ETL para evitar duplicados\n",
    "existing_ids_query = \"SELECT id_origen FROM origen_servicio\"\n",
    "existing_ids = pd.read_sql(existing_ids_query, engine_etl)\n",
    "\n",
    "# Filtrar los registros de 'df_origenservicio' que ya existen en la base de datos ETL\n",
    "df_origenservicio = df_origenservicio[~df_origenservicio['id_origen'].isin(existing_ids['id_origen'])]\n",
    "\n",
    "# Cargar los datos transformados en la base de datos ETL\n",
    "df_origenservicio.to_sql('origen_servicio', con=engine_etl, if_exists=\"append\", index=False)\n"
   ]
  },
  {
   "cell_type": "code",
   "execution_count": 7,
   "metadata": {
    "execution": {
     "iopub.execute_input": "2024-11-09T04:41:15.902913Z",
     "iopub.status.busy": "2024-11-09T04:41:15.902913Z",
     "iopub.status.idle": "2024-11-09T04:41:15.909397Z",
     "shell.execute_reply": "2024-11-09T04:41:15.908388Z"
    }
   },
   "outputs": [
    {
     "name": "stdout",
     "output_type": "stream",
     "text": [
      "Empty DataFrame\n",
      "Columns: [id_origen, direccion, id_cliente, id_ciudad]\n",
      "Index: []\n"
     ]
    }
   ],
   "source": [
    "print(df_origenservicio.head())"
   ]
  }
 ],
 "metadata": {
  "kernelspec": {
   "display_name": "Python 3",
   "language": "python",
   "name": "python3"
  },
  "language_info": {
   "codemirror_mode": {
    "name": "ipython",
    "version": 3
   },
   "file_extension": ".py",
   "mimetype": "text/x-python",
   "name": "python",
   "nbconvert_exporter": "python",
   "pygments_lexer": "ipython3",
   "version": "3.11.9"
  }
 },
 "nbformat": 4,
 "nbformat_minor": 2
}
