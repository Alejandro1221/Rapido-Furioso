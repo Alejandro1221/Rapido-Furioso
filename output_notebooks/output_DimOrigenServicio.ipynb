{
 "cells": [
  {
   "cell_type": "code",
   "execution_count": 1,
   "metadata": {
    "execution": {
     "iopub.execute_input": "2024-11-11T03:16:10.862251Z",
     "iopub.status.busy": "2024-11-11T03:16:10.861251Z",
     "iopub.status.idle": "2024-11-11T03:16:10.924009Z",
     "shell.execute_reply": "2024-11-11T03:16:10.924009Z"
    }
   },
   "outputs": [
    {
     "name": "stderr",
     "output_type": "stream",
     "text": [
      "python3: can't open file 'c:\\\\Users\\\\Usuario\\\\Desktop\\\\reps\\\\Rapido-Furioso\\\\pip': [Errno 2] No such file or directory\n"
     ]
    }
   ],
   "source": [
    "#librerias\n",
    "#%pip install -r requirements.txt\n",
    "!python3 pip install -r requirements.txt"
   ]
  },
  {
   "cell_type": "code",
   "execution_count": 2,
   "metadata": {
    "execution": {
     "iopub.execute_input": "2024-11-11T03:16:10.925014Z",
     "iopub.status.busy": "2024-11-11T03:16:10.925014Z",
     "iopub.status.idle": "2024-11-11T03:16:11.326152Z",
     "shell.execute_reply": "2024-11-11T03:16:11.326152Z"
    }
   },
   "outputs": [],
   "source": [
    "import pandas as pd\n",
    "from connection_script import engine_bodega, engine_etl"
   ]
  },
  {
   "cell_type": "code",
   "execution_count": 3,
   "metadata": {
    "execution": {
     "iopub.execute_input": "2024-11-11T03:16:11.328157Z",
     "iopub.status.busy": "2024-11-11T03:16:11.327156Z",
     "iopub.status.idle": "2024-11-11T03:16:11.366685Z",
     "shell.execute_reply": "2024-11-11T03:16:11.366685Z"
    }
   },
   "outputs": [],
   "source": [
    "query = \"SELECT * FROM mensajeria_origenservicio\"\n",
    "\n",
    "df_origenservicio = pd.read_sql(query, engine_bodega)"
   ]
  },
  {
   "cell_type": "code",
   "execution_count": 4,
   "metadata": {
    "execution": {
     "iopub.execute_input": "2024-11-11T03:16:11.367690Z",
     "iopub.status.busy": "2024-11-11T03:16:11.367690Z",
     "iopub.status.idle": "2024-11-11T03:16:11.371026Z",
     "shell.execute_reply": "2024-11-11T03:16:11.371026Z"
    }
   },
   "outputs": [],
   "source": [
    "df_origenservicio = df_origenservicio.rename(columns={\n",
    "    'id': 'id_origen',\n",
    "    'cliente_id': 'id_cliente',\n",
    "    'ciudad_id': 'id_ciudad'\n",
    "})"
   ]
  },
  {
   "cell_type": "code",
   "execution_count": 5,
   "metadata": {
    "execution": {
     "iopub.execute_input": "2024-11-11T03:16:11.372031Z",
     "iopub.status.busy": "2024-11-11T03:16:11.372031Z",
     "iopub.status.idle": "2024-11-11T03:16:11.375039Z",
     "shell.execute_reply": "2024-11-11T03:16:11.375039Z"
    }
   },
   "outputs": [],
   "source": [
    "if df_origenservicio.isnull().values.any():\n",
    "    print(\"Advertencia: Hay valores nulos en el DataFrame.\")\n"
   ]
  },
  {
   "cell_type": "code",
   "execution_count": 6,
   "metadata": {
    "execution": {
     "iopub.execute_input": "2024-11-11T03:16:11.376043Z",
     "iopub.status.busy": "2024-11-11T03:16:11.376043Z",
     "iopub.status.idle": "2024-11-11T03:16:11.430880Z",
     "shell.execute_reply": "2024-11-11T03:16:11.430880Z"
    }
   },
   "outputs": [
    {
     "data": {
      "text/plain": [
       "741"
      ]
     },
     "execution_count": 6,
     "metadata": {},
     "output_type": "execute_result"
    }
   ],
   "source": [
    "# Obtener los 'id_origen' existentes en la base de datos ETL para evitar duplicados\n",
    "existing_ids_query = \"SELECT id_origen FROM origen_servicio\"\n",
    "existing_ids = pd.read_sql(existing_ids_query, engine_etl)\n",
    "\n",
    "# Filtrar los registros de 'df_origenservicio' que ya existen en la base de datos ETL\n",
    "df_origenservicio = df_origenservicio[~df_origenservicio['id_origen'].isin(existing_ids['id_origen'])]\n",
    "\n",
    "# Cargar los datos transformados en la base de datos ETL\n",
    "df_origenservicio.to_sql('origen_servicio', con=engine_etl, if_exists=\"append\", index=False)\n"
   ]
  },
  {
   "cell_type": "code",
   "execution_count": 7,
   "metadata": {
    "execution": {
     "iopub.execute_input": "2024-11-11T03:16:11.431885Z",
     "iopub.status.busy": "2024-11-11T03:16:11.431885Z",
     "iopub.status.idle": "2024-11-11T03:16:11.436325Z",
     "shell.execute_reply": "2024-11-11T03:16:11.436325Z"
    }
   },
   "outputs": [
    {
     "name": "stdout",
     "output_type": "stream",
     "text": [
      "   id_origen                    direccion  id_cliente  id_ciudad\n",
      "0         94  Los angeles distrito Latino          11          1\n",
      "1         95  Los angeles distrito Latino          11          6\n",
      "2         96  Los angeles distrito Latino          11          1\n",
      "3         55  Los angeles distrito Latino          11          1\n",
      "4         79  Los angeles distrito Latino          11          8\n"
     ]
    }
   ],
   "source": [
    "print(df_origenservicio.head())"
   ]
  }
 ],
 "metadata": {
  "kernelspec": {
   "display_name": ".venv",
   "language": "python",
   "name": "python3"
  },
  "language_info": {
   "codemirror_mode": {
    "name": "ipython",
    "version": 3
   },
   "file_extension": ".py",
   "mimetype": "text/x-python",
   "name": "python",
   "nbconvert_exporter": "python",
   "pygments_lexer": "ipython3",
   "version": "3.12.7"
  }
 },
 "nbformat": 4,
 "nbformat_minor": 2
}
