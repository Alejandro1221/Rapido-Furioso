{
 "cells": [
  {
   "cell_type": "code",
   "execution_count": 1,
   "metadata": {
    "execution": {
     "iopub.execute_input": "2024-11-11T01:04:43.734588Z",
     "iopub.status.busy": "2024-11-11T01:04:43.733587Z",
     "iopub.status.idle": "2024-11-11T01:04:43.798239Z",
     "shell.execute_reply": "2024-11-11T01:04:43.798239Z"
    }
   },
   "outputs": [
    {
     "name": "stderr",
     "output_type": "stream",
     "text": [
      "python3: can't open file 'c:\\\\Users\\\\Usuario\\\\Desktop\\\\reps\\\\Rapido-Furioso\\\\pip': [Errno 2] No such file or directory\n"
     ]
    }
   ],
   "source": [
    "#librerias\n",
    "#%pip install -r requirements.txt\n",
    "!python3 pip install -r requirements.txt"
   ]
  },
  {
   "cell_type": "code",
   "execution_count": 2,
   "metadata": {
    "execution": {
     "iopub.execute_input": "2024-11-11T01:04:43.799749Z",
     "iopub.status.busy": "2024-11-11T01:04:43.799749Z",
     "iopub.status.idle": "2024-11-11T01:04:44.232897Z",
     "shell.execute_reply": "2024-11-11T01:04:44.232897Z"
    }
   },
   "outputs": [],
   "source": [
    "import pandas as pd\n",
    "from connection_script import engine_bodega, engine_etl"
   ]
  },
  {
   "cell_type": "code",
   "execution_count": 3,
   "metadata": {
    "execution": {
     "iopub.execute_input": "2024-11-11T01:04:44.234902Z",
     "iopub.status.busy": "2024-11-11T01:04:44.234902Z",
     "iopub.status.idle": "2024-11-11T01:04:44.275903Z",
     "shell.execute_reply": "2024-11-11T01:04:44.275903Z"
    }
   },
   "outputs": [],
   "source": [
    "query = \"SELECT * FROM mensajeria_origenservicio\"\n",
    "\n",
    "df_origenservicio = pd.read_sql(query, engine_bodega)"
   ]
  },
  {
   "cell_type": "code",
   "execution_count": 4,
   "metadata": {
    "execution": {
     "iopub.execute_input": "2024-11-11T01:04:44.277908Z",
     "iopub.status.busy": "2024-11-11T01:04:44.277908Z",
     "iopub.status.idle": "2024-11-11T01:04:44.280388Z",
     "shell.execute_reply": "2024-11-11T01:04:44.280388Z"
    }
   },
   "outputs": [],
   "source": [
    "df_origenservicio = df_origenservicio.rename(columns={\n",
    "    'id': 'id_origen',\n",
    "    'cliente_id': 'id_cliente',\n",
    "    'ciudad_id': 'id_ciudad'\n",
    "})"
   ]
  },
  {
   "cell_type": "code",
   "execution_count": 5,
   "metadata": {
    "execution": {
     "iopub.execute_input": "2024-11-11T01:04:44.281393Z",
     "iopub.status.busy": "2024-11-11T01:04:44.281393Z",
     "iopub.status.idle": "2024-11-11T01:04:44.285013Z",
     "shell.execute_reply": "2024-11-11T01:04:44.285013Z"
    }
   },
   "outputs": [],
   "source": [
    "if df_origenservicio.isnull().values.any():\n",
    "    print(\"Advertencia: Hay valores nulos en el DataFrame.\")\n"
   ]
  },
  {
   "cell_type": "code",
   "execution_count": 6,
   "metadata": {
    "execution": {
     "iopub.execute_input": "2024-11-11T01:04:44.286018Z",
     "iopub.status.busy": "2024-11-11T01:04:44.286018Z",
     "iopub.status.idle": "2024-11-11T01:04:44.344669Z",
     "shell.execute_reply": "2024-11-11T01:04:44.344669Z"
    }
   },
   "outputs": [
    {
     "data": {
      "text/plain": [
       "741"
      ]
     },
     "execution_count": 6,
     "metadata": {},
     "output_type": "execute_result"
    }
   ],
   "source": [
    "# Obtener los 'id_origen' existentes en la base de datos ETL para evitar duplicados\n",
    "existing_ids_query = \"SELECT id_origen FROM origen_servicio\"\n",
    "existing_ids = pd.read_sql(existing_ids_query, engine_etl)\n",
    "\n",
    "# Filtrar los registros de 'df_origenservicio' que ya existen en la base de datos ETL\n",
    "df_origenservicio = df_origenservicio[~df_origenservicio['id_origen'].isin(existing_ids['id_origen'])]\n",
    "\n",
    "# Cargar los datos transformados en la base de datos ETL\n",
    "df_origenservicio.to_sql('origen_servicio', con=engine_etl, if_exists=\"append\", index=False)\n"
   ]
  },
  {
   "cell_type": "code",
   "execution_count": 7,
   "metadata": {
    "execution": {
     "iopub.execute_input": "2024-11-11T01:04:44.345673Z",
     "iopub.status.busy": "2024-11-11T01:04:44.345673Z",
     "iopub.status.idle": "2024-11-11T01:04:44.350272Z",
     "shell.execute_reply": "2024-11-11T01:04:44.350272Z"
    }
   },
   "outputs": [
    {
     "name": "stdout",
     "output_type": "stream",
     "text": [
      "   id_origen                    direccion  id_cliente  id_ciudad\n",
      "0         94  Los angeles distrito Latino          11          1\n",
      "1         95  Los angeles distrito Latino          11          6\n",
      "2         96  Los angeles distrito Latino          11          1\n",
      "3         55  Los angeles distrito Latino          11          1\n",
      "4         79  Los angeles distrito Latino          11          8\n"
     ]
    }
   ],
   "source": [
    "print(df_origenservicio.head())"
   ]
  }
 ],
 "metadata": {
  "kernelspec": {
   "display_name": ".venv",
   "language": "python",
   "name": "python3"
  },
  "language_info": {
   "codemirror_mode": {
    "name": "ipython",
    "version": 3
   },
   "file_extension": ".py",
   "mimetype": "text/x-python",
   "name": "python",
   "nbconvert_exporter": "python",
   "pygments_lexer": "ipython3",
   "version": "3.12.7"
  }
 },
 "nbformat": 4,
 "nbformat_minor": 2
}
