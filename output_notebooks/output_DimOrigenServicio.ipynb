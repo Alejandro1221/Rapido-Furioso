{
 "cells": [
  {
   "cell_type": "code",
   "execution_count": 1,
   "metadata": {
    "execution": {
     "iopub.execute_input": "2024-11-10T07:16:22.470704Z",
     "iopub.status.busy": "2024-11-10T07:16:22.470085Z",
     "iopub.status.idle": "2024-11-10T07:16:23.216705Z",
     "shell.execute_reply": "2024-11-10T07:16:23.215812Z"
    }
   },
   "outputs": [
    {
     "name": "stdout",
     "output_type": "stream",
     "text": [
      "/Library/Frameworks/Python.framework/Versions/3.12/Resources/Python.app/Contents/MacOS/Python: can't open file '/Users/jhonfreddypopomoreno/code/Univalle/Rapido-Furioso/pip': [Errno 2] No such file or directory\r\n"
     ]
    }
   ],
   "source": [
    "#librerias\n",
    "#%pip install -r requirements.txt\n",
    "!python3 pip install -r requirements.txt"
   ]
  },
  {
   "cell_type": "code",
   "execution_count": 2,
   "metadata": {
    "execution": {
     "iopub.execute_input": "2024-11-10T07:16:23.221699Z",
     "iopub.status.busy": "2024-11-10T07:16:23.221290Z",
     "iopub.status.idle": "2024-11-10T07:16:24.863823Z",
     "shell.execute_reply": "2024-11-10T07:16:24.859376Z"
    }
   },
   "outputs": [],
   "source": [
    "import pandas as pd\n",
    "from connection_script import engine_bodega, engine_etl"
   ]
  },
  {
   "cell_type": "code",
   "execution_count": 3,
   "metadata": {
    "execution": {
     "iopub.execute_input": "2024-11-10T07:16:24.871540Z",
     "iopub.status.busy": "2024-11-10T07:16:24.871052Z",
     "iopub.status.idle": "2024-11-10T07:16:25.194169Z",
     "shell.execute_reply": "2024-11-10T07:16:25.191178Z"
    }
   },
   "outputs": [],
   "source": [
    "query = \"SELECT * FROM mensajeria_origenservicio\"\n",
    "\n",
    "df_origenservicio = pd.read_sql(query, engine_bodega)"
   ]
  },
  {
   "cell_type": "code",
   "execution_count": 4,
   "metadata": {
    "execution": {
     "iopub.execute_input": "2024-11-10T07:16:25.212474Z",
     "iopub.status.busy": "2024-11-10T07:16:25.212060Z",
     "iopub.status.idle": "2024-11-10T07:16:25.222333Z",
     "shell.execute_reply": "2024-11-10T07:16:25.217131Z"
    }
   },
   "outputs": [],
   "source": [
    "df_origenservicio = df_origenservicio.rename(columns={\n",
    "    'id': 'id_origen',\n",
    "    'cliente_id': 'id_cliente',\n",
    "    'ciudad_id': 'id_ciudad'\n",
    "})"
   ]
  },
  {
   "cell_type": "code",
   "execution_count": 5,
   "metadata": {
    "execution": {
     "iopub.execute_input": "2024-11-10T07:16:25.229816Z",
     "iopub.status.busy": "2024-11-10T07:16:25.229337Z",
     "iopub.status.idle": "2024-11-10T07:16:25.239466Z",
     "shell.execute_reply": "2024-11-10T07:16:25.238431Z"
    }
   },
   "outputs": [],
   "source": [
    "if df_origenservicio.isnull().values.any():\n",
    "    print(\"Advertencia: Hay valores nulos en el DataFrame.\")\n"
   ]
  },
  {
   "cell_type": "code",
   "execution_count": 6,
   "metadata": {
    "execution": {
     "iopub.execute_input": "2024-11-10T07:16:25.245861Z",
     "iopub.status.busy": "2024-11-10T07:16:25.245324Z",
     "iopub.status.idle": "2024-11-10T07:16:25.353500Z",
     "shell.execute_reply": "2024-11-10T07:16:25.350750Z"
    }
   },
   "outputs": [
    {
     "data": {
      "text/plain": [
       "741"
      ]
     },
     "execution_count": 6,
     "metadata": {},
     "output_type": "execute_result"
    }
   ],
   "source": [
    "# Obtener los 'id_origen' existentes en la base de datos ETL para evitar duplicados\n",
    "existing_ids_query = \"SELECT id_origen FROM origen_servicio\"\n",
    "existing_ids = pd.read_sql(existing_ids_query, engine_etl)\n",
    "\n",
    "# Filtrar los registros de 'df_origenservicio' que ya existen en la base de datos ETL\n",
    "df_origenservicio = df_origenservicio[~df_origenservicio['id_origen'].isin(existing_ids['id_origen'])]\n",
    "\n",
    "# Cargar los datos transformados en la base de datos ETL\n",
    "df_origenservicio.to_sql('origen_servicio', con=engine_etl, if_exists=\"append\", index=False)\n"
   ]
  },
  {
   "cell_type": "code",
   "execution_count": 7,
   "metadata": {
    "execution": {
     "iopub.execute_input": "2024-11-10T07:16:25.357448Z",
     "iopub.status.busy": "2024-11-10T07:16:25.357059Z",
     "iopub.status.idle": "2024-11-10T07:16:25.381004Z",
     "shell.execute_reply": "2024-11-10T07:16:25.379921Z"
    }
   },
   "outputs": [
    {
     "name": "stdout",
     "output_type": "stream",
     "text": [
      "   id_origen                    direccion  id_cliente  id_ciudad\n",
      "0         94  Los angeles distrito Latino          11          1\n",
      "1         95  Los angeles distrito Latino          11          6\n",
      "2         96  Los angeles distrito Latino          11          1\n",
      "3         55  Los angeles distrito Latino          11          1\n",
      "4         79  Los angeles distrito Latino          11          8\n"
     ]
    }
   ],
   "source": [
    "print(df_origenservicio.head())"
   ]
  }
 ],
 "metadata": {
  "kernelspec": {
   "display_name": "Python 3",
   "language": "python",
   "name": "myenv"
  },
  "language_info": {
   "codemirror_mode": {
    "name": "ipython",
    "version": 3
   },
   "file_extension": ".py",
   "mimetype": "text/x-python",
   "name": "python",
   "nbconvert_exporter": "python",
   "pygments_lexer": "ipython3",
   "version": "3.12.3"
  }
 },
 "nbformat": 4,
 "nbformat_minor": 2
}
