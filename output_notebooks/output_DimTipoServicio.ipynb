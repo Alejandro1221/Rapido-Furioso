{
 "cells": [
  {
   "cell_type": "markdown",
   "metadata": {},
   "source": [
    "## Dimension tipo de servicio"
   ]
  },
  {
   "cell_type": "code",
   "execution_count": 1,
   "metadata": {
    "execution": {
     "iopub.execute_input": "2024-11-10T07:16:09.139287Z",
     "iopub.status.busy": "2024-11-10T07:16:09.138230Z",
     "iopub.status.idle": "2024-11-10T07:16:09.962897Z",
     "shell.execute_reply": "2024-11-10T07:16:09.961853Z"
    }
   },
   "outputs": [
    {
     "name": "stdout",
     "output_type": "stream",
     "text": [
      "/Library/Frameworks/Python.framework/Versions/3.12/Resources/Python.app/Contents/MacOS/Python: can't open file '/Users/jhonfreddypopomoreno/code/Univalle/Rapido-Furioso/pip': [Errno 2] No such file or directory\r\n"
     ]
    }
   ],
   "source": [
    "#librerias\n",
    "#%pip install -r requirements.txt\n",
    "!python3 pip install -r requirements.txt"
   ]
  },
  {
   "cell_type": "code",
   "execution_count": 2,
   "metadata": {
    "execution": {
     "iopub.execute_input": "2024-11-10T07:16:09.967983Z",
     "iopub.status.busy": "2024-11-10T07:16:09.967129Z",
     "iopub.status.idle": "2024-11-10T07:16:11.165504Z",
     "shell.execute_reply": "2024-11-10T07:16:11.164452Z"
    }
   },
   "outputs": [],
   "source": [
    "import pandas as pd\n",
    "from connection_script import engine_bodega, engine_etl"
   ]
  },
  {
   "cell_type": "code",
   "execution_count": 3,
   "metadata": {
    "execution": {
     "iopub.execute_input": "2024-11-10T07:16:11.170440Z",
     "iopub.status.busy": "2024-11-10T07:16:11.169994Z",
     "iopub.status.idle": "2024-11-10T07:16:11.285076Z",
     "shell.execute_reply": "2024-11-10T07:16:11.283676Z"
    }
   },
   "outputs": [],
   "source": [
    "query = \"\"\"\n",
    "    SELECT id,nombre\n",
    "    FROM mensajeria_tiposervicio\n",
    "\"\"\"\n",
    "\n",
    "# Ejecutar la consulta y cargar los datos en un DataFrame de Pandas\n",
    "tipo_servicio_df = pd.read_sql(query, engine_bodega)\n"
   ]
  },
  {
   "cell_type": "code",
   "execution_count": 4,
   "metadata": {
    "execution": {
     "iopub.execute_input": "2024-11-10T07:16:11.288932Z",
     "iopub.status.busy": "2024-11-10T07:16:11.288522Z",
     "iopub.status.idle": "2024-11-10T07:16:11.304271Z",
     "shell.execute_reply": "2024-11-10T07:16:11.303047Z"
    }
   },
   "outputs": [],
   "source": [
    "tipo_servicio_df = tipo_servicio_df.rename(columns={\n",
    "    'id': 'id_tipo_servicio'\n",
    "})\n",
    "\n"
   ]
  },
  {
   "cell_type": "code",
   "execution_count": 5,
   "metadata": {
    "execution": {
     "iopub.execute_input": "2024-11-10T07:16:11.311660Z",
     "iopub.status.busy": "2024-11-10T07:16:11.311217Z",
     "iopub.status.idle": "2024-11-10T07:16:11.317836Z",
     "shell.execute_reply": "2024-11-10T07:16:11.315747Z"
    }
   },
   "outputs": [],
   "source": [
    "if tipo_servicio_df.isnull().values.any():\n",
    "    print(\"Advertencia: Hay valores nulos en el DataFrame.\")"
   ]
  },
  {
   "cell_type": "code",
   "execution_count": 6,
   "metadata": {
    "execution": {
     "iopub.execute_input": "2024-11-10T07:16:11.323064Z",
     "iopub.status.busy": "2024-11-10T07:16:11.322679Z",
     "iopub.status.idle": "2024-11-10T07:16:11.432759Z",
     "shell.execute_reply": "2024-11-10T07:16:11.431809Z"
    }
   },
   "outputs": [
    {
     "data": {
      "text/plain": [
       "4"
      ]
     },
     "execution_count": 6,
     "metadata": {},
     "output_type": "execute_result"
    }
   ],
   "source": [
    "# Cargar los datos transformados en la base de datos ETL\n",
    "\n",
    "existing_ids_query = \"SELECT id_tipo_servicio FROM tipo_servicio\"\n",
    "existing_ids = pd.read_sql(existing_ids_query, engine_etl)\n",
    "\n",
    "# Filtrar los registros que ya existen en la base de datos ETL\n",
    "tipo_servicio_df = tipo_servicio_df[~tipo_servicio_df['id_tipo_servicio'].isin(existing_ids['id_tipo_servicio'])]\n",
    "\n",
    "# Cargar los datos transformados en la base de datos ETL\n",
    "tipo_servicio_df.to_sql('tipo_servicio', con=engine_etl, if_exists=\"append\", index=False)\n"
   ]
  },
  {
   "cell_type": "code",
   "execution_count": 7,
   "metadata": {
    "execution": {
     "iopub.execute_input": "2024-11-10T07:16:11.438312Z",
     "iopub.status.busy": "2024-11-10T07:16:11.437964Z",
     "iopub.status.idle": "2024-11-10T07:16:11.448555Z",
     "shell.execute_reply": "2024-11-10T07:16:11.447472Z"
    }
   },
   "outputs": [
    {
     "name": "stdout",
     "output_type": "stream",
     "text": [
      "   id_tipo_servicio          nombre\n",
      "0                 1  Administrativo\n",
      "1                 2       Comercial\n",
      "2                 3         Clínico\n",
      "3                 4  Urgencia Vital\n"
     ]
    }
   ],
   "source": [
    "print(tipo_servicio_df.head(15))"
   ]
  }
 ],
 "metadata": {
  "kernelspec": {
   "display_name": "Python 3",
   "language": "python",
   "name": "myenv"
  },
  "language_info": {
   "codemirror_mode": {
    "name": "ipython",
    "version": 3
   },
   "file_extension": ".py",
   "mimetype": "text/x-python",
   "name": "python",
   "nbconvert_exporter": "python",
   "pygments_lexer": "ipython3",
   "version": "3.12.3"
  }
 },
 "nbformat": 4,
 "nbformat_minor": 2
}
