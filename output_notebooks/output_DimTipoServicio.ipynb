{
 "cells": [
  {
   "cell_type": "markdown",
   "metadata": {},
   "source": [
    "## Dimension tipo de servicio"
   ]
  },
  {
   "cell_type": "code",
   "execution_count": 1,
   "metadata": {
    "execution": {
     "iopub.execute_input": "2024-11-11T03:16:05.665155Z",
     "iopub.status.busy": "2024-11-11T03:16:05.665155Z",
     "iopub.status.idle": "2024-11-11T03:16:05.728696Z",
     "shell.execute_reply": "2024-11-11T03:16:05.728696Z"
    }
   },
   "outputs": [
    {
     "name": "stderr",
     "output_type": "stream",
     "text": [
      "python3: can't open file 'c:\\\\Users\\\\Usuario\\\\Desktop\\\\reps\\\\Rapido-Furioso\\\\pip': [Errno 2] No such file or directory\n"
     ]
    }
   ],
   "source": [
    "#librerias\n",
    "#%pip install -r requirements.txt\n",
    "!python3 pip install -r requirements.txt"
   ]
  },
  {
   "cell_type": "code",
   "execution_count": 2,
   "metadata": {
    "execution": {
     "iopub.execute_input": "2024-11-11T03:16:05.730209Z",
     "iopub.status.busy": "2024-11-11T03:16:05.730209Z",
     "iopub.status.idle": "2024-11-11T03:16:06.134460Z",
     "shell.execute_reply": "2024-11-11T03:16:06.134460Z"
    }
   },
   "outputs": [],
   "source": [
    "import pandas as pd\n",
    "from connection_script import engine_bodega, engine_etl"
   ]
  },
  {
   "cell_type": "code",
   "execution_count": 3,
   "metadata": {
    "execution": {
     "iopub.execute_input": "2024-11-11T03:16:06.135465Z",
     "iopub.status.busy": "2024-11-11T03:16:06.135465Z",
     "iopub.status.idle": "2024-11-11T03:16:06.172544Z",
     "shell.execute_reply": "2024-11-11T03:16:06.172544Z"
    }
   },
   "outputs": [],
   "source": [
    "query = \"\"\"\n",
    "    SELECT id,nombre\n",
    "    FROM mensajeria_tiposervicio\n",
    "\"\"\"\n",
    "\n",
    "# Ejecutar la consulta y cargar los datos en un DataFrame de Pandas\n",
    "tipo_servicio_df = pd.read_sql(query, engine_bodega)\n"
   ]
  },
  {
   "cell_type": "code",
   "execution_count": 4,
   "metadata": {
    "execution": {
     "iopub.execute_input": "2024-11-11T03:16:06.173547Z",
     "iopub.status.busy": "2024-11-11T03:16:06.173547Z",
     "iopub.status.idle": "2024-11-11T03:16:06.176498Z",
     "shell.execute_reply": "2024-11-11T03:16:06.176498Z"
    }
   },
   "outputs": [],
   "source": [
    "tipo_servicio_df = tipo_servicio_df.rename(columns={\n",
    "    'id': 'id_tipo_servicio'\n",
    "})\n",
    "\n"
   ]
  },
  {
   "cell_type": "code",
   "execution_count": 5,
   "metadata": {
    "execution": {
     "iopub.execute_input": "2024-11-11T03:16:06.177504Z",
     "iopub.status.busy": "2024-11-11T03:16:06.177504Z",
     "iopub.status.idle": "2024-11-11T03:16:06.180353Z",
     "shell.execute_reply": "2024-11-11T03:16:06.180353Z"
    }
   },
   "outputs": [],
   "source": [
    "if tipo_servicio_df.isnull().values.any():\n",
    "    print(\"Advertencia: Hay valores nulos en el DataFrame.\")"
   ]
  },
  {
   "cell_type": "code",
   "execution_count": 6,
   "metadata": {
    "execution": {
     "iopub.execute_input": "2024-11-11T03:16:06.181358Z",
     "iopub.status.busy": "2024-11-11T03:16:06.181358Z",
     "iopub.status.idle": "2024-11-11T03:16:06.220119Z",
     "shell.execute_reply": "2024-11-11T03:16:06.220119Z"
    }
   },
   "outputs": [
    {
     "data": {
      "text/plain": [
       "4"
      ]
     },
     "execution_count": 6,
     "metadata": {},
     "output_type": "execute_result"
    }
   ],
   "source": [
    "# Cargar los datos transformados en la base de datos ETL\n",
    "\n",
    "existing_ids_query = \"SELECT id_tipo_servicio FROM tipo_servicio\"\n",
    "existing_ids = pd.read_sql(existing_ids_query, engine_etl)\n",
    "\n",
    "# Filtrar los registros que ya existen en la base de datos ETL\n",
    "tipo_servicio_df = tipo_servicio_df[~tipo_servicio_df['id_tipo_servicio'].isin(existing_ids['id_tipo_servicio'])]\n",
    "\n",
    "# Cargar los datos transformados en la base de datos ETL\n",
    "tipo_servicio_df.to_sql('tipo_servicio', con=engine_etl, if_exists=\"append\", index=False)\n"
   ]
  },
  {
   "cell_type": "code",
   "execution_count": 7,
   "metadata": {
    "execution": {
     "iopub.execute_input": "2024-11-11T03:16:06.221279Z",
     "iopub.status.busy": "2024-11-11T03:16:06.221279Z",
     "iopub.status.idle": "2024-11-11T03:16:06.225023Z",
     "shell.execute_reply": "2024-11-11T03:16:06.225023Z"
    }
   },
   "outputs": [
    {
     "name": "stdout",
     "output_type": "stream",
     "text": [
      "   id_tipo_servicio          nombre\n",
      "0                 1  Administrativo\n",
      "1                 2       Comercial\n",
      "2                 3         Cl�nico\n",
      "3                 4  Urgencia Vital\n"
     ]
    }
   ],
   "source": [
    "print(tipo_servicio_df.head(15))"
   ]
  }
 ],
 "metadata": {
  "kernelspec": {
   "display_name": ".venv",
   "language": "python",
   "name": "python3"
  },
  "language_info": {
   "codemirror_mode": {
    "name": "ipython",
    "version": 3
   },
   "file_extension": ".py",
   "mimetype": "text/x-python",
   "name": "python",
   "nbconvert_exporter": "python",
   "pygments_lexer": "ipython3",
   "version": "3.12.7"
  }
 },
 "nbformat": 4,
 "nbformat_minor": 2
}
