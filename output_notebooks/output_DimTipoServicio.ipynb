{
 "cells": [
  {
   "cell_type": "markdown",
   "metadata": {},
   "source": [
    "## Dimension tipo de servicio"
   ]
  },
  {
   "cell_type": "code",
   "execution_count": 1,
   "metadata": {
    "execution": {
     "iopub.execute_input": "2024-11-09T04:24:34.210444Z",
     "iopub.status.busy": "2024-11-09T04:24:34.210444Z",
     "iopub.status.idle": "2024-11-09T04:24:35.507228Z",
     "shell.execute_reply": "2024-11-09T04:24:35.507228Z"
    }
   },
   "outputs": [
    {
     "name": "stdout",
     "output_type": "stream",
     "text": [
      "Requirement already satisfied: pandas in c:\\users\\usuario\\desktop\\reps\\rapido-furioso\\.venv\\lib\\site-packages (from -r requirements.txt (line 1)) (2.2.3)\n",
      "Requirement already satisfied: sqlalchemy in c:\\users\\usuario\\desktop\\reps\\rapido-furioso\\.venv\\lib\\site-packages (from -r requirements.txt (line 2)) (2.0.36)\n",
      "Requirement already satisfied: python-dotenv in c:\\users\\usuario\\desktop\\reps\\rapido-furioso\\.venv\\lib\\site-packages (from -r requirements.txt (line 3)) (1.0.1)\n",
      "Requirement already satisfied: psycopg2 in c:\\users\\usuario\\desktop\\reps\\rapido-furioso\\.venv\\lib\\site-packages (from -r requirements.txt (line 4)) (2.9.10)\n",
      "Requirement already satisfied: numpy>=1.26.0 in c:\\users\\usuario\\desktop\\reps\\rapido-furioso\\.venv\\lib\\site-packages (from pandas->-r requirements.txt (line 1)) (2.1.3)\n",
      "Requirement already satisfied: python-dateutil>=2.8.2 in c:\\users\\usuario\\desktop\\reps\\rapido-furioso\\.venv\\lib\\site-packages (from pandas->-r requirements.txt (line 1)) (2.9.0.post0)\n",
      "Requirement already satisfied: pytz>=2020.1 in c:\\users\\usuario\\desktop\\reps\\rapido-furioso\\.venv\\lib\\site-packages (from pandas->-r requirements.txt (line 1)) (2024.2)\n",
      "Requirement already satisfied: tzdata>=2022.7 in c:\\users\\usuario\\desktop\\reps\\rapido-furioso\\.venv\\lib\\site-packages (from pandas->-r requirements.txt (line 1)) (2024.2)\n",
      "Requirement already satisfied: typing-extensions>=4.6.0 in c:\\users\\usuario\\desktop\\reps\\rapido-furioso\\.venv\\lib\\site-packages (from sqlalchemy->-r requirements.txt (line 2)) (4.12.2)\n",
      "Requirement already satisfied: greenlet!=0.4.17 in c:\\users\\usuario\\desktop\\reps\\rapido-furioso\\.venv\\lib\\site-packages (from sqlalchemy->-r requirements.txt (line 2)) (3.1.1)\n",
      "Requirement already satisfied: six>=1.5 in c:\\users\\usuario\\desktop\\reps\\rapido-furioso\\.venv\\lib\\site-packages (from python-dateutil>=2.8.2->pandas->-r requirements.txt (line 1)) (1.16.0)\n",
      "Note: you may need to restart the kernel to use updated packages.\n"
     ]
    }
   ],
   "source": [
    "#librerias\n",
    "%pip install -r requirements.txt"
   ]
  },
  {
   "cell_type": "code",
   "execution_count": 2,
   "metadata": {
    "execution": {
     "iopub.execute_input": "2024-11-09T04:24:35.509234Z",
     "iopub.status.busy": "2024-11-09T04:24:35.508233Z",
     "iopub.status.idle": "2024-11-09T04:24:35.939019Z",
     "shell.execute_reply": "2024-11-09T04:24:35.939019Z"
    }
   },
   "outputs": [],
   "source": [
    "import pandas as pd\n",
    "from connection_script import engine_bodega, engine_etl"
   ]
  },
  {
   "cell_type": "code",
   "execution_count": 3,
   "metadata": {
    "execution": {
     "iopub.execute_input": "2024-11-09T04:24:35.941027Z",
     "iopub.status.busy": "2024-11-09T04:24:35.941027Z",
     "iopub.status.idle": "2024-11-09T04:24:35.979384Z",
     "shell.execute_reply": "2024-11-09T04:24:35.979384Z"
    }
   },
   "outputs": [],
   "source": [
    "query = \"\"\"\n",
    "    SELECT id,nombre\n",
    "    FROM mensajeria_tiposervicio\n",
    "\"\"\"\n",
    "\n",
    "# Ejecutar la consulta y cargar los datos en un DataFrame de Pandas\n",
    "tipo_servicio_df = pd.read_sql(query, engine_bodega)\n"
   ]
  },
  {
   "cell_type": "code",
   "execution_count": 4,
   "metadata": {
    "execution": {
     "iopub.execute_input": "2024-11-09T04:24:35.980390Z",
     "iopub.status.busy": "2024-11-09T04:24:35.980390Z",
     "iopub.status.idle": "2024-11-09T04:24:35.983436Z",
     "shell.execute_reply": "2024-11-09T04:24:35.983436Z"
    }
   },
   "outputs": [],
   "source": [
    "tipo_servicio_df = tipo_servicio_df.rename(columns={\n",
    "    'id': 'id_tipo_servicio'\n",
    "})\n",
    "\n"
   ]
  },
  {
   "cell_type": "code",
   "execution_count": 5,
   "metadata": {
    "execution": {
     "iopub.execute_input": "2024-11-09T04:24:35.984442Z",
     "iopub.status.busy": "2024-11-09T04:24:35.984442Z",
     "iopub.status.idle": "2024-11-09T04:24:35.987336Z",
     "shell.execute_reply": "2024-11-09T04:24:35.987336Z"
    }
   },
   "outputs": [],
   "source": [
    "if tipo_servicio_df.isnull().values.any():\n",
    "    print(\"Advertencia: Hay valores nulos en el DataFrame.\")"
   ]
  },
  {
   "cell_type": "code",
   "execution_count": 6,
   "metadata": {
    "execution": {
     "iopub.execute_input": "2024-11-09T04:24:35.988343Z",
     "iopub.status.busy": "2024-11-09T04:24:35.988343Z",
     "iopub.status.idle": "2024-11-09T04:24:36.026418Z",
     "shell.execute_reply": "2024-11-09T04:24:36.026418Z"
    }
   },
   "outputs": [
    {
     "data": {
      "text/plain": [
       "0"
      ]
     },
     "execution_count": 6,
     "metadata": {},
     "output_type": "execute_result"
    }
   ],
   "source": [
    "# Cargar los datos transformados en la base de datos ETL\n",
    "\n",
    "existing_ids_query = \"SELECT id_tipo_servicio FROM tipo_servicio\"\n",
    "existing_ids = pd.read_sql(existing_ids_query, engine_etl)\n",
    "\n",
    "# Filtrar los registros que ya existen en la base de datos ETL\n",
    "tipo_servicio_df = tipo_servicio_df[~tipo_servicio_df['id_tipo_servicio'].isin(existing_ids['id_tipo_servicio'])]\n",
    "\n",
    "# Cargar los datos transformados en la base de datos ETL\n",
    "tipo_servicio_df.to_sql('tipo_servicio', con=engine_etl, if_exists=\"append\", index=False)\n"
   ]
  },
  {
   "cell_type": "code",
   "execution_count": 7,
   "metadata": {
    "execution": {
     "iopub.execute_input": "2024-11-09T04:24:36.027424Z",
     "iopub.status.busy": "2024-11-09T04:24:36.027424Z",
     "iopub.status.idle": "2024-11-09T04:24:36.031020Z",
     "shell.execute_reply": "2024-11-09T04:24:36.031020Z"
    }
   },
   "outputs": [
    {
     "name": "stdout",
     "output_type": "stream",
     "text": [
      "Empty DataFrame\n",
      "Columns: [id_tipo_servicio, nombre]\n",
      "Index: []\n"
     ]
    }
   ],
   "source": [
    "print(tipo_servicio_df.head(15))"
   ]
  }
 ],
 "metadata": {
  "kernelspec": {
   "display_name": "Python 3",
   "language": "python",
   "name": "python3"
  },
  "language_info": {
   "codemirror_mode": {
    "name": "ipython",
    "version": 3
   },
   "file_extension": ".py",
   "mimetype": "text/x-python",
   "name": "python",
   "nbconvert_exporter": "python",
   "pygments_lexer": "ipython3",
   "version": "3.12.7"
  }
 },
 "nbformat": 4,
 "nbformat_minor": 2
}
