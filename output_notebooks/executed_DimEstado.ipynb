{
 "cells": [
  {
   "cell_type": "code",
   "execution_count": 1,
   "metadata": {
    "execution": {
     "iopub.execute_input": "2024-11-09T04:31:06.745493Z",
     "iopub.status.busy": "2024-11-09T04:31:06.744828Z",
     "iopub.status.idle": "2024-11-09T04:31:08.541303Z",
     "shell.execute_reply": "2024-11-09T04:31:08.538524Z"
    }
   },
   "outputs": [
    {
     "name": "stdout",
     "output_type": "stream",
     "text": [
      "Requirement already satisfied: pandas in /Library/Frameworks/Python.framework/Versions/3.12/lib/python3.12/site-packages (from -r requirements.txt (line 1)) (2.2.2)\r\n",
      "Requirement already satisfied: sqlalchemy in /Library/Frameworks/Python.framework/Versions/3.12/lib/python3.12/site-packages (from -r requirements.txt (line 2)) (2.0.36)\r\n",
      "Requirement already satisfied: python-dotenv in /Library/Frameworks/Python.framework/Versions/3.12/lib/python3.12/site-packages (from -r requirements.txt (line 3)) (1.0.1)\r\n",
      "Requirement already satisfied: psycopg2 in /Library/Frameworks/Python.framework/Versions/3.12/lib/python3.12/site-packages (from -r requirements.txt (line 4)) (2.9.10)\r\n",
      "Requirement already satisfied: numpy>=1.26.0 in /Library/Frameworks/Python.framework/Versions/3.12/lib/python3.12/site-packages (from pandas->-r requirements.txt (line 1)) (1.26.4)\r\n",
      "Requirement already satisfied: python-dateutil>=2.8.2 in /Library/Frameworks/Python.framework/Versions/3.12/lib/python3.12/site-packages (from pandas->-r requirements.txt (line 1)) (2.9.0.post0)\r\n",
      "Requirement already satisfied: pytz>=2020.1 in /Library/Frameworks/Python.framework/Versions/3.12/lib/python3.12/site-packages (from pandas->-r requirements.txt (line 1)) (2024.1)\r\n",
      "Requirement already satisfied: tzdata>=2022.7 in /Library/Frameworks/Python.framework/Versions/3.12/lib/python3.12/site-packages (from pandas->-r requirements.txt (line 1)) (2024.1)\r\n",
      "Requirement already satisfied: typing-extensions>=4.6.0 in /Library/Frameworks/Python.framework/Versions/3.12/lib/python3.12/site-packages (from sqlalchemy->-r requirements.txt (line 2)) (4.12.2)\r\n",
      "Requirement already satisfied: greenlet!=0.4.17 in /Library/Frameworks/Python.framework/Versions/3.12/lib/python3.12/site-packages (from sqlalchemy->-r requirements.txt (line 2)) (3.1.1)\r\n",
      "Requirement already satisfied: six>=1.5 in /Library/Frameworks/Python.framework/Versions/3.12/lib/python3.12/site-packages (from python-dateutil>=2.8.2->pandas->-r requirements.txt (line 1)) (1.16.0)\r\n"
     ]
    },
    {
     "name": "stdout",
     "output_type": "stream",
     "text": [
      "Note: you may need to restart the kernel to use updated packages.\n"
     ]
    }
   ],
   "source": [
    "#librerias\n",
    "%pip install -r requirements.txt"
   ]
  },
  {
   "cell_type": "code",
   "execution_count": 2,
   "metadata": {
    "execution": {
     "iopub.execute_input": "2024-11-09T04:31:08.547896Z",
     "iopub.status.busy": "2024-11-09T04:31:08.547314Z",
     "iopub.status.idle": "2024-11-09T04:31:09.309746Z",
     "shell.execute_reply": "2024-11-09T04:31:09.308523Z"
    }
   },
   "outputs": [],
   "source": [
    "import pandas as pd\n",
    "from connection_script import engine_bodega, engine_etl"
   ]
  },
  {
   "cell_type": "code",
   "execution_count": 3,
   "metadata": {
    "execution": {
     "iopub.execute_input": "2024-11-09T04:31:09.314429Z",
     "iopub.status.busy": "2024-11-09T04:31:09.313510Z",
     "iopub.status.idle": "2024-11-09T04:31:09.366928Z",
     "shell.execute_reply": "2024-11-09T04:31:09.365821Z"
    }
   },
   "outputs": [],
   "source": [
    "query = \"SELECT * FROM mensajeria_estado\"\n",
    "\n",
    "df_estado = pd.read_sql(query, engine_bodega)"
   ]
  },
  {
   "cell_type": "markdown",
   "metadata": {},
   "source": [
    "Transformacion "
   ]
  },
  {
   "cell_type": "code",
   "execution_count": 4,
   "metadata": {
    "execution": {
     "iopub.execute_input": "2024-11-09T04:31:09.371193Z",
     "iopub.status.busy": "2024-11-09T04:31:09.370527Z",
     "iopub.status.idle": "2024-11-09T04:31:09.375687Z",
     "shell.execute_reply": "2024-11-09T04:31:09.374800Z"
    }
   },
   "outputs": [],
   "source": [
    "df_estado = df_estado.rename(columns={\n",
    "    'id': 'id_estado',\n",
    "    'nombre': 'nombre_estado',\n",
    "    'descripcion': 'descripcion_estado'\n",
    "})"
   ]
  },
  {
   "cell_type": "code",
   "execution_count": 5,
   "metadata": {
    "execution": {
     "iopub.execute_input": "2024-11-09T04:31:09.380056Z",
     "iopub.status.busy": "2024-11-09T04:31:09.379671Z",
     "iopub.status.idle": "2024-11-09T04:31:09.384677Z",
     "shell.execute_reply": "2024-11-09T04:31:09.383783Z"
    }
   },
   "outputs": [],
   "source": [
    "if df_estado.isnull().values.any():\n",
    "    print(\"Advertencia: Hay valores nulos en el DataFrame.\")"
   ]
  },
  {
   "cell_type": "code",
   "execution_count": 6,
   "metadata": {
    "execution": {
     "iopub.execute_input": "2024-11-09T04:31:09.388386Z",
     "iopub.status.busy": "2024-11-09T04:31:09.387706Z",
     "iopub.status.idle": "2024-11-09T04:31:09.430713Z",
     "shell.execute_reply": "2024-11-09T04:31:09.429782Z"
    }
   },
   "outputs": [
    {
     "data": {
      "text/plain": [
       "0"
      ]
     },
     "execution_count": 6,
     "metadata": {},
     "output_type": "execute_result"
    }
   ],
   "source": [
    "# Cargar los datos transformados en la base de datos ETL\n",
    "existing_ids_query = \"SELECT id_estado FROM estados\"\n",
    "existing_ids = pd.read_sql(existing_ids_query, engine_etl)\n",
    "\n",
    "# Filtrar los registros que ya existen en la base de datos ETL\n",
    "df_estado = df_estado[~df_estado['id_estado'].isin(existing_ids['id_estado'])]\n",
    "\n",
    "df_estado.to_sql('estados', con=engine_etl, if_exists=\"append\", index=False)\n"
   ]
  },
  {
   "cell_type": "code",
   "execution_count": 7,
   "metadata": {
    "execution": {
     "iopub.execute_input": "2024-11-09T04:31:09.434237Z",
     "iopub.status.busy": "2024-11-09T04:31:09.433844Z",
     "iopub.status.idle": "2024-11-09T04:31:09.441165Z",
     "shell.execute_reply": "2024-11-09T04:31:09.440095Z"
    }
   },
   "outputs": [
    {
     "name": "stdout",
     "output_type": "stream",
     "text": [
      "Empty DataFrame\n",
      "Columns: [id_estado, nombre_estado, descripcion_estado]\n",
      "Index: []\n"
     ]
    }
   ],
   "source": [
    "print(df_estado.head())"
   ]
  }
 ],
 "metadata": {
  "kernelspec": {
   "display_name": "Python 3",
   "language": "python",
   "name": "python3"
  },
  "language_info": {
   "codemirror_mode": {
    "name": "ipython",
    "version": 3
   },
   "file_extension": ".py",
   "mimetype": "text/x-python",
   "name": "python",
   "nbconvert_exporter": "python",
   "pygments_lexer": "ipython3",
   "version": "3.12.3"
  }
 },
 "nbformat": 4,
 "nbformat_minor": 2
}
