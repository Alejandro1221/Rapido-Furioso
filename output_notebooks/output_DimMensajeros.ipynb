{
 "cells": [
  {
   "cell_type": "code",
   "execution_count": 1,
   "metadata": {
    "execution": {
     "iopub.execute_input": "2024-11-11T03:16:09.174701Z",
     "iopub.status.busy": "2024-11-11T03:16:09.174701Z",
     "iopub.status.idle": "2024-11-11T03:16:09.236441Z",
     "shell.execute_reply": "2024-11-11T03:16:09.236441Z"
    }
   },
   "outputs": [
    {
     "name": "stderr",
     "output_type": "stream",
     "text": [
      "python3: can't open file 'c:\\\\Users\\\\Usuario\\\\Desktop\\\\reps\\\\Rapido-Furioso\\\\pip': [Errno 2] No such file or directory\n"
     ]
    }
   ],
   "source": [
    "#librerias\n",
    "#%pip install -r requirements.txt\n",
    "!python3 pip install -r requirements.txt"
   ]
  },
  {
   "cell_type": "code",
   "execution_count": 2,
   "metadata": {
    "execution": {
     "iopub.execute_input": "2024-11-11T03:16:09.237445Z",
     "iopub.status.busy": "2024-11-11T03:16:09.237445Z",
     "iopub.status.idle": "2024-11-11T03:16:09.634313Z",
     "shell.execute_reply": "2024-11-11T03:16:09.634313Z"
    }
   },
   "outputs": [],
   "source": [
    "import pandas as pd\n",
    "from connection_script import engine_bodega, engine_etl"
   ]
  },
  {
   "cell_type": "markdown",
   "metadata": {},
   "source": [
    "EXTRAER DATOS:\n",
    "se extrae los las columnas neecesarias desde la tabla clientes_mensajeroaquitoy de la base de datos, y estos se cargan en un Dataframe"
   ]
  },
  {
   "cell_type": "code",
   "execution_count": 3,
   "metadata": {
    "execution": {
     "iopub.execute_input": "2024-11-11T03:16:09.635317Z",
     "iopub.status.busy": "2024-11-11T03:16:09.635317Z",
     "iopub.status.idle": "2024-11-11T03:16:09.674811Z",
     "shell.execute_reply": "2024-11-11T03:16:09.674811Z"
    }
   },
   "outputs": [],
   "source": [
    "query = \"\"\"\n",
    "    SELECT \n",
    "    c.id,\n",
    "    c.activo,\n",
    "    c.telefono,\n",
    "    CONCAT(a.first_name, ' ', a.last_name) AS nombre_mensajero\n",
    "FROM \n",
    "    clientes_mensajeroaquitoy c\n",
    "JOIN \n",
    "    auth_user a ON c.id = a.id;\n",
    "\n",
    "\"\"\"\n",
    "\n",
    "# Ejecutar la consulta y cargar los datos en un DataFrame de Pandas\n",
    "mensajeros_df = pd.read_sql(query, engine_bodega)\n"
   ]
  },
  {
   "cell_type": "markdown",
   "metadata": {},
   "source": [
    "Transformacion\n",
    "\n",
    "Cambios del nombre de la columna"
   ]
  },
  {
   "cell_type": "code",
   "execution_count": 4,
   "metadata": {
    "execution": {
     "iopub.execute_input": "2024-11-11T03:16:09.675816Z",
     "iopub.status.busy": "2024-11-11T03:16:09.675816Z",
     "iopub.status.idle": "2024-11-11T03:16:09.684658Z",
     "shell.execute_reply": "2024-11-11T03:16:09.684658Z"
    }
   },
   "outputs": [
    {
     "data": {
      "text/html": [
       "<div>\n",
       "<style scoped>\n",
       "    .dataframe tbody tr th:only-of-type {\n",
       "        vertical-align: middle;\n",
       "    }\n",
       "\n",
       "    .dataframe tbody tr th {\n",
       "        vertical-align: top;\n",
       "    }\n",
       "\n",
       "    .dataframe thead th {\n",
       "        text-align: right;\n",
       "    }\n",
       "</style>\n",
       "<table border=\"1\" class=\"dataframe\">\n",
       "  <thead>\n",
       "    <tr style=\"text-align: right;\">\n",
       "      <th></th>\n",
       "      <th>activo</th>\n",
       "      <th>nombre_mensajero</th>\n",
       "      <th>id_mensajero</th>\n",
       "      <th>telefono_mensajero</th>\n",
       "    </tr>\n",
       "  </thead>\n",
       "  <tbody>\n",
       "    <tr>\n",
       "      <th>0</th>\n",
       "      <td>True</td>\n",
       "      <td>pepito_el_rapido pepito_el_furioso</td>\n",
       "      <td>17</td>\n",
       "      <td>310-300000</td>\n",
       "    </tr>\n",
       "    <tr>\n",
       "      <th>1</th>\n",
       "      <td>True</td>\n",
       "      <td>pepito_el_rapido pepito_el_furioso</td>\n",
       "      <td>24</td>\n",
       "      <td>310-300000</td>\n",
       "    </tr>\n",
       "    <tr>\n",
       "      <th>2</th>\n",
       "      <td>True</td>\n",
       "      <td>pepito_el_rapido pepito_el_furioso</td>\n",
       "      <td>22</td>\n",
       "      <td>310-300000</td>\n",
       "    </tr>\n",
       "    <tr>\n",
       "      <th>3</th>\n",
       "      <td>True</td>\n",
       "      <td>pepito_el_rapido pepito_el_furioso</td>\n",
       "      <td>23</td>\n",
       "      <td>310-300000</td>\n",
       "    </tr>\n",
       "    <tr>\n",
       "      <th>4</th>\n",
       "      <td>True</td>\n",
       "      <td>pepito_el_rapido pepito_el_furioso</td>\n",
       "      <td>21</td>\n",
       "      <td>310-300000</td>\n",
       "    </tr>\n",
       "  </tbody>\n",
       "</table>\n",
       "</div>"
      ],
      "text/plain": [
       "   activo                    nombre_mensajero  id_mensajero telefono_mensajero\n",
       "0    True  pepito_el_rapido pepito_el_furioso            17         310-300000\n",
       "1    True  pepito_el_rapido pepito_el_furioso            24         310-300000\n",
       "2    True  pepito_el_rapido pepito_el_furioso            22         310-300000\n",
       "3    True  pepito_el_rapido pepito_el_furioso            23         310-300000\n",
       "4    True  pepito_el_rapido pepito_el_furioso            21         310-300000"
      ]
     },
     "execution_count": 4,
     "metadata": {},
     "output_type": "execute_result"
    }
   ],
   "source": [
    "#transformar datos\n",
    "mensajeros_df[\"id_mensajero\"] = mensajeros_df[\"id\"]\n",
    "mensajeros_df[\"telefono_mensajero\"] = mensajeros_df[\"telefono\"]\n",
    "\n",
    "mensajeros_df.drop(columns=[\"id\", \"telefono\"], inplace=True)\n",
    "\n",
    "mensajeros_df.head()"
   ]
  },
  {
   "cell_type": "code",
   "execution_count": 5,
   "metadata": {
    "execution": {
     "iopub.execute_input": "2024-11-11T03:16:09.685663Z",
     "iopub.status.busy": "2024-11-11T03:16:09.685663Z",
     "iopub.status.idle": "2024-11-11T03:16:09.723319Z",
     "shell.execute_reply": "2024-11-11T03:16:09.723319Z"
    }
   },
   "outputs": [
    {
     "data": {
      "text/plain": [
       "17"
      ]
     },
     "execution_count": 5,
     "metadata": {},
     "output_type": "execute_result"
    }
   ],
   "source": [
    "#cargar para la base de datos\n",
    "# Verificar si ya existen registros con 'id_estado' en la base de datos ETL para evitar duplicados\n",
    "existing_ids_query = \"SELECT id_mensajero FROM mensajero\"\n",
    "existing_ids = pd.read_sql(existing_ids_query, engine_etl)\n",
    "\n",
    "# Filtrar los registros que ya existen en la base de datos ETL\n",
    "mensajeros_df = mensajeros_df[~mensajeros_df['id_mensajero'].isin(existing_ids['id_mensajero'])]\n",
    "\n",
    "# Cargar los datos transformados en la base de datos ETL\n",
    "mensajeros_df.to_sql('mensajero', con=engine_etl, if_exists=\"append\", index=False)"
   ]
  }
 ],
 "metadata": {
  "kernelspec": {
   "display_name": ".venv",
   "language": "python",
   "name": "python3"
  },
  "language_info": {
   "codemirror_mode": {
    "name": "ipython",
    "version": 3
   },
   "file_extension": ".py",
   "mimetype": "text/x-python",
   "name": "python",
   "nbconvert_exporter": "python",
   "pygments_lexer": "ipython3",
   "version": "3.12.7"
  }
 },
 "nbformat": 4,
 "nbformat_minor": 2
}
