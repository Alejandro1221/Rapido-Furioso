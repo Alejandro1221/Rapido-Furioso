{
 "cells": [
  {
   "cell_type": "code",
   "execution_count": 1,
   "metadata": {
    "execution": {
     "iopub.execute_input": "2024-11-10T20:25:05.681361Z",
     "iopub.status.busy": "2024-11-10T20:25:05.680396Z",
     "iopub.status.idle": "2024-11-10T20:25:07.328325Z",
     "shell.execute_reply": "2024-11-10T20:25:07.326388Z"
    }
   },
   "outputs": [
    {
     "name": "stdout",
     "output_type": "stream",
     "text": [
      "/Library/Frameworks/Python.framework/Versions/3.12/Resources/Python.app/Contents/MacOS/Python: can't open file '/Users/jhonfreddypopomoreno/code/Univalle/Rapido-Furioso/pip': [Errno 2] No such file or directory\r\n"
     ]
    }
   ],
   "source": [
    "#librerias\n",
    "#%pip install -r requirements.txt\n",
    "!python3 pip install -r requirements.txt"
   ]
  },
  {
   "cell_type": "code",
   "execution_count": 2,
   "metadata": {
    "execution": {
     "iopub.execute_input": "2024-11-10T20:25:07.333699Z",
     "iopub.status.busy": "2024-11-10T20:25:07.332893Z",
     "iopub.status.idle": "2024-11-10T20:25:08.980399Z",
     "shell.execute_reply": "2024-11-10T20:25:08.978234Z"
    }
   },
   "outputs": [],
   "source": [
    "import pandas as pd\n",
    "from connection_script import engine_bodega, engine_etl"
   ]
  },
  {
   "cell_type": "markdown",
   "metadata": {},
   "source": [
    "EXTRAER DATOS:\n",
    "se extrae los las columnas neecesarias desde la tabla clientes_mensajeroaquitoy de la base de datos, y estos se cargan en un Dataframe"
   ]
  },
  {
   "cell_type": "code",
   "execution_count": 3,
   "metadata": {
    "execution": {
     "iopub.execute_input": "2024-11-10T20:25:08.987675Z",
     "iopub.status.busy": "2024-11-10T20:25:08.987231Z",
     "iopub.status.idle": "2024-11-10T20:25:09.147948Z",
     "shell.execute_reply": "2024-11-10T20:25:09.146716Z"
    }
   },
   "outputs": [],
   "source": [
    "query = \"\"\"\n",
    "    SELECT id,activo,telefono\n",
    "    FROM clientes_mensajeroaquitoy\n",
    "\"\"\"\n",
    "\n",
    "# Ejecutar la consulta y cargar los datos en un DataFrame de Pandas\n",
    "mensajeros_df = pd.read_sql(query, engine_bodega)\n"
   ]
  },
  {
   "cell_type": "markdown",
   "metadata": {},
   "source": [
    "Transformacion\n",
    "\n",
    "Cambios del nombre de la columna"
   ]
  },
  {
   "cell_type": "code",
   "execution_count": 4,
   "metadata": {
    "execution": {
     "iopub.execute_input": "2024-11-10T20:25:09.156557Z",
     "iopub.status.busy": "2024-11-10T20:25:09.155214Z",
     "iopub.status.idle": "2024-11-10T20:25:09.172961Z",
     "shell.execute_reply": "2024-11-10T20:25:09.171833Z"
    }
   },
   "outputs": [],
   "source": [
    "#transformar datos\n",
    "mensajeros_df[\"id_mensajero\"] = mensajeros_df[\"id\"]\n",
    "mensajeros_df[\"telefono_mensajero\"] = mensajeros_df[\"telefono\"]\n",
    "\n",
    "mensajeros_df.drop(columns=[\"id\", \"telefono\"], inplace=True)"
   ]
  },
  {
   "cell_type": "code",
   "execution_count": 5,
   "metadata": {
    "execution": {
     "iopub.execute_input": "2024-11-10T20:25:09.177085Z",
     "iopub.status.busy": "2024-11-10T20:25:09.176632Z",
     "iopub.status.idle": "2024-11-10T20:25:09.320124Z",
     "shell.execute_reply": "2024-11-10T20:25:09.319399Z"
    }
   },
   "outputs": [
    {
     "data": {
      "text/plain": [
       "50"
      ]
     },
     "execution_count": 5,
     "metadata": {},
     "output_type": "execute_result"
    }
   ],
   "source": [
    "#cargar para la base de datos\n",
    "# Verificar si ya existen registros con 'id_estado' en la base de datos ETL para evitar duplicados\n",
    "existing_ids_query = \"SELECT id_mensajero FROM mensajero\"\n",
    "existing_ids = pd.read_sql(existing_ids_query, engine_etl)\n",
    "\n",
    "# Filtrar los registros que ya existen en la base de datos ETL\n",
    "mensajeros_df = mensajeros_df[~mensajeros_df['id_mensajero'].isin(existing_ids['id_mensajero'])]\n",
    "\n",
    "# Cargar los datos transformados en la base de datos ETL\n",
    "mensajeros_df.to_sql('mensajero', con=engine_etl, if_exists=\"append\", index=False)"
   ]
  }
 ],
 "metadata": {
  "kernelspec": {
   "display_name": "Python 3",
   "language": "python",
   "name": "myenv"
  },
  "language_info": {
   "codemirror_mode": {
    "name": "ipython",
    "version": 3
   },
   "file_extension": ".py",
   "mimetype": "text/x-python",
   "name": "python",
   "nbconvert_exporter": "python",
   "pygments_lexer": "ipython3",
   "version": "3.12.3"
  }
 },
 "nbformat": 4,
 "nbformat_minor": 2
}
