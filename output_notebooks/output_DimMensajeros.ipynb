{
 "cells": [
  {
   "cell_type": "code",
   "execution_count": 1,
   "metadata": {
    "execution": {
     "iopub.execute_input": "2024-11-11T07:25:10.566430Z",
     "iopub.status.busy": "2024-11-11T07:25:10.565419Z",
     "iopub.status.idle": "2024-11-11T07:25:10.676973Z",
     "shell.execute_reply": "2024-11-11T07:25:10.676973Z"
    }
   },
   "outputs": [
    {
     "name": "stderr",
     "output_type": "stream",
     "text": [
      "python3: can't open file 'c:\\\\Users\\\\chara\\\\Desktop\\\\Rapido-Furioso\\\\pip': [Errno 2] No such file or directory\n"
     ]
    }
   ],
   "source": [
    "#librerias\n",
    "#%pip install -r requirements.txt\n",
    "!python3 pip install -r requirements.txt"
   ]
  },
  {
   "cell_type": "code",
   "execution_count": 2,
   "metadata": {
    "execution": {
     "iopub.execute_input": "2024-11-11T07:25:10.679338Z",
     "iopub.status.busy": "2024-11-11T07:25:10.679338Z",
     "iopub.status.idle": "2024-11-11T07:25:11.321529Z",
     "shell.execute_reply": "2024-11-11T07:25:11.320516Z"
    }
   },
   "outputs": [],
   "source": [
    "import pandas as pd\n",
    "from connection_script import engine_bodega, engine_etl"
   ]
  },
  {
   "cell_type": "markdown",
   "metadata": {},
   "source": [
    "EXTRAER DATOS:\n",
    "se extrae los las columnas neecesarias desde la tabla clientes_mensajeroaquitoy de la base de datos, y estos se cargan en un Dataframe"
   ]
  },
  {
   "cell_type": "code",
   "execution_count": 3,
   "metadata": {
    "execution": {
     "iopub.execute_input": "2024-11-11T07:25:11.323556Z",
     "iopub.status.busy": "2024-11-11T07:25:11.323556Z",
     "iopub.status.idle": "2024-11-11T07:25:11.425819Z",
     "shell.execute_reply": "2024-11-11T07:25:11.425819Z"
    }
   },
   "outputs": [],
   "source": [
    "query = \"\"\"\n",
    "   SELECT \n",
    "    c.id,\n",
    "    c.activo,\n",
    "    c.telefono,\n",
    "    CONCAT(a.first_name, ' ', a.last_name) AS nombre_mensajero\n",
    "FROM \n",
    "    clientes_mensajeroaquitoy c\n",
    "LEFT JOIN \n",
    "    auth_user a ON c.id = a.id;\n",
    "\n",
    "\n",
    "\"\"\"\n",
    "\n",
    "# Ejecutar la consulta y cargar los datos en un DataFrame de Pandas\n",
    "mensajeros_df = pd.read_sql(query, engine_bodega)\n"
   ]
  },
  {
   "cell_type": "markdown",
   "metadata": {},
   "source": [
    "Transformacion\n",
    "\n",
    "Cambios del nombre de la columna"
   ]
  },
  {
   "cell_type": "code",
   "execution_count": 4,
   "metadata": {
    "execution": {
     "iopub.execute_input": "2024-11-11T07:25:11.428830Z",
     "iopub.status.busy": "2024-11-11T07:25:11.427856Z",
     "iopub.status.idle": "2024-11-11T07:25:11.436608Z",
     "shell.execute_reply": "2024-11-11T07:25:11.435600Z"
    }
   },
   "outputs": [],
   "source": [
    "#transformar datos\n",
    "mensajeros_df[\"id_mensajero\"] = mensajeros_df[\"id\"]\n",
    "mensajeros_df[\"telefono_mensajero\"] = mensajeros_df[\"telefono\"]\n",
    "\n",
    "mensajeros_df.drop(columns=[\"id\", \"telefono\"], inplace=True)\n"
   ]
  },
  {
   "cell_type": "code",
   "execution_count": 5,
   "metadata": {
    "execution": {
     "iopub.execute_input": "2024-11-11T07:25:11.438651Z",
     "iopub.status.busy": "2024-11-11T07:25:11.438651Z",
     "iopub.status.idle": "2024-11-11T07:25:11.503155Z",
     "shell.execute_reply": "2024-11-11T07:25:11.503155Z"
    }
   },
   "outputs": [
    {
     "data": {
      "text/plain": [
       "0"
      ]
     },
     "execution_count": 5,
     "metadata": {},
     "output_type": "execute_result"
    }
   ],
   "source": [
    "#cargar para la base de datos\n",
    "# Verificar si ya existen registros con 'id_estado' en la base de datos ETL para evitar duplicados\n",
    "existing_ids_query = \"SELECT id_mensajero FROM mensajero\"\n",
    "existing_ids = pd.read_sql(existing_ids_query, engine_etl)\n",
    "\n",
    "# Filtrar los registros que ya existen en la base de datos ETL\n",
    "mensajeros_df = mensajeros_df[~mensajeros_df['id_mensajero'].isin(existing_ids['id_mensajero'])]\n",
    "\n",
    "# Cargar los datos transformados en la base de datos ETL\n",
    "mensajeros_df.to_sql('mensajero', con=engine_etl, if_exists=\"append\", index=False)"
   ]
  }
 ],
 "metadata": {
  "kernelspec": {
   "display_name": ".venv",
   "language": "python",
   "name": "python3"
  },
  "language_info": {
   "codemirror_mode": {
    "name": "ipython",
    "version": 3
   },
   "file_extension": ".py",
   "mimetype": "text/x-python",
   "name": "python",
   "nbconvert_exporter": "python",
   "pygments_lexer": "ipython3",
   "version": "3.11.9"
  }
 },
 "nbformat": 4,
 "nbformat_minor": 2
}
