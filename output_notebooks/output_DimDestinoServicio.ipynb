{
 "cells": [
  {
   "cell_type": "code",
   "execution_count": 1,
   "metadata": {
    "execution": {
     "iopub.execute_input": "2024-11-10T07:16:27.702278Z",
     "iopub.status.busy": "2024-11-10T07:16:27.701661Z",
     "iopub.status.idle": "2024-11-10T07:16:28.478698Z",
     "shell.execute_reply": "2024-11-10T07:16:28.475724Z"
    }
   },
   "outputs": [
    {
     "name": "stdout",
     "output_type": "stream",
     "text": [
      "/Library/Frameworks/Python.framework/Versions/3.12/Resources/Python.app/Contents/MacOS/Python: can't open file '/Users/jhonfreddypopomoreno/code/Univalle/Rapido-Furioso/pip': [Errno 2] No such file or directory\r\n"
     ]
    }
   ],
   "source": [
    "#librerias\n",
    "#%pip install -r requirements.txt\n",
    "!python3 pip install -r requirements.txt"
   ]
  },
  {
   "cell_type": "code",
   "execution_count": 2,
   "metadata": {
    "execution": {
     "iopub.execute_input": "2024-11-10T07:16:28.482850Z",
     "iopub.status.busy": "2024-11-10T07:16:28.482419Z",
     "iopub.status.idle": "2024-11-10T07:16:29.872017Z",
     "shell.execute_reply": "2024-11-10T07:16:29.871265Z"
    }
   },
   "outputs": [],
   "source": [
    "import pandas as pd\n",
    "from connection_script import engine_bodega, engine_etl"
   ]
  },
  {
   "cell_type": "code",
   "execution_count": 3,
   "metadata": {
    "execution": {
     "iopub.execute_input": "2024-11-10T07:16:29.878308Z",
     "iopub.status.busy": "2024-11-10T07:16:29.875821Z",
     "iopub.status.idle": "2024-11-10T07:16:29.956520Z",
     "shell.execute_reply": "2024-11-10T07:16:29.955565Z"
    }
   },
   "outputs": [],
   "source": [
    "query = \"SELECT * FROM mensajeria_destinoservicio\"\n",
    "\n",
    "\n",
    "df_destinoservicio = pd.read_sql(query, engine_bodega)"
   ]
  },
  {
   "cell_type": "code",
   "execution_count": 4,
   "metadata": {
    "execution": {
     "iopub.execute_input": "2024-11-10T07:16:29.962426Z",
     "iopub.status.busy": "2024-11-10T07:16:29.962009Z",
     "iopub.status.idle": "2024-11-10T07:16:29.968590Z",
     "shell.execute_reply": "2024-11-10T07:16:29.966918Z"
    }
   },
   "outputs": [],
   "source": [
    "df_destinoservicio = df_destinoservicio.rename(columns={\n",
    "    'id': 'id_destino',\n",
    "    'cliente_id': 'id_cliente',\n",
    "    'ciudad_id': 'id_ciudad'\n",
    "})"
   ]
  },
  {
   "cell_type": "code",
   "execution_count": 5,
   "metadata": {
    "execution": {
     "iopub.execute_input": "2024-11-10T07:16:29.972950Z",
     "iopub.status.busy": "2024-11-10T07:16:29.972577Z",
     "iopub.status.idle": "2024-11-10T07:16:29.980451Z",
     "shell.execute_reply": "2024-11-10T07:16:29.979321Z"
    }
   },
   "outputs": [],
   "source": [
    "if df_destinoservicio.isnull().values.any():\n",
    "    print(\"Advertencia: Hay valores nulos en el DataFrame.\")"
   ]
  },
  {
   "cell_type": "code",
   "execution_count": 6,
   "metadata": {
    "execution": {
     "iopub.execute_input": "2024-11-10T07:16:29.984508Z",
     "iopub.status.busy": "2024-11-10T07:16:29.984001Z",
     "iopub.status.idle": "2024-11-10T07:16:30.129657Z",
     "shell.execute_reply": "2024-11-10T07:16:30.125061Z"
    }
   },
   "outputs": [
    {
     "data": {
      "text/plain": [
       "588"
      ]
     },
     "execution_count": 6,
     "metadata": {},
     "output_type": "execute_result"
    }
   ],
   "source": [
    "# Obtener los 'id_origen' existentes en la base de datos ETL para evitar duplicados\n",
    "existing_ids_query = \"SELECT id_destino FROM destino_servicio\"\n",
    "existing_ids = pd.read_sql(existing_ids_query, engine_etl)\n",
    "\n",
    "# Filtrar los registros de 'df_origenservicio' que ya existen en la base de datos ETL\n",
    "df_destinoservicio = df_destinoservicio[~df_destinoservicio['id_destino'].isin(existing_ids['id_destino'])]\n",
    "\n",
    "# Cargar los datos transformados en la base de datos ETL\n",
    "df_destinoservicio.to_sql('destino_servicio', con=engine_etl, if_exists=\"append\", index=False)"
   ]
  },
  {
   "cell_type": "code",
   "execution_count": 7,
   "metadata": {
    "execution": {
     "iopub.execute_input": "2024-11-10T07:16:30.137887Z",
     "iopub.status.busy": "2024-11-10T07:16:30.137475Z",
     "iopub.status.idle": "2024-11-10T07:16:30.149638Z",
     "shell.execute_reply": "2024-11-10T07:16:30.148452Z"
    }
   },
   "outputs": [
    {
     "name": "stdout",
     "output_type": "stream",
     "text": [
      "   id_destino                    direccion  id_cliente  id_ciudad\n",
      "0           1  Los angeles distrito Latino           5          1\n",
      "1           2  Los angeles distrito Latino           5          1\n",
      "2           3  Los angeles distrito Latino          11          1\n",
      "3           7  Los angeles distrito Latino          11          1\n",
      "4           9  Los angeles distrito Latino          11          1\n"
     ]
    }
   ],
   "source": [
    "print(df_destinoservicio.head())"
   ]
  }
 ],
 "metadata": {
  "kernelspec": {
   "display_name": "Python 3",
   "language": "python",
   "name": "myenv"
  },
  "language_info": {
   "codemirror_mode": {
    "name": "ipython",
    "version": 3
   },
   "file_extension": ".py",
   "mimetype": "text/x-python",
   "name": "python",
   "nbconvert_exporter": "python",
   "pygments_lexer": "ipython3",
   "version": "3.12.3"
  }
 },
 "nbformat": 4,
 "nbformat_minor": 2
}
