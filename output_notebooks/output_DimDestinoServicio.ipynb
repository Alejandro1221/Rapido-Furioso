{
 "cells": [
  {
   "cell_type": "code",
   "execution_count": 1,
   "metadata": {
    "execution": {
     "iopub.execute_input": "2024-11-10T20:25:19.490728Z",
     "iopub.status.busy": "2024-11-10T20:25:19.490025Z",
     "iopub.status.idle": "2024-11-10T20:25:20.330114Z",
     "shell.execute_reply": "2024-11-10T20:25:20.328464Z"
    }
   },
   "outputs": [
    {
     "name": "stdout",
     "output_type": "stream",
     "text": [
      "/Library/Frameworks/Python.framework/Versions/3.12/Resources/Python.app/Contents/MacOS/Python: can't open file '/Users/jhonfreddypopomoreno/code/Univalle/Rapido-Furioso/pip': [Errno 2] No such file or directory\r\n"
     ]
    }
   ],
   "source": [
    "#librerias\n",
    "#%pip install -r requirements.txt\n",
    "!python3 pip install -r requirements.txt"
   ]
  },
  {
   "cell_type": "code",
   "execution_count": 2,
   "metadata": {
    "execution": {
     "iopub.execute_input": "2024-11-10T20:25:20.338897Z",
     "iopub.status.busy": "2024-11-10T20:25:20.338185Z",
     "iopub.status.idle": "2024-11-10T20:25:22.383335Z",
     "shell.execute_reply": "2024-11-10T20:25:22.381983Z"
    }
   },
   "outputs": [],
   "source": [
    "import pandas as pd\n",
    "from connection_script import engine_bodega, engine_etl"
   ]
  },
  {
   "cell_type": "code",
   "execution_count": 3,
   "metadata": {
    "execution": {
     "iopub.execute_input": "2024-11-10T20:25:22.413033Z",
     "iopub.status.busy": "2024-11-10T20:25:22.411270Z",
     "iopub.status.idle": "2024-11-10T20:25:22.678934Z",
     "shell.execute_reply": "2024-11-10T20:25:22.676446Z"
    }
   },
   "outputs": [],
   "source": [
    "query = \"SELECT * FROM mensajeria_destinoservicio\"\n",
    "\n",
    "\n",
    "df_destinoservicio = pd.read_sql(query, engine_bodega)"
   ]
  },
  {
   "cell_type": "code",
   "execution_count": 4,
   "metadata": {
    "execution": {
     "iopub.execute_input": "2024-11-10T20:25:22.685223Z",
     "iopub.status.busy": "2024-11-10T20:25:22.683632Z",
     "iopub.status.idle": "2024-11-10T20:25:22.697478Z",
     "shell.execute_reply": "2024-11-10T20:25:22.694030Z"
    }
   },
   "outputs": [],
   "source": [
    "df_destinoservicio = df_destinoservicio.rename(columns={\n",
    "    'id': 'id_destino',\n",
    "    'cliente_id': 'id_cliente',\n",
    "    'ciudad_id': 'id_ciudad'\n",
    "})"
   ]
  },
  {
   "cell_type": "code",
   "execution_count": 5,
   "metadata": {
    "execution": {
     "iopub.execute_input": "2024-11-10T20:25:22.709481Z",
     "iopub.status.busy": "2024-11-10T20:25:22.705704Z",
     "iopub.status.idle": "2024-11-10T20:25:22.723568Z",
     "shell.execute_reply": "2024-11-10T20:25:22.718515Z"
    }
   },
   "outputs": [],
   "source": [
    "if df_destinoservicio.isnull().values.any():\n",
    "    print(\"Advertencia: Hay valores nulos en el DataFrame.\")"
   ]
  },
  {
   "cell_type": "code",
   "execution_count": 6,
   "metadata": {
    "execution": {
     "iopub.execute_input": "2024-11-10T20:25:22.730990Z",
     "iopub.status.busy": "2024-11-10T20:25:22.728013Z",
     "iopub.status.idle": "2024-11-10T20:25:23.251492Z",
     "shell.execute_reply": "2024-11-10T20:25:23.250062Z"
    }
   },
   "outputs": [
    {
     "data": {
      "text/plain": [
       "588"
      ]
     },
     "execution_count": 6,
     "metadata": {},
     "output_type": "execute_result"
    }
   ],
   "source": [
    "# Obtener los 'id_origen' existentes en la base de datos ETL para evitar duplicados\n",
    "existing_ids_query = \"SELECT id_destino FROM destino_servicio\"\n",
    "existing_ids = pd.read_sql(existing_ids_query, engine_etl)\n",
    "\n",
    "# Filtrar los registros de 'df_origenservicio' que ya existen en la base de datos ETL\n",
    "df_destinoservicio = df_destinoservicio[~df_destinoservicio['id_destino'].isin(existing_ids['id_destino'])]\n",
    "\n",
    "# Cargar los datos transformados en la base de datos ETL\n",
    "df_destinoservicio.to_sql('destino_servicio', con=engine_etl, if_exists=\"append\", index=False)"
   ]
  },
  {
   "cell_type": "code",
   "execution_count": 7,
   "metadata": {
    "execution": {
     "iopub.execute_input": "2024-11-10T20:25:23.258285Z",
     "iopub.status.busy": "2024-11-10T20:25:23.257817Z",
     "iopub.status.idle": "2024-11-10T20:25:23.275903Z",
     "shell.execute_reply": "2024-11-10T20:25:23.274099Z"
    }
   },
   "outputs": [
    {
     "name": "stdout",
     "output_type": "stream",
     "text": [
      "   id_destino                    direccion  id_cliente  id_ciudad\n",
      "0           1  Los angeles distrito Latino           5          1\n",
      "1           2  Los angeles distrito Latino           5          1\n",
      "2           3  Los angeles distrito Latino          11          1\n",
      "3           7  Los angeles distrito Latino          11          1\n",
      "4           9  Los angeles distrito Latino          11          1\n"
     ]
    }
   ],
   "source": [
    "print(df_destinoservicio.head())"
   ]
  }
 ],
 "metadata": {
  "kernelspec": {
   "display_name": "Python 3",
   "language": "python",
   "name": "myenv"
  },
  "language_info": {
   "codemirror_mode": {
    "name": "ipython",
    "version": 3
   },
   "file_extension": ".py",
   "mimetype": "text/x-python",
   "name": "python",
   "nbconvert_exporter": "python",
   "pygments_lexer": "ipython3",
   "version": "3.12.3"
  }
 },
 "nbformat": 4,
 "nbformat_minor": 2
}
