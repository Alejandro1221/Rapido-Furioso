{
 "cells": [
  {
   "cell_type": "code",
   "execution_count": 1,
   "metadata": {
    "execution": {
     "iopub.execute_input": "2024-11-09T04:24:40.981200Z",
     "iopub.status.busy": "2024-11-09T04:24:40.981200Z",
     "iopub.status.idle": "2024-11-09T04:24:42.342018Z",
     "shell.execute_reply": "2024-11-09T04:24:42.342018Z"
    }
   },
   "outputs": [
    {
     "name": "stdout",
     "output_type": "stream",
     "text": [
      "Requirement already satisfied: pandas in c:\\users\\usuario\\desktop\\reps\\rapido-furioso\\.venv\\lib\\site-packages (from -r requirements.txt (line 1)) (2.2.3)\n",
      "Requirement already satisfied: sqlalchemy in c:\\users\\usuario\\desktop\\reps\\rapido-furioso\\.venv\\lib\\site-packages (from -r requirements.txt (line 2)) (2.0.36)\n",
      "Requirement already satisfied: python-dotenv in c:\\users\\usuario\\desktop\\reps\\rapido-furioso\\.venv\\lib\\site-packages (from -r requirements.txt (line 3)) (1.0.1)\n",
      "Requirement already satisfied: psycopg2 in c:\\users\\usuario\\desktop\\reps\\rapido-furioso\\.venv\\lib\\site-packages (from -r requirements.txt (line 4)) (2.9.10)\n",
      "Requirement already satisfied: numpy>=1.26.0 in c:\\users\\usuario\\desktop\\reps\\rapido-furioso\\.venv\\lib\\site-packages (from pandas->-r requirements.txt (line 1)) (2.1.3)\n",
      "Requirement already satisfied: python-dateutil>=2.8.2 in c:\\users\\usuario\\desktop\\reps\\rapido-furioso\\.venv\\lib\\site-packages (from pandas->-r requirements.txt (line 1)) (2.9.0.post0)\n",
      "Requirement already satisfied: pytz>=2020.1 in c:\\users\\usuario\\desktop\\reps\\rapido-furioso\\.venv\\lib\\site-packages (from pandas->-r requirements.txt (line 1)) (2024.2)\n",
      "Requirement already satisfied: tzdata>=2022.7 in c:\\users\\usuario\\desktop\\reps\\rapido-furioso\\.venv\\lib\\site-packages (from pandas->-r requirements.txt (line 1)) (2024.2)\n",
      "Requirement already satisfied: typing-extensions>=4.6.0 in c:\\users\\usuario\\desktop\\reps\\rapido-furioso\\.venv\\lib\\site-packages (from sqlalchemy->-r requirements.txt (line 2)) (4.12.2)\n",
      "Requirement already satisfied: greenlet!=0.4.17 in c:\\users\\usuario\\desktop\\reps\\rapido-furioso\\.venv\\lib\\site-packages (from sqlalchemy->-r requirements.txt (line 2)) (3.1.1)\n",
      "Requirement already satisfied: six>=1.5 in c:\\users\\usuario\\desktop\\reps\\rapido-furioso\\.venv\\lib\\site-packages (from python-dateutil>=2.8.2->pandas->-r requirements.txt (line 1)) (1.16.0)\n",
      "Note: you may need to restart the kernel to use updated packages.\n"
     ]
    }
   ],
   "source": [
    "#librerias\n",
    "%pip install -r requirements.txt"
   ]
  },
  {
   "cell_type": "code",
   "execution_count": 2,
   "metadata": {
    "execution": {
     "iopub.execute_input": "2024-11-09T04:24:42.343937Z",
     "iopub.status.busy": "2024-11-09T04:24:42.342526Z",
     "iopub.status.idle": "2024-11-09T04:24:42.792255Z",
     "shell.execute_reply": "2024-11-09T04:24:42.792255Z"
    }
   },
   "outputs": [],
   "source": [
    "import pandas as pd\n",
    "from connection_script import engine_bodega, engine_etl"
   ]
  },
  {
   "cell_type": "code",
   "execution_count": 3,
   "metadata": {
    "execution": {
     "iopub.execute_input": "2024-11-09T04:24:42.794266Z",
     "iopub.status.busy": "2024-11-09T04:24:42.793265Z",
     "iopub.status.idle": "2024-11-09T04:24:42.836694Z",
     "shell.execute_reply": "2024-11-09T04:24:42.836694Z"
    }
   },
   "outputs": [],
   "source": [
    "query = \"SELECT * FROM mensajeria_destinoservicio\"\n",
    "\n",
    "\n",
    "df_destinoservicio = pd.read_sql(query, engine_bodega)"
   ]
  },
  {
   "cell_type": "code",
   "execution_count": 4,
   "metadata": {
    "execution": {
     "iopub.execute_input": "2024-11-09T04:24:42.838700Z",
     "iopub.status.busy": "2024-11-09T04:24:42.837700Z",
     "iopub.status.idle": "2024-11-09T04:24:42.841307Z",
     "shell.execute_reply": "2024-11-09T04:24:42.841307Z"
    }
   },
   "outputs": [],
   "source": [
    "df_destinoservicio = df_destinoservicio.rename(columns={\n",
    "    'id': 'id_destino',\n",
    "    'cliente_id': 'id_cliente',\n",
    "    'ciudad_id': 'id_ciudad'\n",
    "})"
   ]
  },
  {
   "cell_type": "code",
   "execution_count": 5,
   "metadata": {
    "execution": {
     "iopub.execute_input": "2024-11-09T04:24:42.842309Z",
     "iopub.status.busy": "2024-11-09T04:24:42.842309Z",
     "iopub.status.idle": "2024-11-09T04:24:42.845773Z",
     "shell.execute_reply": "2024-11-09T04:24:42.845773Z"
    }
   },
   "outputs": [],
   "source": [
    "if df_destinoservicio.isnull().values.any():\n",
    "    print(\"Advertencia: Hay valores nulos en el DataFrame.\")"
   ]
  },
  {
   "cell_type": "code",
   "execution_count": 6,
   "metadata": {
    "execution": {
     "iopub.execute_input": "2024-11-09T04:24:42.846778Z",
     "iopub.status.busy": "2024-11-09T04:24:42.846778Z",
     "iopub.status.idle": "2024-11-09T04:24:42.890424Z",
     "shell.execute_reply": "2024-11-09T04:24:42.890424Z"
    }
   },
   "outputs": [
    {
     "data": {
      "text/plain": [
       "0"
      ]
     },
     "execution_count": 6,
     "metadata": {},
     "output_type": "execute_result"
    }
   ],
   "source": [
    "# Obtener los 'id_origen' existentes en la base de datos ETL para evitar duplicados\n",
    "existing_ids_query = \"SELECT id_destino FROM destino_servicio\"\n",
    "existing_ids = pd.read_sql(existing_ids_query, engine_etl)\n",
    "\n",
    "# Filtrar los registros de 'df_origenservicio' que ya existen en la base de datos ETL\n",
    "df_destinoservicio = df_destinoservicio[~df_destinoservicio['id_destino'].isin(existing_ids['id_destino'])]\n",
    "\n",
    "# Cargar los datos transformados en la base de datos ETL\n",
    "df_destinoservicio.to_sql('destino_servicio', con=engine_etl, if_exists=\"append\", index=False)"
   ]
  },
  {
   "cell_type": "code",
   "execution_count": 7,
   "metadata": {
    "execution": {
     "iopub.execute_input": "2024-11-09T04:24:42.891429Z",
     "iopub.status.busy": "2024-11-09T04:24:42.891429Z",
     "iopub.status.idle": "2024-11-09T04:24:42.894945Z",
     "shell.execute_reply": "2024-11-09T04:24:42.894945Z"
    }
   },
   "outputs": [
    {
     "name": "stdout",
     "output_type": "stream",
     "text": [
      "Empty DataFrame\n",
      "Columns: [id_destino, direccion, id_cliente, id_ciudad]\n",
      "Index: []\n"
     ]
    }
   ],
   "source": [
    "print(df_destinoservicio.head())"
   ]
  }
 ],
 "metadata": {
  "kernelspec": {
   "display_name": "Python 3",
   "language": "python",
   "name": "python3"
  },
  "language_info": {
   "codemirror_mode": {
    "name": "ipython",
    "version": 3
   },
   "file_extension": ".py",
   "mimetype": "text/x-python",
   "name": "python",
   "nbconvert_exporter": "python",
   "pygments_lexer": "ipython3",
   "version": "3.12.7"
  }
 },
 "nbformat": 4,
 "nbformat_minor": 2
}
