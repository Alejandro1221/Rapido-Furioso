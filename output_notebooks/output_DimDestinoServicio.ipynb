{
 "cells": [
  {
   "cell_type": "code",
   "execution_count": 1,
   "metadata": {
    "execution": {
     "iopub.execute_input": "2024-11-11T07:25:16.199287Z",
     "iopub.status.busy": "2024-11-11T07:25:16.199287Z",
     "iopub.status.idle": "2024-11-11T07:25:16.357708Z",
     "shell.execute_reply": "2024-11-11T07:25:16.357708Z"
    }
   },
   "outputs": [
    {
     "name": "stderr",
     "output_type": "stream",
     "text": [
      "python3: can't open file 'c:\\\\Users\\\\chara\\\\Desktop\\\\Rapido-Furioso\\\\pip': [Errno 2] No such file or directory\n"
     ]
    }
   ],
   "source": [
    "#librerias\n",
    "#%pip install -r requirements.txt\n",
    "!python3 pip install -r requirements.txt"
   ]
  },
  {
   "cell_type": "code",
   "execution_count": 2,
   "metadata": {
    "execution": {
     "iopub.execute_input": "2024-11-11T07:25:16.360716Z",
     "iopub.status.busy": "2024-11-11T07:25:16.360716Z",
     "iopub.status.idle": "2024-11-11T07:25:17.163422Z",
     "shell.execute_reply": "2024-11-11T07:25:17.162414Z"
    }
   },
   "outputs": [],
   "source": [
    "import pandas as pd\n",
    "from connection_script import engine_bodega, engine_etl"
   ]
  },
  {
   "cell_type": "code",
   "execution_count": 3,
   "metadata": {
    "execution": {
     "iopub.execute_input": "2024-11-11T07:25:17.167533Z",
     "iopub.status.busy": "2024-11-11T07:25:17.166565Z",
     "iopub.status.idle": "2024-11-11T07:25:17.272091Z",
     "shell.execute_reply": "2024-11-11T07:25:17.272091Z"
    }
   },
   "outputs": [],
   "source": [
    "query = \"SELECT * FROM mensajeria_destinoservicio\"\n",
    "\n",
    "\n",
    "df_destinoservicio = pd.read_sql(query, engine_bodega)"
   ]
  },
  {
   "cell_type": "code",
   "execution_count": 4,
   "metadata": {
    "execution": {
     "iopub.execute_input": "2024-11-11T07:25:17.274604Z",
     "iopub.status.busy": "2024-11-11T07:25:17.274604Z",
     "iopub.status.idle": "2024-11-11T07:25:17.281586Z",
     "shell.execute_reply": "2024-11-11T07:25:17.281586Z"
    }
   },
   "outputs": [],
   "source": [
    "df_destinoservicio = df_destinoservicio.rename(columns={\n",
    "    'id': 'id_destino',\n",
    "    'cliente_id': 'id_cliente',\n",
    "    'ciudad_id': 'id_ciudad'\n",
    "})"
   ]
  },
  {
   "cell_type": "code",
   "execution_count": 5,
   "metadata": {
    "execution": {
     "iopub.execute_input": "2024-11-11T07:25:17.285633Z",
     "iopub.status.busy": "2024-11-11T07:25:17.284592Z",
     "iopub.status.idle": "2024-11-11T07:25:17.290323Z",
     "shell.execute_reply": "2024-11-11T07:25:17.290323Z"
    }
   },
   "outputs": [],
   "source": [
    "if df_destinoservicio.isnull().values.any():\n",
    "    print(\"Advertencia: Hay valores nulos en el DataFrame.\")"
   ]
  },
  {
   "cell_type": "code",
   "execution_count": 6,
   "metadata": {
    "execution": {
     "iopub.execute_input": "2024-11-11T07:25:17.293331Z",
     "iopub.status.busy": "2024-11-11T07:25:17.292333Z",
     "iopub.status.idle": "2024-11-11T07:25:17.539969Z",
     "shell.execute_reply": "2024-11-11T07:25:17.538797Z"
    }
   },
   "outputs": [
    {
     "data": {
      "text/plain": [
       "0"
      ]
     },
     "execution_count": 6,
     "metadata": {},
     "output_type": "execute_result"
    }
   ],
   "source": [
    "# Obtener los 'id_origen' existentes en la base de datos ETL para evitar duplicados\n",
    "existing_ids_query = \"SELECT id_destino FROM destino_servicio\"\n",
    "existing_ids = pd.read_sql(existing_ids_query, engine_etl)\n",
    "\n",
    "# Filtrar los registros de 'df_origenservicio' que ya existen en la base de datos ETL\n",
    "df_destinoservicio = df_destinoservicio[~df_destinoservicio['id_destino'].isin(existing_ids['id_destino'])]\n",
    "\n",
    "# Cargar los datos transformados en la base de datos ETL\n",
    "df_destinoservicio.to_sql('destino_servicio', con=engine_etl, if_exists=\"append\", index=False)"
   ]
  },
  {
   "cell_type": "code",
   "execution_count": 7,
   "metadata": {
    "execution": {
     "iopub.execute_input": "2024-11-11T07:25:17.543176Z",
     "iopub.status.busy": "2024-11-11T07:25:17.542641Z",
     "iopub.status.idle": "2024-11-11T07:25:17.553172Z",
     "shell.execute_reply": "2024-11-11T07:25:17.551908Z"
    }
   },
   "outputs": [
    {
     "name": "stdout",
     "output_type": "stream",
     "text": [
      "Empty DataFrame\n",
      "Columns: [id_destino, direccion, id_cliente, id_ciudad]\n",
      "Index: []\n"
     ]
    }
   ],
   "source": [
    "print(df_destinoservicio.head())"
   ]
  }
 ],
 "metadata": {
  "kernelspec": {
   "display_name": ".venv",
   "language": "python",
   "name": "python3"
  },
  "language_info": {
   "codemirror_mode": {
    "name": "ipython",
    "version": 3
   },
   "file_extension": ".py",
   "mimetype": "text/x-python",
   "name": "python",
   "nbconvert_exporter": "python",
   "pygments_lexer": "ipython3",
   "version": "3.11.9"
  }
 },
 "nbformat": 4,
 "nbformat_minor": 2
}
