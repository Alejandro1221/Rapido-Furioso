{
 "cells": [
  {
   "cell_type": "code",
   "execution_count": 1,
   "metadata": {
    "execution": {
     "iopub.execute_input": "2024-11-09T04:05:23.476533Z",
     "iopub.status.busy": "2024-11-09T04:05:23.476533Z",
     "iopub.status.idle": "2024-11-09T04:05:24.817107Z",
     "shell.execute_reply": "2024-11-09T04:05:24.817107Z"
    }
   },
   "outputs": [
    {
     "name": "stdout",
     "output_type": "stream",
     "text": [
      "Requirement already satisfied: pandas in c:\\users\\usuario\\desktop\\reps\\rapido-furioso\\.venv\\lib\\site-packages (from -r requirements.txt (line 1)) (2.2.3)\n",
      "Requirement already satisfied: sqlalchemy in c:\\users\\usuario\\desktop\\reps\\rapido-furioso\\.venv\\lib\\site-packages (from -r requirements.txt (line 2)) (2.0.36)\n",
      "Requirement already satisfied: python-dotenv in c:\\users\\usuario\\desktop\\reps\\rapido-furioso\\.venv\\lib\\site-packages (from -r requirements.txt (line 3)) (1.0.1)\n",
      "Requirement already satisfied: psycopg2 in c:\\users\\usuario\\desktop\\reps\\rapido-furioso\\.venv\\lib\\site-packages (from -r requirements.txt (line 4)) (2.9.10)\n",
      "Requirement already satisfied: numpy>=1.26.0 in c:\\users\\usuario\\desktop\\reps\\rapido-furioso\\.venv\\lib\\site-packages (from pandas->-r requirements.txt (line 1)) (2.1.3)\n",
      "Requirement already satisfied: python-dateutil>=2.8.2 in c:\\users\\usuario\\desktop\\reps\\rapido-furioso\\.venv\\lib\\site-packages (from pandas->-r requirements.txt (line 1)) (2.9.0.post0)\n",
      "Requirement already satisfied: pytz>=2020.1 in c:\\users\\usuario\\desktop\\reps\\rapido-furioso\\.venv\\lib\\site-packages (from pandas->-r requirements.txt (line 1)) (2024.2)\n",
      "Requirement already satisfied: tzdata>=2022.7 in c:\\users\\usuario\\desktop\\reps\\rapido-furioso\\.venv\\lib\\site-packages (from pandas->-r requirements.txt (line 1)) (2024.2)\n",
      "Requirement already satisfied: typing-extensions>=4.6.0 in c:\\users\\usuario\\desktop\\reps\\rapido-furioso\\.venv\\lib\\site-packages (from sqlalchemy->-r requirements.txt (line 2)) (4.12.2)\n",
      "Requirement already satisfied: greenlet!=0.4.17 in c:\\users\\usuario\\desktop\\reps\\rapido-furioso\\.venv\\lib\\site-packages (from sqlalchemy->-r requirements.txt (line 2)) (3.1.1)\n",
      "Requirement already satisfied: six>=1.5 in c:\\users\\usuario\\desktop\\reps\\rapido-furioso\\.venv\\lib\\site-packages (from python-dateutil>=2.8.2->pandas->-r requirements.txt (line 1)) (1.16.0)\n",
      "Note: you may need to restart the kernel to use updated packages.\n"
     ]
    }
   ],
   "source": [
    "#librerias\n",
    "%pip install -r requirements.txt"
   ]
  },
  {
   "cell_type": "code",
   "execution_count": 2,
   "metadata": {
    "execution": {
     "iopub.execute_input": "2024-11-09T04:05:24.818113Z",
     "iopub.status.busy": "2024-11-09T04:05:24.818113Z",
     "iopub.status.idle": "2024-11-09T04:05:25.262189Z",
     "shell.execute_reply": "2024-11-09T04:05:25.262189Z"
    }
   },
   "outputs": [],
   "source": [
    "import pandas as pd\n",
    "from connection_script import engine_bodega, engine_etl"
   ]
  },
  {
   "cell_type": "code",
   "execution_count": 3,
   "metadata": {
    "execution": {
     "iopub.execute_input": "2024-11-09T04:05:25.264196Z",
     "iopub.status.busy": "2024-11-09T04:05:25.264196Z",
     "iopub.status.idle": "2024-11-09T04:05:25.305999Z",
     "shell.execute_reply": "2024-11-09T04:05:25.305999Z"
    }
   },
   "outputs": [],
   "source": [
    "query = \"SELECT * FROM mensajeria_destinoservicio\"\n",
    "\n",
    "\n",
    "df_destinoservicio = pd.read_sql(query, engine_bodega)"
   ]
  },
  {
   "cell_type": "code",
   "execution_count": 4,
   "metadata": {
    "execution": {
     "iopub.execute_input": "2024-11-09T04:05:25.307004Z",
     "iopub.status.busy": "2024-11-09T04:05:25.307004Z",
     "iopub.status.idle": "2024-11-09T04:05:25.310231Z",
     "shell.execute_reply": "2024-11-09T04:05:25.310231Z"
    }
   },
   "outputs": [],
   "source": [
    "df_destinoservicio = df_destinoservicio.rename(columns={\n",
    "    'id': 'id_destino',\n",
    "    'cliente_id': 'id_cliente',\n",
    "    'ciudad_id': 'id_ciudad'\n",
    "})"
   ]
  },
  {
   "cell_type": "code",
   "execution_count": 5,
   "metadata": {
    "execution": {
     "iopub.execute_input": "2024-11-09T04:05:25.311734Z",
     "iopub.status.busy": "2024-11-09T04:05:25.311734Z",
     "iopub.status.idle": "2024-11-09T04:05:25.315267Z",
     "shell.execute_reply": "2024-11-09T04:05:25.315267Z"
    }
   },
   "outputs": [],
   "source": [
    "if df_destinoservicio.isnull().values.any():\n",
    "    print(\"Advertencia: Hay valores nulos en el DataFrame.\")"
   ]
  },
  {
   "cell_type": "code",
   "execution_count": 6,
   "metadata": {
    "execution": {
     "iopub.execute_input": "2024-11-09T04:05:25.316272Z",
     "iopub.status.busy": "2024-11-09T04:05:25.316272Z",
     "iopub.status.idle": "2024-11-09T04:05:25.388320Z",
     "shell.execute_reply": "2024-11-09T04:05:25.388320Z"
    }
   },
   "outputs": [
    {
     "data": {
      "text/plain": [
       "588"
      ]
     },
     "execution_count": 6,
     "metadata": {},
     "output_type": "execute_result"
    }
   ],
   "source": [
    "df_destinoservicio.to_sql('destino_servicio', con=engine_etl, if_exists=\"append\", index=False)"
   ]
  },
  {
   "cell_type": "code",
   "execution_count": 7,
   "metadata": {
    "execution": {
     "iopub.execute_input": "2024-11-09T04:05:25.389328Z",
     "iopub.status.busy": "2024-11-09T04:05:25.389328Z",
     "iopub.status.idle": "2024-11-09T04:05:25.393585Z",
     "shell.execute_reply": "2024-11-09T04:05:25.393585Z"
    }
   },
   "outputs": [
    {
     "name": "stdout",
     "output_type": "stream",
     "text": [
      "   id_destino                    direccion  id_cliente  id_ciudad\n",
      "0           1  Los angeles distrito Latino           5          1\n",
      "1           2  Los angeles distrito Latino           5          1\n",
      "2           3  Los angeles distrito Latino          11          1\n",
      "3           7  Los angeles distrito Latino          11          1\n",
      "4           9  Los angeles distrito Latino          11          1\n"
     ]
    }
   ],
   "source": [
    "print(df_destinoservicio.head())"
   ]
  }
 ],
 "metadata": {
  "kernelspec": {
   "display_name": "Python 3",
   "language": "python",
   "name": "python3"
  },
  "language_info": {
   "codemirror_mode": {
    "name": "ipython",
    "version": 3
   },
   "file_extension": ".py",
   "mimetype": "text/x-python",
   "name": "python",
   "nbconvert_exporter": "python",
   "pygments_lexer": "ipython3",
   "version": "3.12.7"
  }
 },
 "nbformat": 4,
 "nbformat_minor": 2
}
