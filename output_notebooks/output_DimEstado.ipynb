{
 "cells": [
  {
   "cell_type": "code",
   "execution_count": 1,
   "metadata": {
    "execution": {
     "iopub.execute_input": "2024-11-09T03:19:37.855197Z",
     "iopub.status.busy": "2024-11-09T03:19:37.854196Z",
     "iopub.status.idle": "2024-11-09T03:19:39.205778Z",
     "shell.execute_reply": "2024-11-09T03:19:39.205778Z"
    }
   },
   "outputs": [
    {
     "name": "stdout",
     "output_type": "stream",
     "text": [
      "Requirement already satisfied: pandas in c:\\users\\usuario\\desktop\\reps\\rapido-furioso\\.venv\\lib\\site-packages (from -r requirements.txt (line 1)) (2.2.3)\n",
      "Requirement already satisfied: sqlalchemy in c:\\users\\usuario\\desktop\\reps\\rapido-furioso\\.venv\\lib\\site-packages (from -r requirements.txt (line 2)) (2.0.36)\n",
      "Requirement already satisfied: python-dotenv in c:\\users\\usuario\\desktop\\reps\\rapido-furioso\\.venv\\lib\\site-packages (from -r requirements.txt (line 3)) (1.0.1)\n",
      "Requirement already satisfied: psycopg2 in c:\\users\\usuario\\desktop\\reps\\rapido-furioso\\.venv\\lib\\site-packages (from -r requirements.txt (line 4)) (2.9.10)\n",
      "Requirement already satisfied: numpy>=1.26.0 in c:\\users\\usuario\\desktop\\reps\\rapido-furioso\\.venv\\lib\\site-packages (from pandas->-r requirements.txt (line 1)) (2.1.3)\n",
      "Requirement already satisfied: python-dateutil>=2.8.2 in c:\\users\\usuario\\desktop\\reps\\rapido-furioso\\.venv\\lib\\site-packages (from pandas->-r requirements.txt (line 1)) (2.9.0.post0)\n",
      "Requirement already satisfied: pytz>=2020.1 in c:\\users\\usuario\\desktop\\reps\\rapido-furioso\\.venv\\lib\\site-packages (from pandas->-r requirements.txt (line 1)) (2024.2)\n",
      "Requirement already satisfied: tzdata>=2022.7 in c:\\users\\usuario\\desktop\\reps\\rapido-furioso\\.venv\\lib\\site-packages (from pandas->-r requirements.txt (line 1)) (2024.2)\n",
      "Requirement already satisfied: typing-extensions>=4.6.0 in c:\\users\\usuario\\desktop\\reps\\rapido-furioso\\.venv\\lib\\site-packages (from sqlalchemy->-r requirements.txt (line 2)) (4.12.2)\n",
      "Requirement already satisfied: greenlet!=0.4.17 in c:\\users\\usuario\\desktop\\reps\\rapido-furioso\\.venv\\lib\\site-packages (from sqlalchemy->-r requirements.txt (line 2)) (3.1.1)\n",
      "Requirement already satisfied: six>=1.5 in c:\\users\\usuario\\desktop\\reps\\rapido-furioso\\.venv\\lib\\site-packages (from python-dateutil>=2.8.2->pandas->-r requirements.txt (line 1)) (1.16.0)\n",
      "Note: you may need to restart the kernel to use updated packages.\n"
     ]
    }
   ],
   "source": [
    "#librerias\n",
    "%pip install -r requirements.txt"
   ]
  },
  {
   "cell_type": "code",
   "execution_count": 2,
   "metadata": {
    "execution": {
     "iopub.execute_input": "2024-11-09T03:19:39.206783Z",
     "iopub.status.busy": "2024-11-09T03:19:39.206783Z",
     "iopub.status.idle": "2024-11-09T03:19:39.660145Z",
     "shell.execute_reply": "2024-11-09T03:19:39.660145Z"
    }
   },
   "outputs": [],
   "source": [
    "import pandas as pd\n",
    "from connection_script import engine_bodega, engine_etl"
   ]
  },
  {
   "cell_type": "code",
   "execution_count": 3,
   "metadata": {
    "execution": {
     "iopub.execute_input": "2024-11-09T03:19:39.662149Z",
     "iopub.status.busy": "2024-11-09T03:19:39.661149Z",
     "iopub.status.idle": "2024-11-09T03:19:39.711421Z",
     "shell.execute_reply": "2024-11-09T03:19:39.711421Z"
    }
   },
   "outputs": [],
   "source": [
    "query = \"SELECT * FROM mensajeria_estado\"\n",
    "\n",
    "df_estado = pd.read_sql(query, engine_bodega)"
   ]
  },
  {
   "cell_type": "markdown",
   "metadata": {},
   "source": [
    "Transformacion "
   ]
  },
  {
   "cell_type": "code",
   "execution_count": 4,
   "metadata": {
    "execution": {
     "iopub.execute_input": "2024-11-09T03:19:39.713426Z",
     "iopub.status.busy": "2024-11-09T03:19:39.713426Z",
     "iopub.status.idle": "2024-11-09T03:19:39.716866Z",
     "shell.execute_reply": "2024-11-09T03:19:39.716866Z"
    }
   },
   "outputs": [],
   "source": [
    "df_estado = df_estado.rename(columns={\n",
    "    'id': 'id_estado',\n",
    "    'nombre': 'nombre_estado',\n",
    "    'descripcion': 'descripcion_estado'\n",
    "})"
   ]
  },
  {
   "cell_type": "code",
   "execution_count": 5,
   "metadata": {
    "execution": {
     "iopub.execute_input": "2024-11-09T03:19:39.718370Z",
     "iopub.status.busy": "2024-11-09T03:19:39.718370Z",
     "iopub.status.idle": "2024-11-09T03:19:39.722311Z",
     "shell.execute_reply": "2024-11-09T03:19:39.722311Z"
    }
   },
   "outputs": [],
   "source": [
    "if df_estado.isnull().values.any():\n",
    "    print(\"Advertencia: Hay valores nulos en el DataFrame.\")"
   ]
  },
  {
   "cell_type": "code",
   "execution_count": 6,
   "metadata": {
    "execution": {
     "iopub.execute_input": "2024-11-09T03:19:39.723317Z",
     "iopub.status.busy": "2024-11-09T03:19:39.723317Z",
     "iopub.status.idle": "2024-11-09T03:19:39.767715Z",
     "shell.execute_reply": "2024-11-09T03:19:39.767715Z"
    }
   },
   "outputs": [],
   "source": [
    "# Eliminar registros duplicados basados en 'id_estado' para evitar errores de violación de unicidad\n",
    "df_estado = df_estado.drop_duplicates(subset=['id_estado'])\n",
    "\n",
    "# Verificar si ya existen registros con 'id_estado' en la base de datos ETL para evitar duplicados\n",
    "existing_ids_query = \"SELECT id_estado FROM estados\"\n",
    "existing_ids = pd.read_sql(existing_ids_query, engine_etl)\n",
    "\n",
    "# Filtrar los registros que ya existen en la base de datos ETL\n",
    "df_estado = df_estado[~df_estado['id_estado'].isin(existing_ids['id_estado'])]"
   ]
  },
  {
   "cell_type": "code",
   "execution_count": 7,
   "metadata": {
    "execution": {
     "iopub.execute_input": "2024-11-09T03:19:39.769803Z",
     "iopub.status.busy": "2024-11-09T03:19:39.769803Z",
     "iopub.status.idle": "2024-11-09T03:19:39.775938Z",
     "shell.execute_reply": "2024-11-09T03:19:39.775938Z"
    }
   },
   "outputs": [
    {
     "data": {
      "text/plain": [
       "0"
      ]
     },
     "execution_count": 7,
     "metadata": {},
     "output_type": "execute_result"
    }
   ],
   "source": [
    "# Cargar los datos transformados en la base de datos ETL\n",
    "df_estado.to_sql('estados', con=engine_etl, if_exists=\"append\", index=False)\n"
   ]
  },
  {
   "cell_type": "code",
   "execution_count": 8,
   "metadata": {
    "execution": {
     "iopub.execute_input": "2024-11-09T03:19:39.777442Z",
     "iopub.status.busy": "2024-11-09T03:19:39.777442Z",
     "iopub.status.idle": "2024-11-09T03:19:39.780951Z",
     "shell.execute_reply": "2024-11-09T03:19:39.780951Z"
    }
   },
   "outputs": [
    {
     "name": "stdout",
     "output_type": "stream",
     "text": [
      "Empty DataFrame\n",
      "Columns: [id_estado, nombre_estado, descripcion_estado]\n",
      "Index: []\n"
     ]
    }
   ],
   "source": [
    "print(df_estado.head())"
   ]
  }
 ],
 "metadata": {
  "kernelspec": {
   "display_name": "Python 3",
   "language": "python",
   "name": "python3"
  },
  "language_info": {
   "codemirror_mode": {
    "name": "ipython",
    "version": 3
   },
   "file_extension": ".py",
   "mimetype": "text/x-python",
   "name": "python",
   "nbconvert_exporter": "python",
   "pygments_lexer": "ipython3",
   "version": "3.12.7"
  }
 },
 "nbformat": 4,
 "nbformat_minor": 2
}
