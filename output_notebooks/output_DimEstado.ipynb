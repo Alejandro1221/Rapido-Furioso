{
 "cells": [
  {
   "cell_type": "code",
   "execution_count": 1,
   "metadata": {
    "execution": {
     "iopub.execute_input": "2024-11-11T07:24:58.622702Z",
     "iopub.status.busy": "2024-11-11T07:24:58.622702Z",
     "iopub.status.idle": "2024-11-11T07:24:58.789016Z",
     "shell.execute_reply": "2024-11-11T07:24:58.788005Z"
    }
   },
   "outputs": [
    {
     "name": "stderr",
     "output_type": "stream",
     "text": [
      "python3: can't open file 'c:\\\\Users\\\\chara\\\\Desktop\\\\Rapido-Furioso\\\\pip': [Errno 2] No such file or directory\n"
     ]
    }
   ],
   "source": [
    "#librerias\n",
    "#%pip install -r requirements.txt\n",
    "!python3 pip install -r requirements.txt"
   ]
  },
  {
   "cell_type": "code",
   "execution_count": 2,
   "metadata": {
    "execution": {
     "iopub.execute_input": "2024-11-11T07:24:58.792014Z",
     "iopub.status.busy": "2024-11-11T07:24:58.792014Z",
     "iopub.status.idle": "2024-11-11T07:25:00.010627Z",
     "shell.execute_reply": "2024-11-11T07:25:00.009616Z"
    }
   },
   "outputs": [],
   "source": [
    "import pandas as pd\n",
    "from connection_script import engine_bodega, engine_etl"
   ]
  },
  {
   "cell_type": "code",
   "execution_count": 3,
   "metadata": {
    "execution": {
     "iopub.execute_input": "2024-11-11T07:25:00.016159Z",
     "iopub.status.busy": "2024-11-11T07:25:00.015147Z",
     "iopub.status.idle": "2024-11-11T07:25:00.170235Z",
     "shell.execute_reply": "2024-11-11T07:25:00.169224Z"
    }
   },
   "outputs": [],
   "source": [
    "query = \"SELECT * FROM mensajeria_estado\"\n",
    "\n",
    "df_estado = pd.read_sql(query, engine_bodega)"
   ]
  },
  {
   "cell_type": "markdown",
   "metadata": {},
   "source": [
    "Transformacion "
   ]
  },
  {
   "cell_type": "code",
   "execution_count": 4,
   "metadata": {
    "execution": {
     "iopub.execute_input": "2024-11-11T07:25:00.174747Z",
     "iopub.status.busy": "2024-11-11T07:25:00.173236Z",
     "iopub.status.idle": "2024-11-11T07:25:00.182108Z",
     "shell.execute_reply": "2024-11-11T07:25:00.181095Z"
    }
   },
   "outputs": [],
   "source": [
    "df_estado = df_estado.rename(columns={\n",
    "    'id': 'id_estado',\n",
    "    'nombre': 'nombre_estado',\n",
    "    'descripcion': 'descripcion_estado'\n",
    "})"
   ]
  },
  {
   "cell_type": "code",
   "execution_count": 5,
   "metadata": {
    "execution": {
     "iopub.execute_input": "2024-11-11T07:25:00.187641Z",
     "iopub.status.busy": "2024-11-11T07:25:00.186630Z",
     "iopub.status.idle": "2024-11-11T07:25:00.193179Z",
     "shell.execute_reply": "2024-11-11T07:25:00.193179Z"
    }
   },
   "outputs": [],
   "source": [
    "if df_estado.isnull().values.any():\n",
    "    print(\"Advertencia: Hay valores nulos en el DataFrame.\")"
   ]
  },
  {
   "cell_type": "code",
   "execution_count": 6,
   "metadata": {
    "execution": {
     "iopub.execute_input": "2024-11-11T07:25:00.197721Z",
     "iopub.status.busy": "2024-11-11T07:25:00.197721Z",
     "iopub.status.idle": "2024-11-11T07:25:00.319168Z",
     "shell.execute_reply": "2024-11-11T07:25:00.318155Z"
    }
   },
   "outputs": [
    {
     "data": {
      "text/plain": [
       "0"
      ]
     },
     "execution_count": 6,
     "metadata": {},
     "output_type": "execute_result"
    }
   ],
   "source": [
    "# Cargar los datos transformados en la base de datos ETL\n",
    "existing_ids_query = \"SELECT id_estado FROM estados\"\n",
    "existing_ids = pd.read_sql(existing_ids_query, engine_etl)\n",
    "\n",
    "# Filtrar los registros que ya existen en la base de datos ETL\n",
    "df_estado = df_estado[~df_estado['id_estado'].isin(existing_ids['id_estado'])]\n",
    "\n",
    "df_estado.to_sql('estados', con=engine_etl, if_exists=\"append\", index=False)\n"
   ]
  },
  {
   "cell_type": "code",
   "execution_count": 7,
   "metadata": {
    "execution": {
     "iopub.execute_input": "2024-11-11T07:25:00.328705Z",
     "iopub.status.busy": "2024-11-11T07:25:00.326692Z",
     "iopub.status.idle": "2024-11-11T07:25:00.339602Z",
     "shell.execute_reply": "2024-11-11T07:25:00.338591Z"
    }
   },
   "outputs": [
    {
     "name": "stdout",
     "output_type": "stream",
     "text": [
      "Empty DataFrame\n",
      "Columns: [id_estado, nombre_estado, descripcion_estado]\n",
      "Index: []\n"
     ]
    }
   ],
   "source": [
    "print(df_estado.head())"
   ]
  }
 ],
 "metadata": {
  "kernelspec": {
   "display_name": ".venv",
   "language": "python",
   "name": "python3"
  },
  "language_info": {
   "codemirror_mode": {
    "name": "ipython",
    "version": 3
   },
   "file_extension": ".py",
   "mimetype": "text/x-python",
   "name": "python",
   "nbconvert_exporter": "python",
   "pygments_lexer": "ipython3",
   "version": "3.11.9"
  }
 },
 "nbformat": 4,
 "nbformat_minor": 2
}
