{
 "cells": [
  {
   "cell_type": "code",
   "execution_count": 1,
   "metadata": {
    "execution": {
     "iopub.execute_input": "2024-11-11T03:16:03.529206Z",
     "iopub.status.busy": "2024-11-11T03:16:03.529206Z",
     "iopub.status.idle": "2024-11-11T03:16:03.591867Z",
     "shell.execute_reply": "2024-11-11T03:16:03.591867Z"
    }
   },
   "outputs": [
    {
     "name": "stderr",
     "output_type": "stream",
     "text": [
      "python3: can't open file 'c:\\\\Users\\\\Usuario\\\\Desktop\\\\reps\\\\Rapido-Furioso\\\\pip': [Errno 2] No such file or directory\n"
     ]
    }
   ],
   "source": [
    "#librerias\n",
    "#%pip install -r requirements.txt\n",
    "!python3 pip install -r requirements.txt"
   ]
  },
  {
   "cell_type": "code",
   "execution_count": 2,
   "metadata": {
    "execution": {
     "iopub.execute_input": "2024-11-11T03:16:03.592873Z",
     "iopub.status.busy": "2024-11-11T03:16:03.592873Z",
     "iopub.status.idle": "2024-11-11T03:16:03.999704Z",
     "shell.execute_reply": "2024-11-11T03:16:03.999704Z"
    }
   },
   "outputs": [],
   "source": [
    "import pandas as pd\n",
    "from connection_script import engine_bodega, engine_etl"
   ]
  },
  {
   "cell_type": "code",
   "execution_count": 3,
   "metadata": {
    "execution": {
     "iopub.execute_input": "2024-11-11T03:16:04.001127Z",
     "iopub.status.busy": "2024-11-11T03:16:04.001127Z",
     "iopub.status.idle": "2024-11-11T03:16:04.039186Z",
     "shell.execute_reply": "2024-11-11T03:16:04.039186Z"
    }
   },
   "outputs": [],
   "source": [
    "query = \"SELECT * FROM mensajeria_estado\"\n",
    "\n",
    "df_estado = pd.read_sql(query, engine_bodega)"
   ]
  },
  {
   "cell_type": "markdown",
   "metadata": {},
   "source": [
    "Transformacion "
   ]
  },
  {
   "cell_type": "code",
   "execution_count": 4,
   "metadata": {
    "execution": {
     "iopub.execute_input": "2024-11-11T03:16:04.040383Z",
     "iopub.status.busy": "2024-11-11T03:16:04.040383Z",
     "iopub.status.idle": "2024-11-11T03:16:04.043241Z",
     "shell.execute_reply": "2024-11-11T03:16:04.043241Z"
    }
   },
   "outputs": [],
   "source": [
    "df_estado = df_estado.rename(columns={\n",
    "    'id': 'id_estado',\n",
    "    'nombre': 'nombre_estado',\n",
    "    'descripcion': 'descripcion_estado'\n",
    "})"
   ]
  },
  {
   "cell_type": "code",
   "execution_count": 5,
   "metadata": {
    "execution": {
     "iopub.execute_input": "2024-11-11T03:16:04.044246Z",
     "iopub.status.busy": "2024-11-11T03:16:04.044246Z",
     "iopub.status.idle": "2024-11-11T03:16:04.047186Z",
     "shell.execute_reply": "2024-11-11T03:16:04.047186Z"
    }
   },
   "outputs": [],
   "source": [
    "if df_estado.isnull().values.any():\n",
    "    print(\"Advertencia: Hay valores nulos en el DataFrame.\")"
   ]
  },
  {
   "cell_type": "code",
   "execution_count": 6,
   "metadata": {
    "execution": {
     "iopub.execute_input": "2024-11-11T03:16:04.048189Z",
     "iopub.status.busy": "2024-11-11T03:16:04.048189Z",
     "iopub.status.idle": "2024-11-11T03:16:04.085526Z",
     "shell.execute_reply": "2024-11-11T03:16:04.085526Z"
    }
   },
   "outputs": [
    {
     "data": {
      "text/plain": [
       "6"
      ]
     },
     "execution_count": 6,
     "metadata": {},
     "output_type": "execute_result"
    }
   ],
   "source": [
    "# Cargar los datos transformados en la base de datos ETL\n",
    "existing_ids_query = \"SELECT id_estado FROM estados\"\n",
    "existing_ids = pd.read_sql(existing_ids_query, engine_etl)\n",
    "\n",
    "# Filtrar los registros que ya existen en la base de datos ETL\n",
    "df_estado = df_estado[~df_estado['id_estado'].isin(existing_ids['id_estado'])]\n",
    "\n",
    "df_estado.to_sql('estados', con=engine_etl, if_exists=\"append\", index=False)\n"
   ]
  },
  {
   "cell_type": "code",
   "execution_count": 7,
   "metadata": {
    "execution": {
     "iopub.execute_input": "2024-11-11T03:16:04.086531Z",
     "iopub.status.busy": "2024-11-11T03:16:04.086531Z",
     "iopub.status.idle": "2024-11-11T03:16:04.090552Z",
     "shell.execute_reply": "2024-11-11T03:16:04.090552Z"
    }
   },
   "outputs": [
    {
     "name": "stdout",
     "output_type": "stream",
     "text": [
      "   id_estado           nombre_estado      descripcion_estado\n",
      "0          4  Recogido por mensajero  Recogido por mensajero\n",
      "1          5    Entregado en destino    Entregado en destino\n",
      "2          3             Con novedad           Tiene novedad\n",
      "3          6      Terminado completo      Terminado completo\n",
      "4          1                Iniciado   Creado por el usuario\n"
     ]
    }
   ],
   "source": [
    "print(df_estado.head())"
   ]
  }
 ],
 "metadata": {
  "kernelspec": {
   "display_name": ".venv",
   "language": "python",
   "name": "python3"
  },
  "language_info": {
   "codemirror_mode": {
    "name": "ipython",
    "version": 3
   },
   "file_extension": ".py",
   "mimetype": "text/x-python",
   "name": "python",
   "nbconvert_exporter": "python",
   "pygments_lexer": "ipython3",
   "version": "3.12.7"
  }
 },
 "nbformat": 4,
 "nbformat_minor": 2
}
