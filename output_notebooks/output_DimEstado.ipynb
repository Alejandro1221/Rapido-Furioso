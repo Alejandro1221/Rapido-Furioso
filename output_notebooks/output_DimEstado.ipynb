{
 "cells": [
  {
   "cell_type": "code",
   "execution_count": 1,
   "metadata": {
    "execution": {
     "iopub.execute_input": "2024-11-10T20:24:50.645696Z",
     "iopub.status.busy": "2024-11-10T20:24:50.643790Z",
     "iopub.status.idle": "2024-11-10T20:24:51.415941Z",
     "shell.execute_reply": "2024-11-10T20:24:51.414458Z"
    }
   },
   "outputs": [
    {
     "name": "stdout",
     "output_type": "stream",
     "text": [
      "/Library/Frameworks/Python.framework/Versions/3.12/Resources/Python.app/Contents/MacOS/Python: can't open file '/Users/jhonfreddypopomoreno/code/Univalle/Rapido-Furioso/pip': [Errno 2] No such file or directory\r\n"
     ]
    }
   ],
   "source": [
    "#librerias\n",
    "#%pip install -r requirements.txt\n",
    "!python3 pip install -r requirements.txt"
   ]
  },
  {
   "cell_type": "code",
   "execution_count": 2,
   "metadata": {
    "execution": {
     "iopub.execute_input": "2024-11-10T20:24:51.421961Z",
     "iopub.status.busy": "2024-11-10T20:24:51.421558Z",
     "iopub.status.idle": "2024-11-10T20:24:52.369039Z",
     "shell.execute_reply": "2024-11-10T20:24:52.366390Z"
    }
   },
   "outputs": [],
   "source": [
    "import pandas as pd\n",
    "from connection_script import engine_bodega, engine_etl"
   ]
  },
  {
   "cell_type": "code",
   "execution_count": 3,
   "metadata": {
    "execution": {
     "iopub.execute_input": "2024-11-10T20:24:52.373958Z",
     "iopub.status.busy": "2024-11-10T20:24:52.372844Z",
     "iopub.status.idle": "2024-11-10T20:24:52.548757Z",
     "shell.execute_reply": "2024-11-10T20:24:52.547743Z"
    }
   },
   "outputs": [],
   "source": [
    "query = \"SELECT * FROM mensajeria_estado\"\n",
    "\n",
    "df_estado = pd.read_sql(query, engine_bodega)"
   ]
  },
  {
   "cell_type": "markdown",
   "metadata": {},
   "source": [
    "Transformacion "
   ]
  },
  {
   "cell_type": "code",
   "execution_count": 4,
   "metadata": {
    "execution": {
     "iopub.execute_input": "2024-11-10T20:24:52.563593Z",
     "iopub.status.busy": "2024-11-10T20:24:52.563136Z",
     "iopub.status.idle": "2024-11-10T20:24:52.575620Z",
     "shell.execute_reply": "2024-11-10T20:24:52.571713Z"
    }
   },
   "outputs": [],
   "source": [
    "df_estado = df_estado.rename(columns={\n",
    "    'id': 'id_estado',\n",
    "    'nombre': 'nombre_estado',\n",
    "    'descripcion': 'descripcion_estado'\n",
    "})"
   ]
  },
  {
   "cell_type": "code",
   "execution_count": 5,
   "metadata": {
    "execution": {
     "iopub.execute_input": "2024-11-10T20:24:52.582083Z",
     "iopub.status.busy": "2024-11-10T20:24:52.580195Z",
     "iopub.status.idle": "2024-11-10T20:24:52.594716Z",
     "shell.execute_reply": "2024-11-10T20:24:52.590518Z"
    }
   },
   "outputs": [],
   "source": [
    "if df_estado.isnull().values.any():\n",
    "    print(\"Advertencia: Hay valores nulos en el DataFrame.\")"
   ]
  },
  {
   "cell_type": "code",
   "execution_count": 6,
   "metadata": {
    "execution": {
     "iopub.execute_input": "2024-11-10T20:24:52.599259Z",
     "iopub.status.busy": "2024-11-10T20:24:52.598323Z",
     "iopub.status.idle": "2024-11-10T20:24:52.728100Z",
     "shell.execute_reply": "2024-11-10T20:24:52.727120Z"
    }
   },
   "outputs": [
    {
     "data": {
      "text/plain": [
       "6"
      ]
     },
     "execution_count": 6,
     "metadata": {},
     "output_type": "execute_result"
    }
   ],
   "source": [
    "# Cargar los datos transformados en la base de datos ETL\n",
    "existing_ids_query = \"SELECT id_estado FROM estados\"\n",
    "existing_ids = pd.read_sql(existing_ids_query, engine_etl)\n",
    "\n",
    "# Filtrar los registros que ya existen en la base de datos ETL\n",
    "df_estado = df_estado[~df_estado['id_estado'].isin(existing_ids['id_estado'])]\n",
    "\n",
    "df_estado.to_sql('estados', con=engine_etl, if_exists=\"append\", index=False)\n"
   ]
  },
  {
   "cell_type": "code",
   "execution_count": 7,
   "metadata": {
    "execution": {
     "iopub.execute_input": "2024-11-10T20:24:52.731971Z",
     "iopub.status.busy": "2024-11-10T20:24:52.731602Z",
     "iopub.status.idle": "2024-11-10T20:24:52.746668Z",
     "shell.execute_reply": "2024-11-10T20:24:52.745622Z"
    }
   },
   "outputs": [
    {
     "name": "stdout",
     "output_type": "stream",
     "text": [
      "   id_estado           nombre_estado      descripcion_estado\n",
      "0          4  Recogido por mensajero  Recogido por mensajero\n",
      "1          5    Entregado en destino    Entregado en destino\n",
      "2          3             Con novedad           Tiene novedad\n",
      "3          6      Terminado completo      Terminado completo\n",
      "4          1                Iniciado   Creado por el usuario\n"
     ]
    }
   ],
   "source": [
    "print(df_estado.head())"
   ]
  }
 ],
 "metadata": {
  "kernelspec": {
   "display_name": "Python 3",
   "language": "python",
   "name": "myenv"
  },
  "language_info": {
   "codemirror_mode": {
    "name": "ipython",
    "version": 3
   },
   "file_extension": ".py",
   "mimetype": "text/x-python",
   "name": "python",
   "nbconvert_exporter": "python",
   "pygments_lexer": "ipython3",
   "version": "3.12.3"
  }
 },
 "nbformat": 4,
 "nbformat_minor": 2
}
