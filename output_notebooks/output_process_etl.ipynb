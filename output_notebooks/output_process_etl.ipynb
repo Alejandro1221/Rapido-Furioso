{
 "cells": [
  {
   "cell_type": "code",
   "execution_count": 1,
   "metadata": {
    "execution": {
     "iopub.execute_input": "2024-11-11T01:04:26.500650Z",
     "iopub.status.busy": "2024-11-11T01:04:26.500650Z",
     "iopub.status.idle": "2024-11-11T01:04:27.983094Z",
     "shell.execute_reply": "2024-11-11T01:04:27.983094Z"
    }
   },
   "outputs": [
    {
     "name": "stdout",
     "output_type": "stream",
     "text": [
      "Defaulting to user installation because normal site-packages is not writeable\n",
      "Requirement already satisfied: pandas in c:\\users\\usuario\\appdata\\local\\packages\\pythonsoftwarefoundation.python.3.12_qbz5n2kfra8p0\\localcache\\local-packages\\python312\\site-packages (from -r requirements.txt (line 1)) (2.2.3)\n",
      "Requirement already satisfied: sqlalchemy in c:\\users\\usuario\\appdata\\local\\packages\\pythonsoftwarefoundation.python.3.12_qbz5n2kfra8p0\\localcache\\local-packages\\python312\\site-packages (from -r requirements.txt (line 2)) (2.0.36)\n",
      "Requirement already satisfied: python-dotenv in c:\\users\\usuario\\appdata\\local\\packages\\pythonsoftwarefoundation.python.3.12_qbz5n2kfra8p0\\localcache\\local-packages\\python312\\site-packages (from -r requirements.txt (line 3)) (1.0.1)\n",
      "Requirement already satisfied: psycopg2 in c:\\users\\usuario\\appdata\\local\\packages\\pythonsoftwarefoundation.python.3.12_qbz5n2kfra8p0\\localcache\\local-packages\\python312\\site-packages (from -r requirements.txt (line 4)) (2.9.10)\n",
      "Requirement already satisfied: numpy>=1.26.0 in c:\\users\\usuario\\appdata\\local\\packages\\pythonsoftwarefoundation.python.3.12_qbz5n2kfra8p0\\localcache\\local-packages\\python312\\site-packages (from pandas->-r requirements.txt (line 1)) (2.1.1)\n",
      "Requirement already satisfied: python-dateutil>=2.8.2 in c:\\users\\usuario\\appdata\\local\\packages\\pythonsoftwarefoundation.python.3.12_qbz5n2kfra8p0\\localcache\\local-packages\\python312\\site-packages (from pandas->-r requirements.txt (line 1)) (2.9.0.post0)\n",
      "Requirement already satisfied: pytz>=2020.1 in c:\\users\\usuario\\appdata\\local\\packages\\pythonsoftwarefoundation.python.3.12_qbz5n2kfra8p0\\localcache\\local-packages\\python312\\site-packages (from pandas->-r requirements.txt (line 1)) (2024.2)\n",
      "Requirement already satisfied: tzdata>=2022.7 in c:\\users\\usuario\\appdata\\local\\packages\\pythonsoftwarefoundation.python.3.12_qbz5n2kfra8p0\\localcache\\local-packages\\python312\\site-packages (from pandas->-r requirements.txt (line 1)) (2024.1)\n",
      "Requirement already satisfied: typing-extensions>=4.6.0 in c:\\users\\usuario\\appdata\\local\\packages\\pythonsoftwarefoundation.python.3.12_qbz5n2kfra8p0\\localcache\\local-packages\\python312\\site-packages (from sqlalchemy->-r requirements.txt (line 2)) (4.12.2)\n",
      "Requirement already satisfied: greenlet!=0.4.17 in c:\\users\\usuario\\appdata\\local\\packages\\pythonsoftwarefoundation.python.3.12_qbz5n2kfra8p0\\localcache\\local-packages\\python312\\site-packages (from sqlalchemy->-r requirements.txt (line 2)) (3.1.1)\n",
      "Requirement already satisfied: six>=1.5 in c:\\users\\usuario\\appdata\\local\\packages\\pythonsoftwarefoundation.python.3.12_qbz5n2kfra8p0\\localcache\\local-packages\\python312\\site-packages (from python-dateutil>=2.8.2->pandas->-r requirements.txt (line 1)) (1.16.0)\n"
     ]
    },
    {
     "name": "stderr",
     "output_type": "stream",
     "text": [
      "\n",
      "[notice] A new release of pip is available: 24.2 -> 24.3.1\n",
      "[notice] To update, run: C:\\Users\\Usuario\\AppData\\Local\\Microsoft\\WindowsApps\\PythonSoftwareFoundation.Python.3.12_qbz5n2kfra8p0\\python.exe -m pip install --upgrade pip\n"
     ]
    }
   ],
   "source": [
    "#librerias\n",
    "#!pip install -r requirements.txt #si se usa python2\n",
    "#si se usa python 3\n",
    "!python3 -m pip install -r requirements.txt\n",
    "#!python -m pip install -r requirements.txt #correr pyhon3 si no tiene instalado el 2.7"
   ]
  },
  {
   "cell_type": "code",
   "execution_count": 2,
   "metadata": {
    "execution": {
     "iopub.execute_input": "2024-11-11T01:04:27.984100Z",
     "iopub.status.busy": "2024-11-11T01:04:27.984100Z",
     "iopub.status.idle": "2024-11-11T01:04:28.130547Z",
     "shell.execute_reply": "2024-11-11T01:04:28.130547Z"
    }
   },
   "outputs": [],
   "source": [
    "#Importar la conexiones a las bases de datos \n",
    "from connection_script import connect_databases\n"
   ]
  },
  {
   "cell_type": "code",
   "execution_count": 3,
   "metadata": {
    "execution": {
     "iopub.execute_input": "2024-11-11T01:04:28.131552Z",
     "iopub.status.busy": "2024-11-11T01:04:28.131552Z",
     "iopub.status.idle": "2024-11-11T01:04:28.134123Z",
     "shell.execute_reply": "2024-11-11T01:04:28.134123Z"
    }
   },
   "outputs": [],
   "source": [
    "# Prueba de conexion a la base de datos\n",
    "#!python3 test_bd.py\n"
   ]
  },
  {
   "cell_type": "code",
   "execution_count": 4,
   "metadata": {
    "execution": {
     "iopub.execute_input": "2024-11-11T01:04:28.135131Z",
     "iopub.status.busy": "2024-11-11T01:04:28.135131Z",
     "iopub.status.idle": "2024-11-11T01:04:28.982921Z",
     "shell.execute_reply": "2024-11-11T01:04:28.982921Z"
    }
   },
   "outputs": [
    {
     "name": "stdout",
     "output_type": "stream",
     "text": [
      "Registros en la base de datos 'etl_rapidos_furiosos':\n",
      "   ID Departamento Nombre Departamento\n",
      "0                1     VALLE DEL CAUCA\n",
      "1                2        CUNDINAMARCA\n",
      "2                3               CAUCA\n",
      "3                4              NARI�O\n"
     ]
    }
   ],
   "source": [
    "#Ejecutar ETL Departamento \n",
    "!python3 DimDepartamento.py\n"
   ]
  },
  {
   "cell_type": "code",
   "execution_count": 5,
   "metadata": {
    "execution": {
     "iopub.execute_input": "2024-11-11T01:04:28.983926Z",
     "iopub.status.busy": "2024-11-11T01:04:28.983926Z",
     "iopub.status.idle": "2024-11-11T01:04:29.906307Z",
     "shell.execute_reply": "2024-11-11T01:04:29.906307Z"
    }
   },
   "outputs": [
    {
     "name": "stdout",
     "output_type": "stream",
     "text": [
      "Registros en la base de datos 'etl_rapidos_furiosos' (ciudades):\n",
      "    ID Ciudad  Nombre Ciudad  ID Departamento\n",
      "0           1           CALI                1\n",
      "1           2        PALMIRA                1\n",
      "2           3        POPAYAN                3\n",
      "3           4          PASTO                4\n",
      "4           5         BOGOTA                2\n",
      "5           6           BUGA                1\n",
      "6           7          TULUA                1\n",
      "7           8          YUMBO                1\n",
      "8           9        JAMUNDI                1\n",
      "9          10        GUACARI                1\n",
      "10         11     CANDELARIA                1\n",
      "11         12        CARTAGO                1\n",
      "12         13    ACOPI YUMBO                1\n",
      "13         14   CENCAR YUMBO                1\n",
      "14         15         ZARZAL                1\n",
      "15         16     VILLA RICA                3\n",
      "16         17        FLORIDA                1\n",
      "17         18        PRADERA                1\n",
      "18         19  CALIMA DARIEN                1\n"
     ]
    }
   ],
   "source": [
    "#Ejecutar ETL Ciudades \n",
    "!python3 DimCiudades.py"
   ]
  },
  {
   "cell_type": "code",
   "execution_count": 6,
   "metadata": {
    "execution": {
     "iopub.execute_input": "2024-11-11T01:04:29.908316Z",
     "iopub.status.busy": "2024-11-11T01:04:29.907315Z",
     "iopub.status.idle": "2024-11-11T01:04:30.829589Z",
     "shell.execute_reply": "2024-11-11T01:04:30.829589Z"
    }
   },
   "outputs": [
    {
     "name": "stdout",
     "output_type": "stream",
     "text": [
      "Registros en la base de datos 'etl_rapidos_furiosos' (tipo_cliente):\n",
      "   ID Tipo Cliente            Nombre Descripci�n\n",
      "0                1  Persona Juridica         NaN\n",
      "1                2   Persona Natural         NaN\n"
     ]
    }
   ],
   "source": [
    "#Ejecutar ETL Tipo Cliente \n",
    "!python3 DimTipoCliente.py"
   ]
  },
  {
   "cell_type": "code",
   "execution_count": 7,
   "metadata": {
    "execution": {
     "iopub.execute_input": "2024-11-11T01:04:30.830998Z",
     "iopub.status.busy": "2024-11-11T01:04:30.830998Z",
     "iopub.status.idle": "2024-11-11T01:04:31.754380Z",
     "shell.execute_reply": "2024-11-11T01:04:31.754380Z"
    }
   },
   "outputs": [
    {
     "name": "stdout",
     "output_type": "stream",
     "text": [
      "Registros en la base de datos 'etl_rapidos_furiosos' (cliente):\n",
      "    ID Cliente  ... ID Ciudad\n",
      "0            1  ...         1\n",
      "1            2  ...         1\n",
      "2            3  ...         1\n",
      "3            4  ...         1\n",
      "4            5  ...         1\n",
      "5            6  ...         1\n",
      "6            7  ...         1\n",
      "7            8  ...         1\n",
      "8            9  ...         1\n",
      "9           10  ...         1\n",
      "10          11  ...         1\n",
      "11          12  ...         1\n",
      "12          13  ...         1\n",
      "13          14  ...         1\n",
      "14          15  ...         1\n",
      "15          16  ...         1\n",
      "16          17  ...         1\n",
      "17          18  ...         1\n",
      "18          19  ...         1\n",
      "19          20  ...         8\n",
      "20          21  ...         1\n",
      "21          22  ...         1\n",
      "22          23  ...         1\n",
      "23          24  ...         1\n",
      "24          25  ...         1\n",
      "25          26  ...         1\n",
      "26          27  ...         1\n",
      "\n",
      "[27 rows x 4 columns]\n"
     ]
    }
   ],
   "source": [
    "#Ejecutar ETL Clientes \n",
    "!python3 DimCliente.py"
   ]
  },
  {
   "cell_type": "code",
   "execution_count": 8,
   "metadata": {
    "execution": {
     "iopub.execute_input": "2024-11-11T01:04:31.755385Z",
     "iopub.status.busy": "2024-11-11T01:04:31.755385Z",
     "iopub.status.idle": "2024-11-11T01:04:32.664962Z",
     "shell.execute_reply": "2024-11-11T01:04:32.664962Z"
    }
   },
   "outputs": [
    {
     "name": "stdout",
     "output_type": "stream",
     "text": [
      "Tipo de veh�culo 3 insertado correctamente.\n",
      "Tipo de veh�culo 4 insertado correctamente.\n",
      "Tipo de veh�culo 2 insertado correctamente.\n",
      "Tipo de veh�culo 1 insertado correctamente.\n",
      "Registros en la base de datos 'etl_rapidos_furiosos' (tipo_vehiculo):\n",
      "   ID Tipo Veh�culo            Nombre       Descripci�n\n",
      "0                 1  Autom�vil - Vans  Autom�vil - Vans\n",
      "1                 2              Moto              Moto\n",
      "2                 3     Moto carguero     Moto carguero\n",
      "3                 4         Camioneta         Camioneta\n"
     ]
    }
   ],
   "source": [
    "#Ejecutar ETL Tipo Vehiculo \n",
    "!python3 DimTipoVehiculo.py"
   ]
  },
  {
   "cell_type": "code",
   "execution_count": 9,
   "metadata": {
    "execution": {
     "iopub.execute_input": "2024-11-11T01:04:32.665970Z",
     "iopub.status.busy": "2024-11-11T01:04:32.665970Z",
     "iopub.status.idle": "2024-11-11T01:04:33.566145Z",
     "shell.execute_reply": "2024-11-11T01:04:33.566145Z"
    }
   },
   "outputs": [
    {
     "name": "stdout",
     "output_type": "stream",
     "text": [
      "Tipo de pago 1 insertado correctamente.\n",
      "Tipo de pago 2 insertado correctamente.\n",
      "Tipo de pago 3 insertado correctamente.\n",
      "Tipo de pago 4 insertado correctamente.\n",
      "Tipo de pago 5 insertado correctamente.\n",
      "Tipo de pago 6 insertado correctamente.\n",
      "Tipo de pago 7 insertado correctamente.\n",
      "Registros en la base de datos 'etl_rapidos_furiosos' (tipo_pago):\n",
      "   ID Tipo Pago               Nombre     Descripci�n\n",
      "0             1             Efectivo        Efectivo\n",
      "1             2              Cr�dito         Cr�dito\n",
      "2             3             Dat�fono        Dat�fono\n",
      "3             4       Recibo de caja  Recibo de caja\n",
      "4             5             Traslado        Traslado\n",
      "5             6             convenio        convenio\n",
      "6             7  Compra de repuestos         Compras\n"
     ]
    }
   ],
   "source": [
    "#Ejecutar ETL Tipo Pago \n",
    "!python3 DimTipoPago.py"
   ]
  },
  {
   "cell_type": "code",
   "execution_count": 10,
   "metadata": {
    "execution": {
     "iopub.execute_input": "2024-11-11T01:04:33.567150Z",
     "iopub.status.busy": "2024-11-11T01:04:33.567150Z",
     "iopub.status.idle": "2024-11-11T01:04:34.510041Z",
     "shell.execute_reply": "2024-11-11T01:04:34.510041Z"
    }
   },
   "outputs": [
    {
     "name": "stdout",
     "output_type": "stream",
     "text": [
      "Sede 10 insertada correctamente.\n",
      "Sede 11 insertada correctamente.\n",
      "Sede 13 insertada correctamente.\n",
      "Sede 14 insertada correctamente.\n",
      "Sede 23 insertada correctamente.\n",
      "Sede 24 insertada correctamente.\n",
      "Sede 25 insertada correctamente.\n",
      "Sede 26 insertada correctamente.\n",
      "Sede 32 insertada correctamente.\n",
      "Sede 33 insertada correctamente.\n",
      "Sede 35 insertada correctamente.\n",
      "Sede 46 insertada correctamente.\n",
      "Sede 44 insertada correctamente.\n",
      "Sede 45 insertada correctamente.\n",
      "Sede 1 insertada correctamente.\n",
      "Sede 2 insertada correctamente.\n",
      "Sede 5 insertada correctamente.\n",
      "Sede 7 insertada correctamente.\n",
      "Sede 9 insertada correctamente.\n",
      "Sede 8 insertada correctamente.\n",
      "Sede 48 insertada correctamente.\n",
      "Sede 28 insertada correctamente.\n",
      "Sede 49 insertada correctamente.\n",
      "Sede 40 insertada correctamente.\n",
      "Sede 6 insertada correctamente.\n",
      "Sede 41 insertada correctamente.\n",
      "Sede 42 insertada correctamente.\n",
      "Sede 15 insertada correctamente.\n",
      "Sede 16 insertada correctamente.\n",
      "Sede 17 insertada correctamente.\n",
      "Sede 18 insertada correctamente.\n",
      "Sede 19 insertada correctamente.\n",
      "Sede 20 insertada correctamente.\n",
      "Sede 21 insertada correctamente.\n",
      "Sede 22 insertada correctamente.\n",
      "Sede 29 insertada correctamente.\n",
      "Sede 34 insertada correctamente.\n",
      "Sede 36 insertada correctamente.\n",
      "Sede 37 insertada correctamente.\n",
      "Sede 47 insertada correctamente.\n",
      "Sede 51 insertada correctamente.\n",
      "Sede 30 insertada correctamente.\n",
      "Sede 50 insertada correctamente.\n",
      "Sede 38 insertada correctamente.\n",
      "Sede 31 insertada correctamente.\n",
      "Sede 52 insertada correctamente.\n",
      "Sede 53 insertada correctamente.\n",
      "Sede 54 insertada correctamente.\n",
      "Sede 85 insertada correctamente.\n",
      "Sede 3 insertada correctamente.\n",
      "Sede 4 insertada correctamente.\n",
      "Sede 12 insertada correctamente.\n",
      "Registros en la base de datos 'etl_rapidos_furiosos' (sedes):\n",
      "    ID Sede                       Nombre Sede  ID Ciudad\n",
      "0         1         Sede principal - Cliente1          1\n",
      "1         2              sede aux - cliente 1          1\n",
      "2         3               TORRES DE MARACAIBO          1\n",
      "3         4                           INGENIO          1\n",
      "4         5                      VASQUEZ COBO          1\n",
      "5         6                         CAPITOLIO          1\n",
      "6         7                     VILLACOLOMBIA          1\n",
      "7         8             PRINCIPAL / OCCIDENTE          1\n",
      "8         9                 PRINCIPAL/ ESENSA          1\n",
      "9        10                   FARALLONES /123          1\n",
      "10       11                     REMEDIOZ/ 123          1\n",
      "11       12            PALMA REAL / LOS ROJOS          2\n",
      "12       13                  DIME / LOS ROJOS          1\n",
      "13       14             DESPACHOS / LOS ROJOS          1\n",
      "14       15  PRINCIPAL NORTE / CHINA PACIFICO          1\n",
      "15       16       MEGATALLER / CHINA PACIFICO          1\n",
      "16       17                BUSES Y CAMIONES -          1\n",
      "17       18                            FORCAS          1\n",
      "18       19                         HYUNDAI /          1\n",
      "19       20                FORD CA�AS FLASCAS          1\n",
      "20       21                    BUGA BODEGA 24          6\n",
      "21       22                 TULUA BODEGA 26 /          7\n",
      "22       23             POPAYAN BODEGA 28 / A          3\n",
      "23       24                  PASTO VITRINA /           4\n",
      "24       25                  PASTO BODEGA 29/          4\n",
      "25       26            PALMIRA BODEGA 20  /            2\n",
      "26       28             CONTRIBUTIVO / ESENSA          1\n",
      "27       29          PROVIDA ATENCION BASICA           1\n",
      "28       30                 RIOCAUCA / ESENSA          1\n",
      "29       31                        CRISTO REY          1\n",
      "30       32                   CLINICA FABILUX          1\n",
      "31       33                FORDES PASOANCHOS           1\n",
      "32       34                         AUTOPISTA          1\n",
      "33       35                            JMC /           1\n",
      "34       36                     PRINCIPAL /14          1\n",
      "35       37                             HEMAS          1\n",
      "36       38                          HEMOLIFE          1\n",
      "37       40                    TRAUMA ORIENTE          1\n",
      "38       41                         ARTMEDICA          1\n",
      "39       42                      CLINICA CALI          1\n",
      "40       44                       VALLE NORTE          1\n",
      "41       45                          CAMBULOS          1\n",
      "42       46                     SAN BER NANDO          1\n",
      "43       47                      CLINICA CALI          1\n",
      "44       48              BATALLON DISPENSARIO          1\n",
      "45       49                         OCCISALUD          1\n",
      "46       50                         RECUPERAR          1\n",
      "47       51                         CLUB NOEL          1\n",
      "48       52                      NUEVA HEMATO          1\n",
      "49       53                      NUEVA HEMATO          1\n",
      "50       54                      NUEVA HEMATO          1\n",
      "51       85                             CIMEX          1\n"
     ]
    }
   ],
   "source": [
    "#Ejecutar ETL Sedes \n",
    "!python3 DimSedes.py"
   ]
  },
  {
   "cell_type": "code",
   "execution_count": null,
   "metadata": {},
   "outputs": [],
   "source": []
  }
 ],
 "metadata": {
  "kernelspec": {
   "display_name": ".venv",
   "language": "python",
   "name": "python3"
  },
  "language_info": {
   "codemirror_mode": {
    "name": "ipython",
    "version": 3
   },
   "file_extension": ".py",
   "mimetype": "text/x-python",
   "name": "python",
   "nbconvert_exporter": "python",
   "pygments_lexer": "ipython3",
   "version": "3.12.7"
  }
 },
 "nbformat": 4,
 "nbformat_minor": 2
}
