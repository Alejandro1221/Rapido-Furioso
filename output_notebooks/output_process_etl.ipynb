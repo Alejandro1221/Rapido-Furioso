{
 "cells": [
  {
   "cell_type": "code",
   "execution_count": 1,
   "metadata": {
    "execution": {
     "iopub.execute_input": "2024-11-10T07:15:32.901217Z",
     "iopub.status.busy": "2024-11-10T07:15:32.900598Z",
     "iopub.status.idle": "2024-11-10T07:15:37.468687Z",
     "shell.execute_reply": "2024-11-10T07:15:37.467359Z"
    }
   },
   "outputs": [
    {
     "name": "stdout",
     "output_type": "stream",
     "text": [
      "Requirement already satisfied: pandas in /Library/Frameworks/Python.framework/Versions/3.12/lib/python3.12/site-packages (from -r requirements.txt (line 1)) (2.2.2)\r\n",
      "Requirement already satisfied: sqlalchemy in /Library/Frameworks/Python.framework/Versions/3.12/lib/python3.12/site-packages (from -r requirements.txt (line 2)) (2.0.36)\r\n",
      "Requirement already satisfied: python-dotenv in /Library/Frameworks/Python.framework/Versions/3.12/lib/python3.12/site-packages (from -r requirements.txt (line 3)) (1.0.1)\r\n",
      "Requirement already satisfied: psycopg2 in /Library/Frameworks/Python.framework/Versions/3.12/lib/python3.12/site-packages (from -r requirements.txt (line 4)) (2.9.10)\r\n"
     ]
    },
    {
     "name": "stdout",
     "output_type": "stream",
     "text": [
      "Requirement already satisfied: numpy>=1.26.0 in /Library/Frameworks/Python.framework/Versions/3.12/lib/python3.12/site-packages (from pandas->-r requirements.txt (line 1)) (1.26.4)\r\n",
      "Requirement already satisfied: python-dateutil>=2.8.2 in /Library/Frameworks/Python.framework/Versions/3.12/lib/python3.12/site-packages (from pandas->-r requirements.txt (line 1)) (2.9.0.post0)\r\n",
      "Requirement already satisfied: pytz>=2020.1 in /Library/Frameworks/Python.framework/Versions/3.12/lib/python3.12/site-packages (from pandas->-r requirements.txt (line 1)) (2024.1)\r\n",
      "Requirement already satisfied: tzdata>=2022.7 in /Library/Frameworks/Python.framework/Versions/3.12/lib/python3.12/site-packages (from pandas->-r requirements.txt (line 1)) (2024.1)\r\n",
      "Requirement already satisfied: typing-extensions>=4.6.0 in /Library/Frameworks/Python.framework/Versions/3.12/lib/python3.12/site-packages (from sqlalchemy->-r requirements.txt (line 2)) (4.12.2)\r\n",
      "Requirement already satisfied: greenlet!=0.4.17 in /Library/Frameworks/Python.framework/Versions/3.12/lib/python3.12/site-packages (from sqlalchemy->-r requirements.txt (line 2)) (3.1.1)\r\n"
     ]
    },
    {
     "name": "stdout",
     "output_type": "stream",
     "text": [
      "Requirement already satisfied: six>=1.5 in /Library/Frameworks/Python.framework/Versions/3.12/lib/python3.12/site-packages (from python-dateutil>=2.8.2->pandas->-r requirements.txt (line 1)) (1.16.0)\r\n"
     ]
    }
   ],
   "source": [
    "#librerias\n",
    "#!pip install -r requirements.txt #si se usa python2\n",
    "#si se usa python 3\n",
    "!python3 -m pip install -r requirements.txt\n",
    "#!python -m pip install -r requirements.txt #correr pyhon3 si no tiene instalado el 2.7"
   ]
  },
  {
   "cell_type": "code",
   "execution_count": 2,
   "metadata": {
    "execution": {
     "iopub.execute_input": "2024-11-10T07:15:37.475853Z",
     "iopub.status.busy": "2024-11-10T07:15:37.475307Z",
     "iopub.status.idle": "2024-11-10T07:15:38.174112Z",
     "shell.execute_reply": "2024-11-10T07:15:38.171045Z"
    }
   },
   "outputs": [],
   "source": [
    "#Importar la conexiones a las bases de datos \n",
    "from connection_script import connect_databases\n"
   ]
  },
  {
   "cell_type": "code",
   "execution_count": 3,
   "metadata": {
    "execution": {
     "iopub.execute_input": "2024-11-10T07:15:38.178121Z",
     "iopub.status.busy": "2024-11-10T07:15:38.177683Z",
     "iopub.status.idle": "2024-11-10T07:15:38.184171Z",
     "shell.execute_reply": "2024-11-10T07:15:38.183114Z"
    }
   },
   "outputs": [],
   "source": [
    "# Prueba de conexion a la base de datos\n",
    "#!python3 test_bd.py\n"
   ]
  },
  {
   "cell_type": "code",
   "execution_count": 4,
   "metadata": {
    "execution": {
     "iopub.execute_input": "2024-11-10T07:15:38.189952Z",
     "iopub.status.busy": "2024-11-10T07:15:38.187716Z",
     "iopub.status.idle": "2024-11-10T07:15:42.176938Z",
     "shell.execute_reply": "2024-11-10T07:15:42.175988Z"
    }
   },
   "outputs": [
    {
     "name": "stdout",
     "output_type": "stream",
     "text": [
      "Registros en la base de datos 'etl_rapidos_furiosos':\r\n",
      "   ID Departamento Nombre Departamento\r\n",
      "0                1     VALLE DEL CAUCA\r\n",
      "1                2        CUNDINAMARCA\r\n",
      "2                3               CAUCA\r\n",
      "3                4              NARIÑO\r\n"
     ]
    }
   ],
   "source": [
    "#Ejecutar ETL Departamento \n",
    "!python3 DimDepartamento.py\n"
   ]
  },
  {
   "cell_type": "code",
   "execution_count": 5,
   "metadata": {
    "execution": {
     "iopub.execute_input": "2024-11-10T07:15:42.182331Z",
     "iopub.status.busy": "2024-11-10T07:15:42.181808Z",
     "iopub.status.idle": "2024-11-10T07:15:46.138495Z",
     "shell.execute_reply": "2024-11-10T07:15:46.136783Z"
    }
   },
   "outputs": [
    {
     "name": "stdout",
     "output_type": "stream",
     "text": [
      "Registros en la base de datos 'etl_rapidos_furiosos' (ciudades):\r\n",
      "    ID Ciudad  Nombre Ciudad  ID Departamento\r\n",
      "0           1           CALI                1\r\n",
      "1           2        PALMIRA                1\r\n",
      "2           3        POPAYAN                3\r\n",
      "3           4          PASTO                4\r\n",
      "4           5         BOGOTA                2\r\n",
      "5           6           BUGA                1\r\n",
      "6           7          TULUA                1\r\n",
      "7           8          YUMBO                1\r\n",
      "8           9        JAMUNDI                1\r\n",
      "9          10        GUACARI                1\r\n",
      "10         11     CANDELARIA                1\r\n",
      "11         12        CARTAGO                1\r\n",
      "12         13    ACOPI YUMBO                1\r\n",
      "13         14   CENCAR YUMBO                1\r\n",
      "14         15         ZARZAL                1\r\n",
      "15         16     VILLA RICA                3\r\n",
      "16         17        FLORIDA                1\r\n",
      "17         18        PRADERA                1\r\n",
      "18         19  CALIMA DARIEN                1\r\n"
     ]
    }
   ],
   "source": [
    "#Ejecutar ETL Ciudades \n",
    "!python3 DimCiudades.py"
   ]
  },
  {
   "cell_type": "code",
   "execution_count": 6,
   "metadata": {
    "execution": {
     "iopub.execute_input": "2024-11-10T07:15:46.152975Z",
     "iopub.status.busy": "2024-11-10T07:15:46.151976Z",
     "iopub.status.idle": "2024-11-10T07:15:48.930181Z",
     "shell.execute_reply": "2024-11-10T07:15:48.929191Z"
    }
   },
   "outputs": [
    {
     "name": "stdout",
     "output_type": "stream",
     "text": [
      "Registros en la base de datos 'etl_rapidos_furiosos' (tipo_cliente):\r\n",
      "   ID Tipo Cliente            Nombre Descripción\r\n",
      "0                1  Persona Juridica         NaN\r\n",
      "1                2   Persona Natural         NaN\r\n"
     ]
    }
   ],
   "source": [
    "#Ejecutar ETL Tipo Cliente \n",
    "!python3 DimTipoCliente.py"
   ]
  },
  {
   "cell_type": "code",
   "execution_count": 7,
   "metadata": {
    "execution": {
     "iopub.execute_input": "2024-11-10T07:15:48.935851Z",
     "iopub.status.busy": "2024-11-10T07:15:48.935430Z",
     "iopub.status.idle": "2024-11-10T07:15:51.935175Z",
     "shell.execute_reply": "2024-11-10T07:15:51.933486Z"
    }
   },
   "outputs": [
    {
     "name": "stdout",
     "output_type": "stream",
     "text": [
      "Registros en la base de datos 'etl_rapidos_furiosos' (cliente):\r\n",
      "    ID Cliente  ... ID Ciudad\r\n",
      "0            1  ...         1\r\n",
      "1            2  ...         1\r\n",
      "2            3  ...         1\r\n",
      "3            4  ...         1\r\n",
      "4            5  ...         1\r\n",
      "5            6  ...         1\r\n",
      "6            7  ...         1\r\n",
      "7            8  ...         1\r\n",
      "8            9  ...         1\r\n",
      "9           10  ...         1\r\n",
      "10          11  ...         1\r\n",
      "11          12  ...         1\r\n",
      "12          13  ...         1\r\n",
      "13          14  ...         1\r\n",
      "14          15  ...         1\r\n",
      "15          16  ...         1\r\n",
      "16          17  ...         1\r\n",
      "17          18  ...         1\r\n",
      "18          19  ...         1\r\n",
      "19          20  ...         8\r\n",
      "20          21  ...         1\r\n",
      "21          22  ...         1\r\n",
      "22          23  ...         1\r\n",
      "23          24  ...         1\r\n",
      "24          25  ...         1\r\n",
      "25          26  ...         1\r\n",
      "26          27  ...         1\r\n",
      "\r\n",
      "[27 rows x 4 columns]\r\n"
     ]
    }
   ],
   "source": [
    "#Ejecutar ETL Clientes \n",
    "!python3 DimCliente.py"
   ]
  },
  {
   "cell_type": "code",
   "execution_count": 8,
   "metadata": {
    "execution": {
     "iopub.execute_input": "2024-11-10T07:15:51.945890Z",
     "iopub.status.busy": "2024-11-10T07:15:51.945352Z",
     "iopub.status.idle": "2024-11-10T07:15:55.510233Z",
     "shell.execute_reply": "2024-11-10T07:15:55.509069Z"
    }
   },
   "outputs": [
    {
     "name": "stdout",
     "output_type": "stream",
     "text": [
      "Tipo de vehículo 3 insertado correctamente.\r\n",
      "Tipo de vehículo 4 insertado correctamente.\r\n",
      "Tipo de vehículo 2 insertado correctamente.\r\n",
      "Tipo de vehículo 1 insertado correctamente.\r\n",
      "Registros en la base de datos 'etl_rapidos_furiosos' (tipo_vehiculo):\r\n",
      "   ID Tipo Vehículo            Nombre       Descripción\r\n",
      "0                 1  Automóvil - Vans  Automóvil - Vans\r\n",
      "1                 2              Moto              Moto\r\n",
      "2                 3     Moto carguero     Moto carguero\r\n",
      "3                 4         Camioneta         Camioneta\r\n"
     ]
    }
   ],
   "source": [
    "#Ejecutar ETL Tipo Vehiculo \n",
    "!python3 DimTipoVehiculo.py"
   ]
  },
  {
   "cell_type": "code",
   "execution_count": 9,
   "metadata": {
    "execution": {
     "iopub.execute_input": "2024-11-10T07:15:55.514521Z",
     "iopub.status.busy": "2024-11-10T07:15:55.513959Z",
     "iopub.status.idle": "2024-11-10T07:15:58.154872Z",
     "shell.execute_reply": "2024-11-10T07:15:58.153986Z"
    }
   },
   "outputs": [
    {
     "name": "stdout",
     "output_type": "stream",
     "text": [
      "Tipo de pago 1 insertado correctamente.\r\n",
      "Tipo de pago 2 insertado correctamente.\r\n",
      "Tipo de pago 3 insertado correctamente.\r\n",
      "Tipo de pago 4 insertado correctamente.\r\n",
      "Tipo de pago 5 insertado correctamente.\r\n",
      "Tipo de pago 6 insertado correctamente.\r\n",
      "Tipo de pago 7 insertado correctamente.\r\n",
      "Registros en la base de datos 'etl_rapidos_furiosos' (tipo_pago):\r\n",
      "   ID Tipo Pago               Nombre     Descripción\r\n",
      "0             1             Efectivo        Efectivo\r\n",
      "1             2              Crédito         Crédito\r\n",
      "2             3             Datáfono        Datáfono\r\n",
      "3             4       Recibo de caja  Recibo de caja\r\n",
      "4             5             Traslado        Traslado\r\n",
      "5             6             convenio        convenio\r\n",
      "6             7  Compra de repuestos         Compras\r\n"
     ]
    }
   ],
   "source": [
    "#Ejecutar ETL Tipo Pago \n",
    "!python3 DimTipoPago.py"
   ]
  },
  {
   "cell_type": "code",
   "execution_count": 10,
   "metadata": {
    "execution": {
     "iopub.execute_input": "2024-11-10T07:15:58.161412Z",
     "iopub.status.busy": "2024-11-10T07:15:58.160981Z",
     "iopub.status.idle": "2024-11-10T07:16:00.979317Z",
     "shell.execute_reply": "2024-11-10T07:16:00.978424Z"
    }
   },
   "outputs": [
    {
     "name": "stdout",
     "output_type": "stream",
     "text": [
      "Sede 10 insertada correctamente.\r\n",
      "Sede 11 insertada correctamente.\r\n",
      "Sede 13 insertada correctamente.\r\n",
      "Sede 14 insertada correctamente.\r\n",
      "Sede 23 insertada correctamente.\r\n",
      "Sede 24 insertada correctamente.\r\n",
      "Sede 25 insertada correctamente.\r\n",
      "Sede 26 insertada correctamente.\r\n",
      "Sede 32 insertada correctamente.\r\n",
      "Sede 33 insertada correctamente.\r\n",
      "Sede 35 insertada correctamente.\r\n",
      "Sede 46 insertada correctamente.\r\n",
      "Sede 44 insertada correctamente.\r\n",
      "Sede 45 insertada correctamente.\r\n",
      "Sede 1 insertada correctamente.\r\n",
      "Sede 2 insertada correctamente.\r\n",
      "Sede 5 insertada correctamente.\r\n",
      "Sede 7 insertada correctamente.\r\n"
     ]
    },
    {
     "name": "stdout",
     "output_type": "stream",
     "text": [
      "Sede 9 insertada correctamente.\r\n",
      "Sede 8 insertada correctamente.\r\n",
      "Sede 48 insertada correctamente.\r\n",
      "Sede 28 insertada correctamente.\r\n",
      "Sede 49 insertada correctamente.\r\n",
      "Sede 40 insertada correctamente.\r\n",
      "Sede 6 insertada correctamente.\r\n",
      "Sede 41 insertada correctamente.\r\n",
      "Sede 42 insertada correctamente.\r\n",
      "Sede 15 insertada correctamente.\r\n",
      "Sede 16 insertada correctamente.\r\n",
      "Sede 17 insertada correctamente.\r\n",
      "Sede 18 insertada correctamente.\r\n",
      "Sede 19 insertada correctamente.\r\n",
      "Sede 20 insertada correctamente.\r\n",
      "Sede 21 insertada correctamente.\r\n",
      "Sede 22 insertada correctamente.\r\n",
      "Sede 29 insertada correctamente.\r\n",
      "Sede 34 insertada correctamente.\r\n",
      "Sede 36 insertada correctamente.\r\n",
      "Sede 37 insertada correctamente.\r\n",
      "Sede 47 insertada correctamente.\r\n",
      "Sede 51 insertada correctamente.\r\n",
      "Sede 30 insertada correctamente.\r\n",
      "Sede 50 insertada correctamente.\r\n",
      "Sede 38 insertada correctamente.\r\n",
      "Sede 31 insertada correctamente.\r\n",
      "Sede 52 insertada correctamente.\r\n",
      "Sede 53 insertada correctamente.\r\n",
      "Sede 54 insertada correctamente.\r\n",
      "Sede 85 insertada correctamente.\r\n",
      "Sede 3 insertada correctamente.\r\n",
      "Sede 4 insertada correctamente.\r\n",
      "Sede 12 insertada correctamente.\r\n",
      "Registros en la base de datos 'etl_rapidos_furiosos' (sedes):\r\n"
     ]
    },
    {
     "name": "stdout",
     "output_type": "stream",
     "text": [
      "    ID Sede                       Nombre Sede  ID Ciudad\r\n",
      "0         1         Sede principal - Cliente1          1\r\n",
      "1         2              sede aux - cliente 1          1\r\n",
      "2         3               TORRES DE MARACAIBO          1\r\n",
      "3         4                           INGENIO          1\r\n",
      "4         5                      VASQUEZ COBO          1\r\n",
      "5         6                         CAPITOLIO          1\r\n",
      "6         7                     VILLACOLOMBIA          1\r\n",
      "7         8             PRINCIPAL / OCCIDENTE          1\r\n",
      "8         9                 PRINCIPAL/ ESENSA          1\r\n",
      "9        10                   FARALLONES /123          1\r\n",
      "10       11                     REMEDIOZ/ 123          1\r\n",
      "11       12            PALMA REAL / LOS ROJOS          2\r\n",
      "12       13                  DIME / LOS ROJOS          1\r\n",
      "13       14             DESPACHOS / LOS ROJOS          1\r\n",
      "14       15  PRINCIPAL NORTE / CHINA PACIFICO          1\r\n",
      "15       16       MEGATALLER / CHINA PACIFICO          1\r\n",
      "16       17                BUSES Y CAMIONES -          1\r\n",
      "17       18                            FORCAS          1\r\n",
      "18       19                         HYUNDAI /          1\r\n",
      "19       20                FORD CAÑAS FLASCAS          1\r\n",
      "20       21                    BUGA BODEGA 24          6\r\n",
      "21       22                 TULUA BODEGA 26 /          7\r\n",
      "22       23             POPAYAN BODEGA 28 / A          3\r\n",
      "23       24                  PASTO VITRINA /           4\r\n",
      "24       25                  PASTO BODEGA 29/          4\r\n",
      "25       26            PALMIRA BODEGA 20  /            2\r\n",
      "26       28             CONTRIBUTIVO / ESENSA          1\r\n",
      "27       29          PROVIDA ATENCION BASICA           1\r\n",
      "28       30                 RIOCAUCA / ESENSA          1\r\n",
      "29       31                        CRISTO REY          1\r\n",
      "30       32                   CLINICA FABILUX          1\r\n",
      "31       33                FORDES PASOANCHOS           1\r\n",
      "32       34                         AUTOPISTA          1\r\n",
      "33       35                            JMC /           1\r\n",
      "34       36                     PRINCIPAL /14          1\r\n",
      "35       37                             HEMAS          1\r\n",
      "36       38                          HEMOLIFE          1\r\n",
      "37       40                    TRAUMA ORIENTE          1\r\n",
      "38       41                         ARTMEDICA          1\r\n",
      "39       42                      CLINICA CALI          1\r\n",
      "40       44                       VALLE NORTE          1\r\n",
      "41       45                          CAMBULOS          1\r\n",
      "42       46                     SAN BER NANDO          1\r\n",
      "43       47                      CLINICA CALI          1\r\n",
      "44       48              BATALLON DISPENSARIO          1\r\n",
      "45       49                         OCCISALUD          1\r\n",
      "46       50                         RECUPERAR          1\r\n",
      "47       51                         CLUB NOEL          1\r\n",
      "48       52                      NUEVA HEMATO          1\r\n",
      "49       53                      NUEVA HEMATO          1\r\n",
      "50       54                      NUEVA HEMATO          1\r\n",
      "51       85                             CIMEX          1\r\n"
     ]
    }
   ],
   "source": [
    "#Ejecutar ETL Sedes \n",
    "!python3 DimSedes.py"
   ]
  },
  {
   "cell_type": "code",
   "execution_count": null,
   "metadata": {},
   "outputs": [],
   "source": []
  }
 ],
 "metadata": {
  "kernelspec": {
   "display_name": "Python 3",
   "language": "python",
   "name": "myenv"
  },
  "language_info": {
   "codemirror_mode": {
    "name": "ipython",
    "version": 3
   },
   "file_extension": ".py",
   "mimetype": "text/x-python",
   "name": "python",
   "nbconvert_exporter": "python",
   "pygments_lexer": "ipython3",
   "version": "3.12.3"
  }
 },
 "nbformat": 4,
 "nbformat_minor": 2
}
