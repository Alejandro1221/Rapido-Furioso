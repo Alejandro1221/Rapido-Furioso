{
 "cells": [
  {
   "cell_type": "code",
   "execution_count": 1,
   "metadata": {
    "execution": {
     "iopub.execute_input": "2024-11-11T07:23:57.465696Z",
     "iopub.status.busy": "2024-11-11T07:23:57.465696Z",
     "iopub.status.idle": "2024-11-11T07:24:33.171838Z",
     "shell.execute_reply": "2024-11-11T07:24:33.170827Z"
    }
   },
   "outputs": [
    {
     "name": "stdout",
     "output_type": "stream",
     "text": [
      "Requirement already satisfied: pandas in c:\\users\\chara\\appdata\\local\\packages\\pythonsoftwarefoundation.python.3.11_qbz5n2kfra8p0\\localcache\\local-packages\\python311\\site-packages (from -r requirements.txt (line 1)) (2.2.2)\n",
      "Requirement already satisfied: sqlalchemy in c:\\users\\chara\\appdata\\local\\packages\\pythonsoftwarefoundation.python.3.11_qbz5n2kfra8p0\\localcache\\local-packages\\python311\\site-packages (from -r requirements.txt (line 2)) (2.0.36)\n",
      "Requirement already satisfied: python-dotenv in c:\\users\\chara\\appdata\\local\\packages\\pythonsoftwarefoundation.python.3.11_qbz5n2kfra8p0\\localcache\\local-packages\\python311\\site-packages (from -r requirements.txt (line 3)) (1.0.1)\n",
      "Requirement already satisfied: psycopg2 in c:\\users\\chara\\appdata\\local\\packages\\pythonsoftwarefoundation.python.3.11_qbz5n2kfra8p0\\localcache\\local-packages\\python311\\site-packages (from -r requirements.txt (line 4)) (2.9.10)\n",
      "Requirement already satisfied: matplotlib in c:\\users\\chara\\appdata\\local\\packages\\pythonsoftwarefoundation.python.3.11_qbz5n2kfra8p0\\localcache\\local-packages\\python311\\site-packages (from -r requirements.txt (line 5)) (3.9.0)\n",
      "Requirement already satisfied: seaborn in c:\\users\\chara\\appdata\\local\\packages\\pythonsoftwarefoundation.python.3.11_qbz5n2kfra8p0\\localcache\\local-packages\\python311\\site-packages (from -r requirements.txt (line 6)) (0.13.2)\n",
      "Collecting google-generativeai (from -r requirements.txt (line 7))\n",
      "  Downloading google_generativeai-0.8.3-py3-none-any.whl.metadata (3.9 kB)\n",
      "Requirement already satisfied: numpy>=1.23.2 in c:\\users\\chara\\appdata\\local\\packages\\pythonsoftwarefoundation.python.3.11_qbz5n2kfra8p0\\localcache\\local-packages\\python311\\site-packages (from pandas->-r requirements.txt (line 1)) (1.26.0)\n",
      "Requirement already satisfied: python-dateutil>=2.8.2 in c:\\users\\chara\\appdata\\local\\packages\\pythonsoftwarefoundation.python.3.11_qbz5n2kfra8p0\\localcache\\local-packages\\python311\\site-packages (from pandas->-r requirements.txt (line 1)) (2.9.0.post0)\n",
      "Requirement already satisfied: pytz>=2020.1 in c:\\users\\chara\\appdata\\local\\packages\\pythonsoftwarefoundation.python.3.11_qbz5n2kfra8p0\\localcache\\local-packages\\python311\\site-packages (from pandas->-r requirements.txt (line 1)) (2024.1)\n",
      "Requirement already satisfied: tzdata>=2022.7 in c:\\users\\chara\\appdata\\local\\packages\\pythonsoftwarefoundation.python.3.11_qbz5n2kfra8p0\\localcache\\local-packages\\python311\\site-packages (from pandas->-r requirements.txt (line 1)) (2024.1)\n",
      "Requirement already satisfied: typing-extensions>=4.6.0 in c:\\users\\chara\\appdata\\local\\packages\\pythonsoftwarefoundation.python.3.11_qbz5n2kfra8p0\\localcache\\local-packages\\python311\\site-packages (from sqlalchemy->-r requirements.txt (line 2)) (4.12.2)\n",
      "Requirement already satisfied: greenlet!=0.4.17 in c:\\users\\chara\\appdata\\local\\packages\\pythonsoftwarefoundation.python.3.11_qbz5n2kfra8p0\\localcache\\local-packages\\python311\\site-packages (from sqlalchemy->-r requirements.txt (line 2)) (3.1.1)\n",
      "Requirement already satisfied: contourpy>=1.0.1 in c:\\users\\chara\\appdata\\local\\packages\\pythonsoftwarefoundation.python.3.11_qbz5n2kfra8p0\\localcache\\local-packages\\python311\\site-packages (from matplotlib->-r requirements.txt (line 5)) (1.2.1)\n",
      "Requirement already satisfied: cycler>=0.10 in c:\\users\\chara\\appdata\\local\\packages\\pythonsoftwarefoundation.python.3.11_qbz5n2kfra8p0\\localcache\\local-packages\\python311\\site-packages (from matplotlib->-r requirements.txt (line 5)) (0.12.1)\n",
      "Requirement already satisfied: fonttools>=4.22.0 in c:\\users\\chara\\appdata\\local\\packages\\pythonsoftwarefoundation.python.3.11_qbz5n2kfra8p0\\localcache\\local-packages\\python311\\site-packages (from matplotlib->-r requirements.txt (line 5)) (4.51.0)\n",
      "Requirement already satisfied: kiwisolver>=1.3.1 in c:\\users\\chara\\appdata\\local\\packages\\pythonsoftwarefoundation.python.3.11_qbz5n2kfra8p0\\localcache\\local-packages\\python311\\site-packages (from matplotlib->-r requirements.txt (line 5)) (1.4.5)\n",
      "Requirement already satisfied: packaging>=20.0 in c:\\users\\chara\\appdata\\local\\packages\\pythonsoftwarefoundation.python.3.11_qbz5n2kfra8p0\\localcache\\local-packages\\python311\\site-packages (from matplotlib->-r requirements.txt (line 5)) (24.0)\n",
      "Requirement already satisfied: pillow>=8 in c:\\users\\chara\\appdata\\local\\packages\\pythonsoftwarefoundation.python.3.11_qbz5n2kfra8p0\\localcache\\local-packages\\python311\\site-packages (from matplotlib->-r requirements.txt (line 5)) (10.3.0)\n",
      "Requirement already satisfied: pyparsing>=2.3.1 in c:\\users\\chara\\appdata\\local\\packages\\pythonsoftwarefoundation.python.3.11_qbz5n2kfra8p0\\localcache\\local-packages\\python311\\site-packages (from matplotlib->-r requirements.txt (line 5)) (3.1.2)\n",
      "Collecting google-ai-generativelanguage==0.6.10 (from google-generativeai->-r requirements.txt (line 7))\n",
      "  Downloading google_ai_generativelanguage-0.6.10-py3-none-any.whl.metadata (5.6 kB)\n",
      "Collecting google-api-core (from google-generativeai->-r requirements.txt (line 7))\n",
      "  Downloading google_api_core-2.22.0-py3-none-any.whl.metadata (2.9 kB)\n",
      "Collecting google-api-python-client (from google-generativeai->-r requirements.txt (line 7))\n",
      "  Downloading google_api_python_client-2.151.0-py2.py3-none-any.whl.metadata (6.7 kB)\n",
      "Collecting google-auth>=2.15.0 (from google-generativeai->-r requirements.txt (line 7))\n",
      "  Downloading google_auth-2.36.0-py2.py3-none-any.whl.metadata (4.7 kB)\n",
      "Collecting protobuf (from google-generativeai->-r requirements.txt (line 7))\n",
      "  Downloading protobuf-5.28.3-cp310-abi3-win_amd64.whl.metadata (592 bytes)\n",
      "Collecting pydantic (from google-generativeai->-r requirements.txt (line 7))\n",
      "  Downloading pydantic-2.9.2-py3-none-any.whl.metadata (149 kB)\n",
      "Collecting tqdm (from google-generativeai->-r requirements.txt (line 7))\n",
      "  Downloading tqdm-4.67.0-py3-none-any.whl.metadata (57 kB)\n",
      "Collecting proto-plus<2.0.0dev,>=1.22.3 (from google-ai-generativelanguage==0.6.10->google-generativeai->-r requirements.txt (line 7))\n",
      "  Downloading proto_plus-1.25.0-py3-none-any.whl.metadata (2.2 kB)\n",
      "Collecting googleapis-common-protos<2.0.dev0,>=1.56.2 (from google-api-core->google-generativeai->-r requirements.txt (line 7))\n",
      "  Downloading googleapis_common_protos-1.65.0-py2.py3-none-any.whl.metadata (1.5 kB)\n",
      "Requirement already satisfied: requests<3.0.0.dev0,>=2.18.0 in c:\\users\\chara\\appdata\\local\\packages\\pythonsoftwarefoundation.python.3.11_qbz5n2kfra8p0\\localcache\\local-packages\\python311\\site-packages (from google-api-core->google-generativeai->-r requirements.txt (line 7)) (2.32.3)\n",
      "Collecting cachetools<6.0,>=2.0.0 (from google-auth>=2.15.0->google-generativeai->-r requirements.txt (line 7))\n",
      "  Downloading cachetools-5.5.0-py3-none-any.whl.metadata (5.3 kB)\n",
      "Collecting pyasn1-modules>=0.2.1 (from google-auth>=2.15.0->google-generativeai->-r requirements.txt (line 7))\n",
      "  Downloading pyasn1_modules-0.4.1-py3-none-any.whl.metadata (3.5 kB)\n",
      "Collecting rsa<5,>=3.1.4 (from google-auth>=2.15.0->google-generativeai->-r requirements.txt (line 7))\n",
      "  Downloading rsa-4.9-py3-none-any.whl.metadata (4.2 kB)\n",
      "Requirement already satisfied: six>=1.5 in c:\\users\\chara\\appdata\\local\\packages\\pythonsoftwarefoundation.python.3.11_qbz5n2kfra8p0\\localcache\\local-packages\\python311\\site-packages (from python-dateutil>=2.8.2->pandas->-r requirements.txt (line 1)) (1.16.0)\n",
      "Collecting httplib2<1.dev0,>=0.19.0 (from google-api-python-client->google-generativeai->-r requirements.txt (line 7))\n",
      "  Downloading httplib2-0.22.0-py3-none-any.whl.metadata (2.6 kB)\n",
      "Collecting google-auth-httplib2<1.0.0,>=0.2.0 (from google-api-python-client->google-generativeai->-r requirements.txt (line 7))\n",
      "  Downloading google_auth_httplib2-0.2.0-py2.py3-none-any.whl.metadata (2.2 kB)\n",
      "Collecting uritemplate<5,>=3.0.1 (from google-api-python-client->google-generativeai->-r requirements.txt (line 7))\n",
      "  Downloading uritemplate-4.1.1-py2.py3-none-any.whl.metadata (2.9 kB)\n",
      "Collecting annotated-types>=0.6.0 (from pydantic->google-generativeai->-r requirements.txt (line 7))\n",
      "  Downloading annotated_types-0.7.0-py3-none-any.whl.metadata (15 kB)\n",
      "Collecting pydantic-core==2.23.4 (from pydantic->google-generativeai->-r requirements.txt (line 7))\n",
      "  Downloading pydantic_core-2.23.4-cp311-none-win_amd64.whl.metadata (6.7 kB)\n",
      "Requirement already satisfied: colorama in c:\\users\\chara\\appdata\\local\\packages\\pythonsoftwarefoundation.python.3.11_qbz5n2kfra8p0\\localcache\\local-packages\\python311\\site-packages (from tqdm->google-generativeai->-r requirements.txt (line 7)) (0.4.6)\n",
      "Collecting grpcio<2.0dev,>=1.33.2 (from google-api-core[grpc]!=2.0.*,!=2.1.*,!=2.10.*,!=2.2.*,!=2.3.*,!=2.4.*,!=2.5.*,!=2.6.*,!=2.7.*,!=2.8.*,!=2.9.*,<3.0.0dev,>=1.34.1->google-ai-generativelanguage==0.6.10->google-generativeai->-r requirements.txt (line 7))\n",
      "  Downloading grpcio-1.67.1-cp311-cp311-win_amd64.whl.metadata (4.0 kB)\n",
      "Collecting grpcio-status<2.0.dev0,>=1.33.2 (from google-api-core[grpc]!=2.0.*,!=2.1.*,!=2.10.*,!=2.2.*,!=2.3.*,!=2.4.*,!=2.5.*,!=2.6.*,!=2.7.*,!=2.8.*,!=2.9.*,<3.0.0dev,>=1.34.1->google-ai-generativelanguage==0.6.10->google-generativeai->-r requirements.txt (line 7))\n",
      "  Downloading grpcio_status-1.67.1-py3-none-any.whl.metadata (1.1 kB)\n",
      "Collecting pyasn1<0.7.0,>=0.4.6 (from pyasn1-modules>=0.2.1->google-auth>=2.15.0->google-generativeai->-r requirements.txt (line 7))\n",
      "  Downloading pyasn1-0.6.1-py3-none-any.whl.metadata (8.4 kB)\n",
      "Requirement already satisfied: charset-normalizer<4,>=2 in c:\\users\\chara\\appdata\\local\\packages\\pythonsoftwarefoundation.python.3.11_qbz5n2kfra8p0\\localcache\\local-packages\\python311\\site-packages (from requests<3.0.0.dev0,>=2.18.0->google-api-core->google-generativeai->-r requirements.txt (line 7)) (3.4.0)\n",
      "Requirement already satisfied: idna<4,>=2.5 in c:\\users\\chara\\appdata\\local\\packages\\pythonsoftwarefoundation.python.3.11_qbz5n2kfra8p0\\localcache\\local-packages\\python311\\site-packages (from requests<3.0.0.dev0,>=2.18.0->google-api-core->google-generativeai->-r requirements.txt (line 7)) (3.10)\n",
      "Requirement already satisfied: urllib3<3,>=1.21.1 in c:\\users\\chara\\appdata\\local\\packages\\pythonsoftwarefoundation.python.3.11_qbz5n2kfra8p0\\localcache\\local-packages\\python311\\site-packages (from requests<3.0.0.dev0,>=2.18.0->google-api-core->google-generativeai->-r requirements.txt (line 7)) (2.2.3)\n",
      "Requirement already satisfied: certifi>=2017.4.17 in c:\\users\\chara\\appdata\\local\\packages\\pythonsoftwarefoundation.python.3.11_qbz5n2kfra8p0\\localcache\\local-packages\\python311\\site-packages (from requests<3.0.0.dev0,>=2.18.0->google-api-core->google-generativeai->-r requirements.txt (line 7)) (2024.8.30)\n",
      "Downloading google_generativeai-0.8.3-py3-none-any.whl (160 kB)\n",
      "Downloading google_ai_generativelanguage-0.6.10-py3-none-any.whl (760 kB)\n",
      "   ---------------------------------------- 0.0/760.0 kB ? eta -:--:--\n",
      "   --------------------------------------- 760.0/760.0 kB 16.1 MB/s eta 0:00:00\n",
      "Downloading google_api_core-2.22.0-py3-none-any.whl (156 kB)\n",
      "Downloading google_auth-2.36.0-py2.py3-none-any.whl (209 kB)\n",
      "Downloading protobuf-5.28.3-cp310-abi3-win_amd64.whl (431 kB)\n",
      "Downloading google_api_python_client-2.151.0-py2.py3-none-any.whl (12.5 MB)\n",
      "   ---------------------------------------- 0.0/12.5 MB ? eta -:--:--\n",
      "   ------------------------- -------------- 8.1/12.5 MB 38.7 MB/s eta 0:00:01\n",
      "   ---------------------------------------- 12.5/12.5 MB 37.4 MB/s eta 0:00:00\n",
      "Downloading pydantic-2.9.2-py3-none-any.whl (434 kB)\n",
      "Downloading pydantic_core-2.23.4-cp311-none-win_amd64.whl (1.9 MB)\n",
      "   ---------------------------------------- 0.0/1.9 MB ? eta -:--:--\n",
      "   ---------------------------------------- 1.9/1.9 MB 35.2 MB/s eta 0:00:00\n",
      "Downloading tqdm-4.67.0-py3-none-any.whl (78 kB)\n",
      "Downloading annotated_types-0.7.0-py3-none-any.whl (13 kB)\n",
      "Downloading cachetools-5.5.0-py3-none-any.whl (9.5 kB)\n",
      "Downloading google_auth_httplib2-0.2.0-py2.py3-none-any.whl (9.3 kB)\n",
      "Downloading googleapis_common_protos-1.65.0-py2.py3-none-any.whl (220 kB)\n",
      "Downloading httplib2-0.22.0-py3-none-any.whl (96 kB)\n",
      "Downloading proto_plus-1.25.0-py3-none-any.whl (50 kB)\n",
      "Downloading pyasn1_modules-0.4.1-py3-none-any.whl (181 kB)\n",
      "Downloading rsa-4.9-py3-none-any.whl (34 kB)\n",
      "Downloading uritemplate-4.1.1-py2.py3-none-any.whl (10 kB)\n",
      "Downloading grpcio-1.67.1-cp311-cp311-win_amd64.whl (4.4 MB)\n",
      "   ---------------------------------------- 0.0/4.4 MB ? eta -:--:--\n",
      "   ---------------------------------------- 4.4/4.4 MB 37.5 MB/s eta 0:00:00\n",
      "Downloading grpcio_status-1.67.1-py3-none-any.whl (14 kB)\n",
      "Downloading pyasn1-0.6.1-py3-none-any.whl (83 kB)\n",
      "Installing collected packages: uritemplate, tqdm, pydantic-core, pyasn1, protobuf, httplib2, grpcio, cachetools, annotated-types, rsa, pydantic, pyasn1-modules, proto-plus, googleapis-common-protos, grpcio-status, google-auth, google-auth-httplib2, google-api-core, google-api-python-client, google-ai-generativelanguage, google-generativeai\n",
      "Successfully installed annotated-types-0.7.0 cachetools-5.5.0 google-ai-generativelanguage-0.6.10 google-api-core-2.22.0 google-api-python-client-2.151.0 google-auth-2.36.0 google-auth-httplib2-0.2.0 google-generativeai-0.8.3 googleapis-common-protos-1.65.0 grpcio-1.67.1 grpcio-status-1.67.1 httplib2-0.22.0 proto-plus-1.25.0 protobuf-5.28.3 pyasn1-0.6.1 pyasn1-modules-0.4.1 pydantic-2.9.2 pydantic-core-2.23.4 rsa-4.9 tqdm-4.67.0 uritemplate-4.1.1\n"
     ]
    }
   ],
   "source": [
    "#librerias\n",
    "#!pip install -r requirements.txt #si se usa python2\n",
    "#si se usa python 3\n",
    "!python3 -m pip install -r requirements.txt\n",
    "#!python -m pip install -r requirements.txt #correr pyhon3 si no tiene instalado el 2.7"
   ]
  },
  {
   "cell_type": "code",
   "execution_count": 2,
   "metadata": {
    "execution": {
     "iopub.execute_input": "2024-11-11T07:24:33.240006Z",
     "iopub.status.busy": "2024-11-11T07:24:33.239008Z",
     "iopub.status.idle": "2024-11-11T07:24:34.797701Z",
     "shell.execute_reply": "2024-11-11T07:24:34.796690Z"
    }
   },
   "outputs": [],
   "source": [
    "#Importar la conexiones a las bases de datos \n",
    "from connection_script import connect_databases\n"
   ]
  },
  {
   "cell_type": "code",
   "execution_count": 3,
   "metadata": {
    "execution": {
     "iopub.execute_input": "2024-11-11T07:24:34.800702Z",
     "iopub.status.busy": "2024-11-11T07:24:34.800702Z",
     "iopub.status.idle": "2024-11-11T07:24:34.806409Z",
     "shell.execute_reply": "2024-11-11T07:24:34.805297Z"
    }
   },
   "outputs": [],
   "source": [
    "# Prueba de conexion a la base de datos\n",
    "#!python3 test_bd.py\n"
   ]
  },
  {
   "cell_type": "code",
   "execution_count": 4,
   "metadata": {
    "execution": {
     "iopub.execute_input": "2024-11-11T07:24:34.809396Z",
     "iopub.status.busy": "2024-11-11T07:24:34.808386Z",
     "iopub.status.idle": "2024-11-11T07:24:41.610715Z",
     "shell.execute_reply": "2024-11-11T07:24:41.609703Z"
    }
   },
   "outputs": [
    {
     "name": "stdout",
     "output_type": "stream",
     "text": [
      "El departamento con ID 4 ya existe en etl_rapidos_furiosos, no se insertar�.\n",
      "El departamento con ID 3 ya existe en etl_rapidos_furiosos, no se insertar�.\n",
      "El departamento con ID 2 ya existe en etl_rapidos_furiosos, no se insertar�.\n",
      "El departamento con ID 1 ya existe en etl_rapidos_furiosos, no se insertar�.\n",
      "Registros en la base de datos 'etl_rapidos_furiosos':\n",
      "   ID Departamento Nombre Departamento\n",
      "0                1     VALLE DEL CAUCA\n",
      "1                2        CUNDINAMARCA\n",
      "2                3               CAUCA\n",
      "3                4              NARI�O\n"
     ]
    }
   ],
   "source": [
    "#Ejecutar ETL Departamento \n",
    "!python3 DimDepartamento.py\n"
   ]
  },
  {
   "cell_type": "code",
   "execution_count": 5,
   "metadata": {
    "execution": {
     "iopub.execute_input": "2024-11-11T07:24:41.615221Z",
     "iopub.status.busy": "2024-11-11T07:24:41.613714Z",
     "iopub.status.idle": "2024-11-11T07:24:45.109012Z",
     "shell.execute_reply": "2024-11-11T07:24:45.107000Z"
    }
   },
   "outputs": [
    {
     "name": "stdout",
     "output_type": "stream",
     "text": [
      "La ciudad con ID 6 ya existe, no se insertar�.\n",
      "La ciudad con ID 5 ya existe, no se insertar�.\n",
      "La ciudad con ID 4 ya existe, no se insertar�.\n",
      "La ciudad con ID 3 ya existe, no se insertar�.\n",
      "La ciudad con ID 2 ya existe, no se insertar�.\n",
      "La ciudad con ID 1 ya existe, no se insertar�.\n",
      "La ciudad con ID 7 ya existe, no se insertar�.\n",
      "La ciudad con ID 10 ya existe, no se insertar�.\n",
      "La ciudad con ID 11 ya existe, no se insertar�.\n",
      "La ciudad con ID 12 ya existe, no se insertar�.\n",
      "La ciudad con ID 9 ya existe, no se insertar�.\n",
      "La ciudad con ID 8 ya existe, no se insertar�.\n",
      "La ciudad con ID 13 ya existe, no se insertar�.\n",
      "La ciudad con ID 14 ya existe, no se insertar�.\n",
      "La ciudad con ID 15 ya existe, no se insertar�.\n",
      "La ciudad con ID 16 ya existe, no se insertar�.\n",
      "La ciudad con ID 17 ya existe, no se insertar�.\n",
      "La ciudad con ID 18 ya existe, no se insertar�.\n",
      "La ciudad con ID 19 ya existe, no se insertar�.\n",
      "Registros en la base de datos 'etl_rapidos_furiosos' (ciudades):\n",
      "    ID Ciudad  Nombre Ciudad  ID Departamento\n",
      "0           1           CALI                1\n",
      "1           2        PALMIRA                1\n",
      "2           3        POPAYAN                3\n",
      "3           4          PASTO                4\n",
      "4           5         BOGOTA                2\n",
      "5           6           BUGA                1\n",
      "6           7          TULUA                1\n",
      "7           8          YUMBO                1\n",
      "8           9        JAMUNDI                1\n",
      "9          10        GUACARI                1\n",
      "10         11     CANDELARIA                1\n",
      "11         12        CARTAGO                1\n",
      "12         13    ACOPI YUMBO                1\n",
      "13         14   CENCAR YUMBO                1\n",
      "14         15         ZARZAL                1\n",
      "15         16     VILLA RICA                3\n",
      "16         17        FLORIDA                1\n",
      "17         18        PRADERA                1\n",
      "18         19  CALIMA DARIEN                1\n"
     ]
    }
   ],
   "source": [
    "#Ejecutar ETL Ciudades \n",
    "!python3 DimCiudades.py"
   ]
  },
  {
   "cell_type": "code",
   "execution_count": 6,
   "metadata": {
    "execution": {
     "iopub.execute_input": "2024-11-11T07:24:45.114525Z",
     "iopub.status.busy": "2024-11-11T07:24:45.113012Z",
     "iopub.status.idle": "2024-11-11T07:24:47.946079Z",
     "shell.execute_reply": "2024-11-11T07:24:47.945070Z"
    }
   },
   "outputs": [
    {
     "name": "stdout",
     "output_type": "stream",
     "text": [
      "El tipo de cliente con ID 1 ya existe en etl_rapidos_furiosos, no se insertar�.\n",
      "El tipo de cliente con ID 2 ya existe en etl_rapidos_furiosos, no se insertar�.\n",
      "Registros en la base de datos 'etl_rapidos_furiosos' (tipo_cliente):\n",
      "   ID Tipo Cliente            Nombre Descripci�n\n",
      "0                1  Persona Juridica         NaN\n",
      "1                2   Persona Natural         NaN\n"
     ]
    }
   ],
   "source": [
    "#Ejecutar ETL Tipo Cliente \n",
    "!python3 DimTipoCliente.py"
   ]
  },
  {
   "cell_type": "code",
   "execution_count": 7,
   "metadata": {
    "execution": {
     "iopub.execute_input": "2024-11-11T07:24:47.949095Z",
     "iopub.status.busy": "2024-11-11T07:24:47.948085Z",
     "iopub.status.idle": "2024-11-11T07:24:50.991461Z",
     "shell.execute_reply": "2024-11-11T07:24:50.990451Z"
    }
   },
   "outputs": [
    {
     "name": "stdout",
     "output_type": "stream",
     "text": [
      "El cliente con ID 1 ya existe en etl_rapidos_furiosos, no se insertar�.\n",
      "El cliente con ID 2 ya existe en etl_rapidos_furiosos, no se insertar�.\n",
      "El cliente con ID 6 ya existe en etl_rapidos_furiosos, no se insertar�.\n",
      "El cliente con ID 19 ya existe en etl_rapidos_furiosos, no se insertar�.\n",
      "El cliente con ID 8 ya existe en etl_rapidos_furiosos, no se insertar�.\n",
      "El cliente con ID 3 ya existe en etl_rapidos_furiosos, no se insertar�.\n",
      "El cliente con ID 4 ya existe en etl_rapidos_furiosos, no se insertar�.\n",
      "El cliente con ID 5 ya existe en etl_rapidos_furiosos, no se insertar�.\n",
      "El cliente con ID 7 ya existe en etl_rapidos_furiosos, no se insertar�.\n",
      "El cliente con ID 9 ya existe en etl_rapidos_furiosos, no se insertar�.\n",
      "El cliente con ID 10 ya existe en etl_rapidos_furiosos, no se insertar�.\n",
      "El cliente con ID 11 ya existe en etl_rapidos_furiosos, no se insertar�.\n",
      "El cliente con ID 12 ya existe en etl_rapidos_furiosos, no se insertar�.\n",
      "El cliente con ID 13 ya existe en etl_rapidos_furiosos, no se insertar�.\n",
      "El cliente con ID 14 ya existe en etl_rapidos_furiosos, no se insertar�.\n",
      "El cliente con ID 15 ya existe en etl_rapidos_furiosos, no se insertar�.\n",
      "El cliente con ID 16 ya existe en etl_rapidos_furiosos, no se insertar�.\n",
      "El cliente con ID 17 ya existe en etl_rapidos_furiosos, no se insertar�.\n",
      "El cliente con ID 18 ya existe en etl_rapidos_furiosos, no se insertar�.\n",
      "El cliente con ID 20 ya existe en etl_rapidos_furiosos, no se insertar�.\n",
      "El cliente con ID 21 ya existe en etl_rapidos_furiosos, no se insertar�.\n",
      "El cliente con ID 22 ya existe en etl_rapidos_furiosos, no se insertar�.\n",
      "El cliente con ID 23 ya existe en etl_rapidos_furiosos, no se insertar�.\n",
      "El cliente con ID 24 ya existe en etl_rapidos_furiosos, no se insertar�.\n",
      "El cliente con ID 25 ya existe en etl_rapidos_furiosos, no se insertar�.\n",
      "El cliente con ID 26 ya existe en etl_rapidos_furiosos, no se insertar�.\n",
      "El cliente con ID 27 ya existe en etl_rapidos_furiosos, no se insertar�.\n",
      "Registros en la base de datos 'etl_rapidos_furiosos' (cliente):\n",
      "    ID Cliente  ... ID Ciudad\n",
      "0            1  ...         1\n",
      "1            2  ...         1\n",
      "2            3  ...         1\n",
      "3            4  ...         1\n",
      "4            5  ...         1\n",
      "5            6  ...         1\n",
      "6            7  ...         1\n",
      "7            8  ...         1\n",
      "8            9  ...         1\n",
      "9           10  ...         1\n",
      "10          11  ...         1\n",
      "11          12  ...         1\n",
      "12          13  ...         1\n",
      "13          14  ...         1\n",
      "14          15  ...         1\n",
      "15          16  ...         1\n",
      "16          17  ...         1\n",
      "17          18  ...         1\n",
      "18          19  ...         1\n",
      "19          20  ...         8\n",
      "20          21  ...         1\n",
      "21          22  ...         1\n",
      "22          23  ...         1\n",
      "23          24  ...         1\n",
      "24          25  ...         1\n",
      "25          26  ...         1\n",
      "26          27  ...         1\n",
      "\n",
      "[27 rows x 4 columns]\n"
     ]
    }
   ],
   "source": [
    "#Ejecutar ETL Clientes \n",
    "!python3 DimCliente.py"
   ]
  },
  {
   "cell_type": "code",
   "execution_count": 8,
   "metadata": {
    "execution": {
     "iopub.execute_input": "2024-11-11T07:24:50.995979Z",
     "iopub.status.busy": "2024-11-11T07:24:50.994969Z",
     "iopub.status.idle": "2024-11-11T07:24:52.872832Z",
     "shell.execute_reply": "2024-11-11T07:24:52.872832Z"
    }
   },
   "outputs": [
    {
     "name": "stdout",
     "output_type": "stream",
     "text": [
      "El tipo de veh�culo con ID 3 ya existe en etl_rapidos_furiosos, no se insertar�.\n",
      "El tipo de veh�culo con ID 4 ya existe en etl_rapidos_furiosos, no se insertar�.\n",
      "El tipo de veh�culo con ID 2 ya existe en etl_rapidos_furiosos, no se insertar�.\n",
      "El tipo de veh�culo con ID 1 ya existe en etl_rapidos_furiosos, no se insertar�.\n",
      "Registros en la base de datos 'etl_rapidos_furiosos' (tipo_vehiculo):\n",
      "   ID Tipo Veh�culo            Nombre       Descripci�n\n",
      "0                 1  Autom�vil - Vans  Autom�vil - Vans\n",
      "1                 2              Moto              Moto\n",
      "2                 3     Moto carguero     Moto carguero\n",
      "3                 4         Camioneta         Camioneta\n"
     ]
    }
   ],
   "source": [
    "#Ejecutar ETL Tipo Vehiculo \n",
    "!python3 DimTipoVehiculo.py"
   ]
  },
  {
   "cell_type": "code",
   "execution_count": 9,
   "metadata": {
    "execution": {
     "iopub.execute_input": "2024-11-11T07:24:52.875363Z",
     "iopub.status.busy": "2024-11-11T07:24:52.875363Z",
     "iopub.status.idle": "2024-11-11T07:24:54.290290Z",
     "shell.execute_reply": "2024-11-11T07:24:54.289283Z"
    }
   },
   "outputs": [
    {
     "name": "stdout",
     "output_type": "stream",
     "text": [
      "El tipo de pago con ID 1 ya existe en etl_rapidos_furiosos, no se insertar�.\n",
      "El tipo de pago con ID 2 ya existe en etl_rapidos_furiosos, no se insertar�.\n",
      "El tipo de pago con ID 3 ya existe en etl_rapidos_furiosos, no se insertar�.\n",
      "El tipo de pago con ID 4 ya existe en etl_rapidos_furiosos, no se insertar�.\n",
      "El tipo de pago con ID 5 ya existe en etl_rapidos_furiosos, no se insertar�.\n",
      "El tipo de pago con ID 6 ya existe en etl_rapidos_furiosos, no se insertar�.\n",
      "El tipo de pago con ID 7 ya existe en etl_rapidos_furiosos, no se insertar�.\n",
      "Registros en la base de datos 'etl_rapidos_furiosos' (tipo_pago):\n",
      "   ID Tipo Pago               Nombre     Descripci�n\n",
      "0             1             Efectivo        Efectivo\n",
      "1             2              Cr�dito         Cr�dito\n",
      "2             3             Dat�fono        Dat�fono\n",
      "3             4       Recibo de caja  Recibo de caja\n",
      "4             5             Traslado        Traslado\n",
      "5             6             convenio        convenio\n",
      "6             7  Compra de repuestos         Compras\n"
     ]
    }
   ],
   "source": [
    "#Ejecutar ETL Tipo Pago \n",
    "!python3 DimTipoPago.py"
   ]
  },
  {
   "cell_type": "code",
   "execution_count": 10,
   "metadata": {
    "execution": {
     "iopub.execute_input": "2024-11-11T07:24:54.293328Z",
     "iopub.status.busy": "2024-11-11T07:24:54.292291Z",
     "iopub.status.idle": "2024-11-11T07:24:55.868936Z",
     "shell.execute_reply": "2024-11-11T07:24:55.868936Z"
    }
   },
   "outputs": [
    {
     "name": "stdout",
     "output_type": "stream",
     "text": [
      "La sede con ID 10 ya existe en etl_rapidos_furiosos, no se insertar�.\n",
      "La sede con ID 11 ya existe en etl_rapidos_furiosos, no se insertar�.\n",
      "La sede con ID 13 ya existe en etl_rapidos_furiosos, no se insertar�.\n",
      "La sede con ID 14 ya existe en etl_rapidos_furiosos, no se insertar�.\n",
      "La sede con ID 23 ya existe en etl_rapidos_furiosos, no se insertar�.\n",
      "La sede con ID 24 ya existe en etl_rapidos_furiosos, no se insertar�.\n",
      "La sede con ID 25 ya existe en etl_rapidos_furiosos, no se insertar�.\n",
      "La sede con ID 26 ya existe en etl_rapidos_furiosos, no se insertar�.\n",
      "La sede con ID 32 ya existe en etl_rapidos_furiosos, no se insertar�.\n",
      "La sede con ID 33 ya existe en etl_rapidos_furiosos, no se insertar�.\n",
      "La sede con ID 35 ya existe en etl_rapidos_furiosos, no se insertar�.\n",
      "La sede con ID 46 ya existe en etl_rapidos_furiosos, no se insertar�.\n",
      "La sede con ID 44 ya existe en etl_rapidos_furiosos, no se insertar�.\n",
      "La sede con ID 45 ya existe en etl_rapidos_furiosos, no se insertar�.\n",
      "La sede con ID 1 ya existe en etl_rapidos_furiosos, no se insertar�.\n",
      "La sede con ID 2 ya existe en etl_rapidos_furiosos, no se insertar�.\n",
      "La sede con ID 5 ya existe en etl_rapidos_furiosos, no se insertar�.\n",
      "La sede con ID 7 ya existe en etl_rapidos_furiosos, no se insertar�.\n",
      "La sede con ID 9 ya existe en etl_rapidos_furiosos, no se insertar�.\n",
      "La sede con ID 8 ya existe en etl_rapidos_furiosos, no se insertar�.\n",
      "La sede con ID 48 ya existe en etl_rapidos_furiosos, no se insertar�.\n",
      "La sede con ID 28 ya existe en etl_rapidos_furiosos, no se insertar�.\n",
      "La sede con ID 49 ya existe en etl_rapidos_furiosos, no se insertar�.\n",
      "La sede con ID 40 ya existe en etl_rapidos_furiosos, no se insertar�.\n",
      "La sede con ID 6 ya existe en etl_rapidos_furiosos, no se insertar�.\n",
      "La sede con ID 41 ya existe en etl_rapidos_furiosos, no se insertar�.\n",
      "La sede con ID 42 ya existe en etl_rapidos_furiosos, no se insertar�.\n",
      "La sede con ID 15 ya existe en etl_rapidos_furiosos, no se insertar�.\n",
      "La sede con ID 16 ya existe en etl_rapidos_furiosos, no se insertar�.\n",
      "La sede con ID 17 ya existe en etl_rapidos_furiosos, no se insertar�.\n",
      "La sede con ID 18 ya existe en etl_rapidos_furiosos, no se insertar�.\n",
      "La sede con ID 19 ya existe en etl_rapidos_furiosos, no se insertar�.\n",
      "La sede con ID 20 ya existe en etl_rapidos_furiosos, no se insertar�.\n",
      "La sede con ID 21 ya existe en etl_rapidos_furiosos, no se insertar�.\n",
      "La sede con ID 22 ya existe en etl_rapidos_furiosos, no se insertar�.\n",
      "La sede con ID 29 ya existe en etl_rapidos_furiosos, no se insertar�.\n",
      "La sede con ID 34 ya existe en etl_rapidos_furiosos, no se insertar�.\n",
      "La sede con ID 36 ya existe en etl_rapidos_furiosos, no se insertar�.\n",
      "La sede con ID 37 ya existe en etl_rapidos_furiosos, no se insertar�.\n",
      "La sede con ID 47 ya existe en etl_rapidos_furiosos, no se insertar�.\n",
      "La sede con ID 51 ya existe en etl_rapidos_furiosos, no se insertar�.\n",
      "La sede con ID 30 ya existe en etl_rapidos_furiosos, no se insertar�.\n",
      "La sede con ID 50 ya existe en etl_rapidos_furiosos, no se insertar�.\n",
      "La sede con ID 38 ya existe en etl_rapidos_furiosos, no se insertar�.\n",
      "La sede con ID 31 ya existe en etl_rapidos_furiosos, no se insertar�.\n",
      "La sede con ID 52 ya existe en etl_rapidos_furiosos, no se insertar�.\n",
      "La sede con ID 53 ya existe en etl_rapidos_furiosos, no se insertar�.\n",
      "La sede con ID 54 ya existe en etl_rapidos_furiosos, no se insertar�.\n",
      "La sede con ID 85 ya existe en etl_rapidos_furiosos, no se insertar�.\n",
      "La sede con ID 3 ya existe en etl_rapidos_furiosos, no se insertar�.\n",
      "La sede con ID 4 ya existe en etl_rapidos_furiosos, no se insertar�.\n",
      "La sede con ID 12 ya existe en etl_rapidos_furiosos, no se insertar�.\n",
      "Registros en la base de datos 'etl_rapidos_furiosos' (sedes):\n",
      "    ID Sede                       Nombre Sede  ID Ciudad\n",
      "0         1         Sede principal - Cliente1          1\n",
      "1         2              sede aux - cliente 1          1\n",
      "2         3               TORRES DE MARACAIBO          1\n",
      "3         4                           INGENIO          1\n",
      "4         5                      VASQUEZ COBO          1\n",
      "5         6                         CAPITOLIO          1\n",
      "6         7                     VILLACOLOMBIA          1\n",
      "7         8             PRINCIPAL / OCCIDENTE          1\n",
      "8         9                 PRINCIPAL/ ESENSA          1\n",
      "9        10                   FARALLONES /123          1\n",
      "10       11                     REMEDIOZ/ 123          1\n",
      "11       12            PALMA REAL / LOS ROJOS          2\n",
      "12       13                  DIME / LOS ROJOS          1\n",
      "13       14             DESPACHOS / LOS ROJOS          1\n",
      "14       15  PRINCIPAL NORTE / CHINA PACIFICO          1\n",
      "15       16       MEGATALLER / CHINA PACIFICO          1\n",
      "16       17                BUSES Y CAMIONES -          1\n",
      "17       18                            FORCAS          1\n",
      "18       19                         HYUNDAI /          1\n",
      "19       20                FORD CA�AS FLASCAS          1\n",
      "20       21                    BUGA BODEGA 24          6\n",
      "21       22                 TULUA BODEGA 26 /          7\n",
      "22       23             POPAYAN BODEGA 28 / A          3\n",
      "23       24                  PASTO VITRINA /           4\n",
      "24       25                  PASTO BODEGA 29/          4\n",
      "25       26            PALMIRA BODEGA 20  /            2\n",
      "26       28             CONTRIBUTIVO / ESENSA          1\n",
      "27       29          PROVIDA ATENCION BASICA           1\n",
      "28       30                 RIOCAUCA / ESENSA          1\n",
      "29       31                        CRISTO REY          1\n",
      "30       32                   CLINICA FABILUX          1\n",
      "31       33                FORDES PASOANCHOS           1\n",
      "32       34                         AUTOPISTA          1\n",
      "33       35                            JMC /           1\n",
      "34       36                     PRINCIPAL /14          1\n",
      "35       37                             HEMAS          1\n",
      "36       38                          HEMOLIFE          1\n",
      "37       40                    TRAUMA ORIENTE          1\n",
      "38       41                         ARTMEDICA          1\n",
      "39       42                      CLINICA CALI          1\n",
      "40       44                       VALLE NORTE          1\n",
      "41       45                          CAMBULOS          1\n",
      "42       46                     SAN BER NANDO          1\n",
      "43       47                      CLINICA CALI          1\n",
      "44       48              BATALLON DISPENSARIO          1\n",
      "45       49                         OCCISALUD          1\n",
      "46       50                         RECUPERAR          1\n",
      "47       51                         CLUB NOEL          1\n",
      "48       52                      NUEVA HEMATO          1\n",
      "49       53                      NUEVA HEMATO          1\n",
      "50       54                      NUEVA HEMATO          1\n",
      "51       85                             CIMEX          1\n"
     ]
    }
   ],
   "source": [
    "#Ejecutar ETL Sedes \n",
    "!python3 DimSedes.py"
   ]
  },
  {
   "cell_type": "code",
   "execution_count": null,
   "metadata": {},
   "outputs": [],
   "source": []
  }
 ],
 "metadata": {
  "kernelspec": {
   "display_name": ".venv",
   "language": "python",
   "name": "python3"
  },
  "language_info": {
   "codemirror_mode": {
    "name": "ipython",
    "version": 3
   },
   "file_extension": ".py",
   "mimetype": "text/x-python",
   "name": "python",
   "nbconvert_exporter": "python",
   "pygments_lexer": "ipython3",
   "version": "3.11.9"
  }
 },
 "nbformat": 4,
 "nbformat_minor": 2
}
