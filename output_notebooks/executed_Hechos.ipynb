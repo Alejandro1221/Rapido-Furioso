{
 "cells": [
  {
   "cell_type": "raw",
   "metadata": {},
   "source": [
    "Implementar los diferentes Hechos del ETL para el analizar y procesamiento de los datos "
   ]
  },
  {
   "cell_type": "code",
   "execution_count": 1,
   "metadata": {
    "execution": {
     "iopub.execute_input": "2024-11-09T04:31:11.080525Z",
     "iopub.status.busy": "2024-11-09T04:31:11.079931Z",
     "iopub.status.idle": "2024-11-09T04:31:13.663905Z",
     "shell.execute_reply": "2024-11-09T04:31:13.661541Z"
    }
   },
   "outputs": [
    {
     "name": "stdout",
     "output_type": "stream",
     "text": [
      "Traceback (most recent call last):\r\n",
      "  File \"/Library/Frameworks/Python.framework/Versions/3.12/lib/python3.12/site-packages/sqlalchemy/engine/base.py\", line 1967, in _exec_single_context\r\n",
      "    self.dialect.do_execute(\r\n",
      "  File \"/Library/Frameworks/Python.framework/Versions/3.12/lib/python3.12/site-packages/sqlalchemy/engine/default.py\", line 941, in do_execute\r\n",
      "    cursor.execute(statement, parameters)\r\n",
      "psycopg2.errors.UndefinedTable: relation \"clientes\" does not exist\r\n",
      "LINE 1: SELECT EXISTS(SELECT 1 FROM clientes WHERE id_cliente = 5)\r\n",
      "                                    ^\r\n",
      "\r\n",
      "\r\n",
      "The above exception was the direct cause of the following exception:\r\n",
      "\r\n",
      "Traceback (most recent call last):\r\n",
      "  File \"/Users/jhonfreddypopomoreno/code/Univalle/Rapido-Furioso/HechoServicios.py\", line 95, in <module>\r\n",
      "    etl_mayor()\r\n",
      "  File \"/Users/jhonfreddypopomoreno/code/Univalle/Rapido-Furioso/HechoServicios.py\", line 32, in etl_mayor\r\n",
      "    df['cliente_id'] = df['cliente_id'].apply(lambda x: validar_existencia_id(conn_etl, 'clientes', 'id_cliente', x))\r\n",
      "                       ^^^^^^^^^^^^^^^^^^^^^^^^^^^^^^^^^^^^^^^^^^^^^^^^^^^^^^^^^^^^^^^^^^^^^^^^^^^^^^^^^^^^^^^^^^^^^^\r\n",
      "  File \"/Library/Frameworks/Python.framework/Versions/3.12/lib/python3.12/site-packages/pandas/core/series.py\", line 4924, in apply\r\n",
      "    ).apply()\r\n",
      "      ^^^^^^^\r\n",
      "  File \"/Library/Frameworks/Python.framework/Versions/3.12/lib/python3.12/site-packages/pandas/core/apply.py\", line 1427, in apply\r\n",
      "    return self.apply_standard()\r\n",
      "           ^^^^^^^^^^^^^^^^^^^^^\r\n",
      "  File \"/Library/Frameworks/Python.framework/Versions/3.12/lib/python3.12/site-packages/pandas/core/apply.py\", line 1507, in apply_standard\r\n",
      "    mapped = obj._map_values(\r\n",
      "             ^^^^^^^^^^^^^^^^\r\n",
      "  File \"/Library/Frameworks/Python.framework/Versions/3.12/lib/python3.12/site-packages/pandas/core/base.py\", line 921, in _map_values\r\n",
      "    return algorithms.map_array(arr, mapper, na_action=na_action, convert=convert)\r\n",
      "           ^^^^^^^^^^^^^^^^^^^^^^^^^^^^^^^^^^^^^^^^^^^^^^^^^^^^^^^^^^^^^^^^^^^^^^^\r\n",
      "  File \"/Library/Frameworks/Python.framework/Versions/3.12/lib/python3.12/site-packages/pandas/core/algorithms.py\", line 1743, in map_array\r\n",
      "    return lib.map_infer(values, mapper, convert=convert)\r\n",
      "           ^^^^^^^^^^^^^^^^^^^^^^^^^^^^^^^^^^^^^^^^^^^^^^\r\n",
      "  File \"lib.pyx\", line 2972, in pandas._libs.lib.map_infer\r\n",
      "  File \"/Users/jhonfreddypopomoreno/code/Univalle/Rapido-Furioso/HechoServicios.py\", line 32, in <lambda>\r\n",
      "    df['cliente_id'] = df['cliente_id'].apply(lambda x: validar_existencia_id(conn_etl, 'clientes', 'id_cliente', x))\r\n",
      "                                                        ^^^^^^^^^^^^^^^^^^^^^^^^^^^^^^^^^^^^^^^^^^^^^^^^^^^^^^^^^^^^\r\n",
      "  File \"/Users/jhonfreddypopomoreno/code/Univalle/Rapido-Furioso/HechoServicios.py\", line 77, in validar_existencia_id\r\n",
      "    result = conn.execute(query, {'valor_id': valor_id})\r\n",
      "             ^^^^^^^^^^^^^^^^^^^^^^^^^^^^^^^^^^^^^^^^^^^\r\n",
      "  File \"/Library/Frameworks/Python.framework/Versions/3.12/lib/python3.12/site-packages/sqlalchemy/engine/base.py\", line 1418, in execute\r\n",
      "    return meth(\r\n",
      "           ^^^^^\r\n",
      "  File \"/Library/Frameworks/Python.framework/Versions/3.12/lib/python3.12/site-packages/sqlalchemy/sql/elements.py\", line 515, in _execute_on_connection\r\n",
      "    return connection._execute_clauseelement(\r\n",
      "           ^^^^^^^^^^^^^^^^^^^^^^^^^^^^^^^^^^\r\n",
      "  File \"/Library/Frameworks/Python.framework/Versions/3.12/lib/python3.12/site-packages/sqlalchemy/engine/base.py\", line 1640, in _execute_clauseelement\r\n",
      "    ret = self._execute_context(\r\n",
      "          ^^^^^^^^^^^^^^^^^^^^^^\r\n",
      "  File \"/Library/Frameworks/Python.framework/Versions/3.12/lib/python3.12/site-packages/sqlalchemy/engine/base.py\", line 1846, in _execute_context\r\n",
      "    return self._exec_single_context(\r\n",
      "           ^^^^^^^^^^^^^^^^^^^^^^^^^^\r\n",
      "  File \"/Library/Frameworks/Python.framework/Versions/3.12/lib/python3.12/site-packages/sqlalchemy/engine/base.py\", line 1986, in _exec_single_context\r\n",
      "    self._handle_dbapi_exception(\r\n",
      "  File \"/Library/Frameworks/Python.framework/Versions/3.12/lib/python3.12/site-packages/sqlalchemy/engine/base.py\", line 2355, in _handle_dbapi_exception\r\n",
      "    raise sqlalchemy_exception.with_traceback(exc_info[2]) from e\r\n",
      "  File \"/Library/Frameworks/Python.framework/Versions/3.12/lib/python3.12/site-packages/sqlalchemy/engine/base.py\", line 1967, in _exec_single_context\r\n",
      "    self.dialect.do_execute(\r\n",
      "  File \"/Library/Frameworks/Python.framework/Versions/3.12/lib/python3.12/site-packages/sqlalchemy/engine/default.py\", line 941, in do_execute\r\n",
      "    cursor.execute(statement, parameters)\r\n",
      "sqlalchemy.exc.ProgrammingError: (psycopg2.errors.UndefinedTable) relation \"clientes\" does not exist\r\n",
      "LINE 1: SELECT EXISTS(SELECT 1 FROM clientes WHERE id_cliente = 5)\r\n",
      "                                    ^\r\n",
      "\r\n",
      "[SQL: SELECT EXISTS(SELECT 1 FROM clientes WHERE id_cliente = %(valor_id)s)]\r\n",
      "[parameters: {'valor_id': 5}]\r\n",
      "(Background on this error at: https://sqlalche.me/e/20/f405)\r\n"
     ]
    }
   ],
   "source": [
    "#Cargar data a la tabla de Hechos Servicios \n",
    "!python3 HechoServicios.py"
   ]
  }
 ],
 "metadata": {
  "kernelspec": {
   "display_name": "Python 3",
   "language": "python",
   "name": "myenv"
  },
  "language_info": {
   "codemirror_mode": {
    "name": "ipython",
    "version": 3
   },
   "file_extension": ".py",
   "mimetype": "text/x-python",
   "name": "python",
   "nbconvert_exporter": "python",
   "pygments_lexer": "ipython3",
   "version": "3.12.3"
  }
 },
 "nbformat": 4,
 "nbformat_minor": 2
}
