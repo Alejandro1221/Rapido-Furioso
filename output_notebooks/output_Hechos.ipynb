{
 "cells": [
  {
   "cell_type": "raw",
   "metadata": {},
   "source": [
    "Implementar los diferentes Hechos del ETL para el analizar y procesamiento de los datos "
   ]
  },
  {
   "cell_type": "code",
   "execution_count": 1,
   "metadata": {
    "execution": {
     "iopub.execute_input": "2024-11-11T07:25:20.132983Z",
     "iopub.status.busy": "2024-11-11T07:25:20.132983Z",
     "iopub.status.idle": "2024-11-11T07:25:20.141560Z",
     "shell.execute_reply": "2024-11-11T07:25:20.140549Z"
    }
   },
   "outputs": [],
   "source": [
    "#Cargar data a la tabla de Hechos Servicios \n",
    "#!python HechoServicios.py"
   ]
  },
  {
   "cell_type": "markdown",
   "metadata": {},
   "source": [
    "Cargar los datos para los servicios con granularidad\n",
    "\n",
    "Granularidad: Servicio único\n",
    "Esta tabla registra un solo registro por cada servicio. Cada fila representa un servicio completo desde su solicitud hasta su finalización, sin detalles de cambios de estado intermedios."
   ]
  },
  {
   "cell_type": "code",
   "execution_count": 2,
   "metadata": {
    "execution": {
     "iopub.execute_input": "2024-11-11T07:25:20.145066Z",
     "iopub.status.busy": "2024-11-11T07:25:20.144558Z",
     "iopub.status.idle": "2024-11-11T07:30:00.032674Z",
     "shell.execute_reply": "2024-11-11T07:30:00.029662Z"
    }
   },
   "outputs": [
    {
     "name": "stderr",
     "output_type": "stream",
     "text": [
      "Traceback (most recent call last):\n",
      "  File \"C:\\Users\\chara\\AppData\\Local\\Packages\\PythonSoftwareFoundation.Python.3.11_qbz5n2kfra8p0\\LocalCache\\local-packages\\Python311\\site-packages\\sqlalchemy\\engine\\base.py\", line 2118, in _exec_insertmany_context\n",
      "    dialect.do_execute(\n",
      "  File \"C:\\Users\\chara\\AppData\\Local\\Packages\\PythonSoftwareFoundation.Python.3.11_qbz5n2kfra8p0\\LocalCache\\local-packages\\Python311\\site-packages\\sqlalchemy\\engine\\default.py\", line 941, in do_execute\n",
      "    cursor.execute(statement, parameters)\n",
      "psycopg2.errors.UniqueViolation: llave duplicada viola restricci�n de unicidad �servicios_pkey�\n",
      "DETAIL:  Ya existe la llave (id_servicio)=(7).\n",
      "\n",
      "\n",
      "The above exception was the direct cause of the following exception:\n",
      "\n",
      "Traceback (most recent call last):\n",
      "  File \"c:\\Users\\chara\\Desktop\\Rapido-Furioso\\HechoServicios1.py\", line 230, in <module>\n",
      "    etl_mayor()\n",
      "  File \"c:\\Users\\chara\\Desktop\\Rapido-Furioso\\HechoServicios1.py\", line 153, in etl_mayor\n",
      "    df.to_sql('servicios', conn_etl, if_exists='append', index=False)\n",
      "  File \"C:\\Users\\chara\\AppData\\Local\\Packages\\PythonSoftwareFoundation.Python.3.11_qbz5n2kfra8p0\\LocalCache\\local-packages\\Python311\\site-packages\\pandas\\util\\_decorators.py\", line 333, in wrapper\n",
      "    return func(*args, **kwargs)\n",
      "           ^^^^^^^^^^^^^^^^^^^^^\n",
      "  File \"C:\\Users\\chara\\AppData\\Local\\Packages\\PythonSoftwareFoundation.Python.3.11_qbz5n2kfra8p0\\LocalCache\\local-packages\\Python311\\site-packages\\pandas\\core\\generic.py\", line 3087, in to_sql\n",
      "    return sql.to_sql(\n",
      "           ^^^^^^^^^^^\n",
      "  File \"C:\\Users\\chara\\AppData\\Local\\Packages\\PythonSoftwareFoundation.Python.3.11_qbz5n2kfra8p0\\LocalCache\\local-packages\\Python311\\site-packages\\pandas\\io\\sql.py\", line 842, in to_sql\n",
      "    return pandas_sql.to_sql(\n",
      "           ^^^^^^^^^^^^^^^^^^\n",
      "  File \"C:\\Users\\chara\\AppData\\Local\\Packages\\PythonSoftwareFoundation.Python.3.11_qbz5n2kfra8p0\\LocalCache\\local-packages\\Python311\\site-packages\\pandas\\io\\sql.py\", line 2018, in to_sql\n",
      "    total_inserted = sql_engine.insert_records(\n",
      "                     ^^^^^^^^^^^^^^^^^^^^^^^^^^\n",
      "  File \"C:\\Users\\chara\\AppData\\Local\\Packages\\PythonSoftwareFoundation.Python.3.11_qbz5n2kfra8p0\\LocalCache\\local-packages\\Python311\\site-packages\\pandas\\io\\sql.py\", line 1567, in insert_records\n",
      "    raise err\n",
      "  File \"C:\\Users\\chara\\AppData\\Local\\Packages\\PythonSoftwareFoundation.Python.3.11_qbz5n2kfra8p0\\LocalCache\\local-packages\\Python311\\site-packages\\pandas\\io\\sql.py\", line 1558, in insert_records\n",
      "    return table.insert(chunksize=chunksize, method=method)\n",
      "           ^^^^^^^^^^^^^^^^^^^^^^^^^^^^^^^^^^^^^^^^^^^^^^^^\n",
      "  File \"C:\\Users\\chara\\AppData\\Local\\Packages\\PythonSoftwareFoundation.Python.3.11_qbz5n2kfra8p0\\LocalCache\\local-packages\\Python311\\site-packages\\pandas\\io\\sql.py\", line 1119, in insert\n",
      "    num_inserted = exec_insert(conn, keys, chunk_iter)\n",
      "                   ^^^^^^^^^^^^^^^^^^^^^^^^^^^^^^^^^^^\n",
      "  File \"C:\\Users\\chara\\AppData\\Local\\Packages\\PythonSoftwareFoundation.Python.3.11_qbz5n2kfra8p0\\LocalCache\\local-packages\\Python311\\site-packages\\pandas\\io\\sql.py\", line 1010, in _execute_insert\n",
      "    result = conn.execute(self.table.insert(), data)\n",
      "             ^^^^^^^^^^^^^^^^^^^^^^^^^^^^^^^^^^^^^^^\n",
      "  File \"C:\\Users\\chara\\AppData\\Local\\Packages\\PythonSoftwareFoundation.Python.3.11_qbz5n2kfra8p0\\LocalCache\\local-packages\\Python311\\site-packages\\sqlalchemy\\engine\\base.py\", line 1418, in execute\n",
      "    return meth(\n",
      "           ^^^^^\n",
      "  File \"C:\\Users\\chara\\AppData\\Local\\Packages\\PythonSoftwareFoundation.Python.3.11_qbz5n2kfra8p0\\LocalCache\\local-packages\\Python311\\site-packages\\sqlalchemy\\sql\\elements.py\", line 515, in _execute_on_connection\n",
      "    return connection._execute_clauseelement(\n",
      "           ^^^^^^^^^^^^^^^^^^^^^^^^^^^^^^^^^^\n",
      "  File \"C:\\Users\\chara\\AppData\\Local\\Packages\\PythonSoftwareFoundation.Python.3.11_qbz5n2kfra8p0\\LocalCache\\local-packages\\Python311\\site-packages\\sqlalchemy\\engine\\base.py\", line 1640, in _execute_clauseelement\n",
      "    ret = self._execute_context(\n",
      "          ^^^^^^^^^^^^^^^^^^^^^^\n",
      "  File \"C:\\Users\\chara\\AppData\\Local\\Packages\\PythonSoftwareFoundation.Python.3.11_qbz5n2kfra8p0\\LocalCache\\local-packages\\Python311\\site-packages\\sqlalchemy\\engine\\base.py\", line 1844, in _execute_context\n",
      "    return self._exec_insertmany_context(dialect, context)\n",
      "           ^^^^^^^^^^^^^^^^^^^^^^^^^^^^^^^^^^^^^^^^^^^^^^^\n",
      "  File \"C:\\Users\\chara\\AppData\\Local\\Packages\\PythonSoftwareFoundation.Python.3.11_qbz5n2kfra8p0\\LocalCache\\local-packages\\Python311\\site-packages\\sqlalchemy\\engine\\base.py\", line 2126, in _exec_insertmany_context\n",
      "    self._handle_dbapi_exception(\n",
      "  File \"C:\\Users\\chara\\AppData\\Local\\Packages\\PythonSoftwareFoundation.Python.3.11_qbz5n2kfra8p0\\LocalCache\\local-packages\\Python311\\site-packages\\sqlalchemy\\engine\\base.py\", line 2355, in _handle_dbapi_exception\n",
      "    raise sqlalchemy_exception.with_traceback(exc_info[2]) from e\n",
      "  File \"C:\\Users\\chara\\AppData\\Local\\Packages\\PythonSoftwareFoundation.Python.3.11_qbz5n2kfra8p0\\LocalCache\\local-packages\\Python311\\site-packages\\sqlalchemy\\engine\\base.py\", line 2118, in _exec_insertmany_context\n",
      "    dialect.do_execute(\n",
      "  File \"C:\\Users\\chara\\AppData\\Local\\Packages\\PythonSoftwareFoundation.Python.3.11_qbz5n2kfra8p0\\LocalCache\\local-packages\\Python311\\site-packages\\sqlalchemy\\engine\\default.py\", line 941, in do_execute\n",
      "    cursor.execute(statement, parameters)\n",
      "sqlalchemy.exc.IntegrityError: (psycopg2.errors.UniqueViolation) llave duplicada viola restricci�n de unicidad �servicios_pkey�\n",
      "DETAIL:  Ya existe la llave (id_servicio)=(7).\n",
      "\n",
      "[SQL: INSERT INTO servicios (id_servicio, id_cliente, id_mensajero, id_fecha_solicitud, id_fecha_mensajero_asignado, id_fecha_recogida, id_fecha_entrega, id_fecha_cerrado, hora_solicitud, hora_mensajero_asignado, hora_recogida, hora_entrega, hora_cerrado,  ... 833824 characters truncated ... ino_ciudad__999)s, %(descripcion_cancelado__999)s, %(id_tipo_vehiculo__999)s, %(id_tipo_pago__999)s)]\n",
      "[parameters: {'fecha_entrega__0': datetime.date(2023, 10, 31), 'prioridad__0': 'Alta: En una hora', 'id_mensajero__0': 7.0, 'duracion_total__0': 1008.7602777777778, 'tiempo_espera__0': 577.4838888888889, 'tiempo_recogida_entrega__0': 5.085043333333333, 'tiempo_mensajero_recogida__0': 426.1913455555556, 'id_fecha_cerrado__0': 304.0, 'hora_solicitud__0': datetime.time(16, 22, 18), 'descripcion_cancelado__0': '', 'id_cliente__0': 5, 'id_estado__0': 6, 'id_fecha_entrega__0': 262.0, 'id_origen_servicio__0': 177, 'id_tiposervicio__0': 2, 'id_tipo_pago__0': 1, 'hora_recogida__0': datetime.time(12, 2, 48, 844000), 'id_origen_ciudad__0': 1, 'hora_mensajero_asignado__0': datetime.time(17, 51, 20), 'id_fecha_recogida__0': 304.0, 'fecha_solicitud__0': datetime.date(2023, 9, 19), 'hora_cerrado__0': datetime.time(12, 16), 'descripcion_pago__0': 'Sin informaci�n de pago', 'id_fecha_mensajero_asignado__0': 286.0, 'id_destino_ciudad__0': 1, 'id_destino_servicio__0': 1, 'hora_entrega__0': datetime.time(17, 7, 55), 'id_tipo_vehiculo__0': 3, 'id_servicio__0': 7, 'id_fecha_solicitud__0': 262.0, 'tiempo_entrega_cerrado__0': -4.865277777777778, 'fecha_entrega__1': datetime.date(2024, 4, 9), 'prioridad__1': 'Alta: En una hora', 'id_mensajero__1': 7.0, 'duracion_total__1': 4871.641666666666, 'tiempo_espera__1': 2211.7438888888887, 'tiempo_recogida_entrega__1': 1320.5713888888888, 'tiempo_mensajero_recogida__1': 1339.326388888889, 'id_fecha_cerrado__1': 262.0, 'hora_solicitud__1': datetime.time(16, 30, 5), 'descripcion_cancelado__1': '', 'id_cliente__1': 5, 'id_estado__1': 5, 'id_fecha_entrega__1': 262.0, 'id_origen_servicio__1': 15, 'id_tiposervicio__1': 1, 'id_tipo_pago__1': 1, 'hora_recogida__1': datetime.time(15, 34, 18), 'id_origen_ciudad__1': 1, 'hora_mensajero_asignado__1': datetime.time(20, 14, 43) ... 30900 parameters truncated ... 'id_fecha_entrega__998': 409.0, 'id_origen_servicio__998': 13, 'id_tiposervicio__998': 3, 'id_tipo_pago__998': 6, 'hora_recogida__998': datetime.time(13, 17, 29), 'id_origen_ciudad__998': 1, 'hora_mensajero_asignado__998': datetime.time(13, 1, 10), 'id_fecha_recogida__998': 409.0, 'fecha_solicitud__998': datetime.date(2024, 2, 13), 'hora_cerrado__998': datetime.time(14, 25, 52), 'descripcion_pago__998': '', 'id_fecha_mensajero_asignado__998': 409.0, 'id_destino_ciudad__998': 1, 'id_destino_servicio__998': 346, 'hora_entrega__998': datetime.time(14, 11, 47), 'id_tipo_vehiculo__998': 2, 'id_servicio__998': 1078, 'id_fecha_solicitud__998': 409.0, 'tiempo_entrega_cerrado__998': 0.23472222222222222, 'fecha_entrega__999': datetime.date(2024, 2, 13), 'prioridad__999': 'Alta: En una Hora', 'id_mensajero__999': 15.0, 'duracion_total__999': 0.6508333333333334, 'tiempo_espera__999': 0.010555555555555556, 'tiempo_recogida_entrega__999': 0.30583333333333335, 'tiempo_mensajero_recogida__999': 0.33444444444444443, 'id_fecha_cerrado__999': 409.0, 'hora_solicitud__999': datetime.time(11, 50, 37), 'descripcion_cancelado__999': '', 'id_cliente__999': 11, 'id_estado__999': 6, 'id_fecha_entrega__999': 409.0, 'id_origen_servicio__999': 24, 'id_tiposervicio__999': 2, 'id_tipo_pago__999': 2, 'hora_recogida__999': datetime.time(12, 11, 19), 'id_origen_ciudad__999': 1, 'hora_mensajero_asignado__999': datetime.time(11, 51, 15), 'id_fecha_recogida__999': 409.0, 'fecha_solicitud__999': datetime.date(2024, 2, 13), 'hora_cerrado__999': datetime.time(13, 57, 39), 'descripcion_pago__999': '', 'id_fecha_mensajero_asignado__999': 409.0, 'id_destino_ciudad__999': 1, 'id_destino_servicio__999': 10, 'hora_entrega__999': datetime.time(12, 29, 40), 'id_tipo_vehiculo__999': 2, 'id_servicio__999': 1079, 'id_fecha_solicitud__999': 409.0, 'tiempo_entrega_cerrado__999': 1.466388888888889}]\n",
      "(Background on this error at: https://sqlalche.me/e/20/gkpj)\n"
     ]
    }
   ],
   "source": [
    "#Cargar data a la tabla de Hechos Servicios \n",
    "!python HechoServicios1.py"
   ]
  },
  {
   "cell_type": "markdown",
   "metadata": {},
   "source": [
    "Cargar los datos para loa estados del servicio con granularidad \n",
    "\n",
    "Granularidad: Cambio de estado por servicio\n",
    "Cada registro en esta tabla representa un cambio de estado para un servicio específico, es decir, un nivel más detallado que permite ver la secuencia de estados que ha pasado cada servicio."
   ]
  },
  {
   "cell_type": "code",
   "execution_count": 3,
   "metadata": {
    "execution": {
     "iopub.execute_input": "2024-11-11T07:30:00.092127Z",
     "iopub.status.busy": "2024-11-11T07:30:00.091052Z",
     "iopub.status.idle": "2024-11-11T07:30:00.326069Z",
     "shell.execute_reply": "2024-11-11T07:30:00.325062Z"
    }
   },
   "outputs": [
    {
     "name": "stderr",
     "output_type": "stream",
     "text": [
      "python: can't open file 'c:\\\\Users\\\\chara\\\\Desktop\\\\Rapido-Furioso\\\\HechoNovedades.py': [Errno 2] No such file or directory\n"
     ]
    }
   ],
   "source": [
    "#Cargar data a la tabla de Hechos History Servicios \n",
    "!python HechoNovedades.py"
   ]
  },
  {
   "cell_type": "markdown",
   "metadata": {},
   "source": []
  },
  {
   "cell_type": "code",
   "execution_count": 4,
   "metadata": {
    "execution": {
     "iopub.execute_input": "2024-11-11T07:30:00.329069Z",
     "iopub.status.busy": "2024-11-11T07:30:00.328155Z",
     "iopub.status.idle": "2024-11-11T07:30:11.449982Z",
     "shell.execute_reply": "2024-11-11T07:30:11.448974Z"
    }
   },
   "outputs": [
    {
     "name": "stdout",
     "output_type": "stream",
     "text": [
      "ETL de eficiencia_hora completado exitosamente.\n"
     ]
    }
   ],
   "source": [
    "!python HechoEficienciaHora.py"
   ]
  }
 ],
 "metadata": {
  "kernelspec": {
   "display_name": ".venv",
   "language": "python",
   "name": "python3"
  },
  "language_info": {
   "codemirror_mode": {
    "name": "ipython",
    "version": 3
   },
   "file_extension": ".py",
   "mimetype": "text/x-python",
   "name": "python",
   "nbconvert_exporter": "python",
   "pygments_lexer": "ipython3",
   "version": "3.11.9"
  }
 },
 "nbformat": 4,
 "nbformat_minor": 2
}
