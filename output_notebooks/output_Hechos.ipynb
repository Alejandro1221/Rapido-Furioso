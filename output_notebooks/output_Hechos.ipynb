{
 "cells": [
  {
   "cell_type": "raw",
   "metadata": {},
   "source": [
    "Implementar los diferentes Hechos del ETL para el analizar y procesamiento de los datos "
   ]
  },
  {
   "cell_type": "code",
   "execution_count": 1,
   "metadata": {
    "execution": {
     "iopub.execute_input": "2024-11-09T23:41:13.379697Z",
     "iopub.status.busy": "2024-11-09T23:41:13.379088Z",
     "iopub.status.idle": "2024-11-09T23:41:13.389312Z",
     "shell.execute_reply": "2024-11-09T23:41:13.388299Z"
    }
   },
   "outputs": [],
   "source": [
    "#Cargar data a la tabla de Hechos Servicios \n",
    "#!python HechoServicios.py"
   ]
  },
  {
   "cell_type": "code",
   "execution_count": 2,
   "metadata": {
    "execution": {
     "iopub.execute_input": "2024-11-09T23:41:13.442904Z",
     "iopub.status.busy": "2024-11-09T23:41:13.442511Z",
     "iopub.status.idle": "2024-11-09T23:41:17.978567Z",
     "shell.execute_reply": "2024-11-09T23:41:17.977187Z"
    }
   },
   "outputs": [
    {
     "name": "stdout",
     "output_type": "stream",
     "text": [
      "Traceback (most recent call last):\r\n",
      "  File \"/Users/jhonfreddypopomoreno/code/Univalle/Rapido-Furioso/HechoServicios1.py\", line 122, in <module>\r\n"
     ]
    },
    {
     "name": "stdout",
     "output_type": "stream",
     "text": [
      "    etl_mayor()\r\n",
      "  File \"/Users/jhonfreddypopomoreno/code/Univalle/Rapido-Furioso/HechoServicios1.py\", line 33, in etl_mayor\r\n",
      "    df['id_fecha_solicitud'] = df['fecha_solicitud'].apply(lambda x: obtener_id_tiempo_fecha(conn_etl, x))\r\n",
      "                               ^^^^^^^^^^^^^^^^^^^^^^^^^^^^^^^^^^^^^^^^^^^^^^^^^^^^^^^^^^^^^^^^^^^^^^^^^^^\r\n",
      "  File \"/Library/Frameworks/Python.framework/Versions/3.12/lib/python3.12/site-packages/pandas/core/series.py\", line 4924, in apply\r\n",
      "    ).apply()\r\n",
      "      ^^^^^^^\r\n",
      "  File \"/Library/Frameworks/Python.framework/Versions/3.12/lib/python3.12/site-packages/pandas/core/apply.py\", line 1427, in apply\r\n",
      "    return self.apply_standard()\r\n",
      "           ^^^^^^^^^^^^^^^^^^^^^\r\n",
      "  File \"/Library/Frameworks/Python.framework/Versions/3.12/lib/python3.12/site-packages/pandas/core/apply.py\", line 1507, in apply_standard\r\n",
      "    mapped = obj._map_values(\r\n",
      "             ^^^^^^^^^^^^^^^^\r\n",
      "  File \"/Library/Frameworks/Python.framework/Versions/3.12/lib/python3.12/site-packages/pandas/core/base.py\", line 921, in _map_values\r\n",
      "    return algorithms.map_array(arr, mapper, na_action=na_action, convert=convert)\r\n",
      "           ^^^^^^^^^^^^^^^^^^^^^^^^^^^^^^^^^^^^^^^^^^^^^^^^^^^^^^^^^^^^^^^^^^^^^^^\r\n",
      "  File \"/Library/Frameworks/Python.framework/Versions/3.12/lib/python3.12/site-packages/pandas/core/algorithms.py\", line 1743, in map_array\r\n",
      "    return lib.map_infer(values, mapper, convert=convert)\r\n",
      "           ^^^^^^^^^^^^^^^^^^^^^^^^^^^^^^^^^^^^^^^^^^^^^^\r\n",
      "  File \"lib.pyx\", line 2972, in pandas._libs.lib.map_infer\r\n",
      "  File \"/Users/jhonfreddypopomoreno/code/Univalle/Rapido-Furioso/HechoServicios1.py\", line 33, in <lambda>\r\n",
      "    df['id_fecha_solicitud'] = df['fecha_solicitud'].apply(lambda x: obtener_id_tiempo_fecha(conn_etl, x))\r\n",
      "                                                                     ^^^^^^^^^^^^^^^^^^^^^^^^^^^^^^^^^^^^\r\n",
      "  File \"/Users/jhonfreddypopomoreno/code/Univalle/Rapido-Furioso/HechoServicios1.py\", line 88, in obtener_id_tiempo_fecha\r\n",
      "    return row['id_tiempo'] if row else None\r\n",
      "           ~~~^^^^^^^^^^^^^\r\n",
      "  File \"lib/sqlalchemy/cyextension/resultproxy.pyx\", line 54, in sqlalchemy.cyextension.resultproxy.BaseRow.__getitem__\r\n",
      "TypeError: tuple indices must be integers or slices, not str\r\n"
     ]
    }
   ],
   "source": [
    "#Cargar data a la tabla de Hechos Servicios \n",
    "!python3 HechoServicios1.py"
   ]
  }
 ],
 "metadata": {
  "kernelspec": {
   "display_name": "Python 3",
   "language": "python",
   "name": "myenv"
  },
  "language_info": {
   "codemirror_mode": {
    "name": "ipython",
    "version": 3
   },
   "file_extension": ".py",
   "mimetype": "text/x-python",
   "name": "python",
   "nbconvert_exporter": "python",
   "pygments_lexer": "ipython3",
   "version": "3.12.3"
  }
 },
 "nbformat": 4,
 "nbformat_minor": 2
}
