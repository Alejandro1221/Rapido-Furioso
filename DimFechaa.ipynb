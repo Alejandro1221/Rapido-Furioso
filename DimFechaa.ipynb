{
 "cells": [
  {
   "cell_type": "code",
   "execution_count": 4,
   "metadata": {},
   "outputs": [
    {
     "name": "stdout",
     "output_type": "stream",
     "text": [
      "Note: you may need to restart the kernel to use updated packages.\n"
     ]
    },
    {
     "name": "stderr",
     "output_type": "stream",
     "text": [
      "\n",
      "[notice] A new release of pip is available: 24.0 -> 24.3.1\n",
      "[notice] To update, run: C:\\Users\\chara\\AppData\\Local\\Microsoft\\WindowsApps\\PythonSoftwareFoundation.Python.3.11_qbz5n2kfra8p0\\python.exe -m pip install --upgrade pip\n"
     ]
    },
    {
     "name": "stdout",
     "output_type": "stream",
     "text": [
      "Requirement already satisfied: pandas in c:\\users\\chara\\appdata\\local\\packages\\pythonsoftwarefoundation.python.3.11_qbz5n2kfra8p0\\localcache\\local-packages\\python311\\site-packages (from -r requirements.txt (line 1)) (2.2.2)\n",
      "Requirement already satisfied: sqlalchemy in c:\\users\\chara\\appdata\\local\\packages\\pythonsoftwarefoundation.python.3.11_qbz5n2kfra8p0\\localcache\\local-packages\\python311\\site-packages (from -r requirements.txt (line 2)) (2.0.36)\n",
      "Requirement already satisfied: python-dotenv in c:\\users\\chara\\appdata\\local\\packages\\pythonsoftwarefoundation.python.3.11_qbz5n2kfra8p0\\localcache\\local-packages\\python311\\site-packages (from -r requirements.txt (line 3)) (1.0.1)\n",
      "Requirement already satisfied: psycopg2 in c:\\users\\chara\\appdata\\local\\packages\\pythonsoftwarefoundation.python.3.11_qbz5n2kfra8p0\\localcache\\local-packages\\python311\\site-packages (from -r requirements.txt (line 4)) (2.9.10)\n",
      "Requirement already satisfied: numpy>=1.23.2 in c:\\users\\chara\\appdata\\local\\packages\\pythonsoftwarefoundation.python.3.11_qbz5n2kfra8p0\\localcache\\local-packages\\python311\\site-packages (from pandas->-r requirements.txt (line 1)) (1.26.0)\n",
      "Requirement already satisfied: python-dateutil>=2.8.2 in c:\\users\\chara\\appdata\\local\\packages\\pythonsoftwarefoundation.python.3.11_qbz5n2kfra8p0\\localcache\\local-packages\\python311\\site-packages (from pandas->-r requirements.txt (line 1)) (2.9.0.post0)\n",
      "Requirement already satisfied: pytz>=2020.1 in c:\\users\\chara\\appdata\\local\\packages\\pythonsoftwarefoundation.python.3.11_qbz5n2kfra8p0\\localcache\\local-packages\\python311\\site-packages (from pandas->-r requirements.txt (line 1)) (2024.1)\n",
      "Requirement already satisfied: tzdata>=2022.7 in c:\\users\\chara\\appdata\\local\\packages\\pythonsoftwarefoundation.python.3.11_qbz5n2kfra8p0\\localcache\\local-packages\\python311\\site-packages (from pandas->-r requirements.txt (line 1)) (2024.1)\n",
      "Requirement already satisfied: typing-extensions>=4.6.0 in c:\\users\\chara\\appdata\\local\\packages\\pythonsoftwarefoundation.python.3.11_qbz5n2kfra8p0\\localcache\\local-packages\\python311\\site-packages (from sqlalchemy->-r requirements.txt (line 2)) (4.12.2)\n",
      "Requirement already satisfied: greenlet!=0.4.17 in c:\\users\\chara\\appdata\\local\\packages\\pythonsoftwarefoundation.python.3.11_qbz5n2kfra8p0\\localcache\\local-packages\\python311\\site-packages (from sqlalchemy->-r requirements.txt (line 2)) (3.1.1)\n",
      "Requirement already satisfied: six>=1.5 in c:\\users\\chara\\appdata\\local\\packages\\pythonsoftwarefoundation.python.3.11_qbz5n2kfra8p0\\localcache\\local-packages\\python311\\site-packages (from python-dateutil>=2.8.2->pandas->-r requirements.txt (line 1)) (1.16.0)\n"
     ]
    }
   ],
   "source": [
    "#librerias\n",
    "%pip install -r requirements.txt"
   ]
  },
  {
   "cell_type": "code",
   "execution_count": 62,
   "metadata": {},
   "outputs": [],
   "source": [
    "import pandas as pd\n",
    "from connection_script import engine\n",
    "from connection_script import DATABASE_URI"
   ]
  },
  {
   "cell_type": "code",
   "execution_count": 61,
   "metadata": {},
   "outputs": [],
   "source": [
    "# Cargar las fechas desde tu base de datos (ajustar la consulta según sea necesario)\n",
    "query = \"SELECT DISTINCT fecha FROM mensajeria_estadosservicio\"\n",
    "fechas_df = pd.read_sql(query, engine)\n",
    "\n",
    "fechas_df[\"fecha\"] = pd.to_datetime(fechas_df[\"fecha\"])"
   ]
  },
  {
   "cell_type": "code",
   "execution_count": 64,
   "metadata": {},
   "outputs": [],
   "source": [
    "# Crear las columnas de la dimensión de fecha\n",
    "fechas_df[\"DateKey\"] = fechas_df[\"fecha\"].dt.strftime(\"%Y%m%d\")\n",
    "fechas_df[\"FullDateAlternateKey\"] = fechas_df[\"fecha\"].dt.strftime(\"%Y-%m-%d\")\n",
    "fechas_df[\"dia_semana\"] = fechas_df[\"fecha\"].dt.day_name(locale='es_ES')  # Nombre del día en español\n",
    "fechas_df[\"numero_dia_semana\"] = fechas_df[\"fecha\"].dt.dayofweek + 1  # Lunes es 1, domingo es 7\n",
    "fechas_df[\"numero_mes\"] = fechas_df[\"fecha\"].dt.month\n",
    "fechas_df[\"nombre_mes\"] = fechas_df[\"fecha\"].dt.month_name(locale='es_ES')  # Nombre del mes en español\n",
    "fechas_df[\"numero_dia_mes\"] = fechas_df[\"fecha\"].dt.day\n",
    "fechas_df[\"numero_semana_año\"] = fechas_df[\"fecha\"].dt.isocalendar().week\n",
    "fechas_df[\"numero_dia_año\"] = fechas_df[\"fecha\"].dt.dayofyear\n"
   ]
  },
  {
   "cell_type": "code",
   "execution_count": 65,
   "metadata": {},
   "outputs": [
    {
     "name": "stdout",
     "output_type": "stream",
     "text": [
      "       fecha   DateKey FullDateAlternateKey dia_semana  numero_dia_semana  \\\n",
      "0 2024-02-16  20240216           2024-02-16    Viernes                  5   \n",
      "1 2024-05-17  20240517           2024-05-17    Viernes                  5   \n",
      "2 2024-05-03  20240503           2024-05-03    Viernes                  5   \n",
      "3 2024-07-04  20240704           2024-07-04     Jueves                  4   \n",
      "4 2024-06-19  20240619           2024-06-19  Miércoles                  3   \n",
      "5 2024-07-01  20240701           2024-07-01      Lunes                  1   \n",
      "6 2024-04-28  20240428           2024-04-28    Domingo                  7   \n",
      "7 2024-08-02  20240802           2024-08-02    Viernes                  5   \n",
      "8 2024-05-09  20240509           2024-05-09     Jueves                  4   \n",
      "9 2024-02-15  20240215           2024-02-15     Jueves                  4   \n",
      "\n",
      "   numero_mes nombre_mes  numero_dia_mes  numero_semana_año  numero_dia_año  \n",
      "0           2    Febrero              16                  7              47  \n",
      "1           5       Mayo              17                 20             138  \n",
      "2           5       Mayo               3                 18             124  \n",
      "3           7      Julio               4                 27             186  \n",
      "4           6      Junio              19                 25             171  \n",
      "5           7      Julio               1                 27             183  \n",
      "6           4      Abril              28                 17             119  \n",
      "7           8     Agosto               2                 31             215  \n",
      "8           5       Mayo               9                 19             130  \n",
      "9           2    Febrero              15                  7              46  \n"
     ]
    }
   ],
   "source": [
    "print(fechas_df.head(10))"
   ]
  }
 ],
 "metadata": {
  "kernelspec": {
   "display_name": "Python 3",
   "language": "python",
   "name": "python3"
  },
  "language_info": {
   "codemirror_mode": {
    "name": "ipython",
    "version": 3
   },
   "file_extension": ".py",
   "mimetype": "text/x-python",
   "name": "python",
   "nbconvert_exporter": "python",
   "pygments_lexer": "ipython3",
   "version": "3.11.9"
  }
 },
 "nbformat": 4,
 "nbformat_minor": 2
}
