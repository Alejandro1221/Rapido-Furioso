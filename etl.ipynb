{
 "cells": [
  {
   "cell_type": "raw",
   "metadata": {},
   "source": [
    "ETL RAPIDOS Y FURIOSOS "
   ]
  },
  {
   "cell_type": "raw",
   "metadata": {},
   "source": [
    "Importaciones y configuración"
   ]
  },
  {
   "cell_type": "code",
   "execution_count": 2,
   "metadata": {},
   "outputs": [
    {
     "name": "stdout",
     "output_type": "stream",
     "text": [
      "Collecting nbclient\n",
      "  Using cached nbclient-0.10.0-py3-none-any.whl.metadata (7.8 kB)\n",
      "Requirement already satisfied: jupyter-client>=6.1.12 in c:\\users\\usuario\\desktop\\reps\\rapido-furioso\\.venv\\lib\\site-packages (from nbclient) (8.6.3)\n",
      "Requirement already satisfied: jupyter-core!=5.0.*,>=4.12 in c:\\users\\usuario\\desktop\\reps\\rapido-furioso\\.venv\\lib\\site-packages (from nbclient) (5.7.2)\n",
      "Collecting nbformat>=5.1 (from nbclient)\n",
      "  Using cached nbformat-5.10.4-py3-none-any.whl.metadata (3.6 kB)\n",
      "Requirement already satisfied: traitlets>=5.4 in c:\\users\\usuario\\desktop\\reps\\rapido-furioso\\.venv\\lib\\site-packages (from nbclient) (5.14.3)\n",
      "Requirement already satisfied: python-dateutil>=2.8.2 in c:\\users\\usuario\\desktop\\reps\\rapido-furioso\\.venv\\lib\\site-packages (from jupyter-client>=6.1.12->nbclient) (2.9.0.post0)\n",
      "Requirement already satisfied: pyzmq>=23.0 in c:\\users\\usuario\\desktop\\reps\\rapido-furioso\\.venv\\lib\\site-packages (from jupyter-client>=6.1.12->nbclient) (26.2.0)\n",
      "Requirement already satisfied: tornado>=6.2 in c:\\users\\usuario\\desktop\\reps\\rapido-furioso\\.venv\\lib\\site-packages (from jupyter-client>=6.1.12->nbclient) (6.4.1)\n",
      "Requirement already satisfied: platformdirs>=2.5 in c:\\users\\usuario\\desktop\\reps\\rapido-furioso\\.venv\\lib\\site-packages (from jupyter-core!=5.0.*,>=4.12->nbclient) (4.3.6)\n",
      "Requirement already satisfied: pywin32>=300 in c:\\users\\usuario\\desktop\\reps\\rapido-furioso\\.venv\\lib\\site-packages (from jupyter-core!=5.0.*,>=4.12->nbclient) (308)\n",
      "Collecting fastjsonschema>=2.15 (from nbformat>=5.1->nbclient)\n",
      "  Using cached fastjsonschema-2.20.0-py3-none-any.whl.metadata (2.1 kB)\n",
      "Collecting jsonschema>=2.6 (from nbformat>=5.1->nbclient)\n",
      "  Using cached jsonschema-4.23.0-py3-none-any.whl.metadata (7.9 kB)\n",
      "Collecting attrs>=22.2.0 (from jsonschema>=2.6->nbformat>=5.1->nbclient)\n",
      "  Using cached attrs-24.2.0-py3-none-any.whl.metadata (11 kB)\n",
      "Collecting jsonschema-specifications>=2023.03.6 (from jsonschema>=2.6->nbformat>=5.1->nbclient)\n",
      "  Downloading jsonschema_specifications-2024.10.1-py3-none-any.whl.metadata (3.0 kB)\n",
      "Collecting referencing>=0.28.4 (from jsonschema>=2.6->nbformat>=5.1->nbclient)\n",
      "  Using cached referencing-0.35.1-py3-none-any.whl.metadata (2.8 kB)\n",
      "Collecting rpds-py>=0.7.1 (from jsonschema>=2.6->nbformat>=5.1->nbclient)\n",
      "  Downloading rpds_py-0.21.0-cp312-none-win_amd64.whl.metadata (4.2 kB)\n",
      "Requirement already satisfied: six>=1.5 in c:\\users\\usuario\\desktop\\reps\\rapido-furioso\\.venv\\lib\\site-packages (from python-dateutil>=2.8.2->jupyter-client>=6.1.12->nbclient) (1.16.0)\n",
      "Using cached nbclient-0.10.0-py3-none-any.whl (25 kB)\n",
      "Using cached nbformat-5.10.4-py3-none-any.whl (78 kB)\n",
      "Using cached fastjsonschema-2.20.0-py3-none-any.whl (23 kB)\n",
      "Using cached jsonschema-4.23.0-py3-none-any.whl (88 kB)\n",
      "Using cached attrs-24.2.0-py3-none-any.whl (63 kB)\n",
      "Downloading jsonschema_specifications-2024.10.1-py3-none-any.whl (18 kB)\n",
      "Using cached referencing-0.35.1-py3-none-any.whl (26 kB)\n",
      "Downloading rpds_py-0.21.0-cp312-none-win_amd64.whl (220 kB)\n",
      "Installing collected packages: fastjsonschema, rpds-py, attrs, referencing, jsonschema-specifications, jsonschema, nbformat, nbclient\n",
      "Successfully installed attrs-24.2.0 fastjsonschema-2.20.0 jsonschema-4.23.0 jsonschema-specifications-2024.10.1 nbclient-0.10.0 nbformat-5.10.4 referencing-0.35.1 rpds-py-0.21.0\n"
     ]
    }
   ],
   "source": [
    "#INSTALAR LIBRERIA\n",
    "!python -m pip install nbclient\n",
    "\n",
    "#IMPORTAR LIBRERIAS\n",
    "from nbclient import NotebookClient\n",
    "from nbformat import read, write\n",
    "import os\n"
   ]
  },
  {
   "cell_type": "raw",
   "metadata": {},
   "source": [
    "Definir la función para ejecutar un notebook"
   ]
  },
  {
   "cell_type": "code",
   "execution_count": 17,
   "metadata": {},
   "outputs": [],
   "source": [
    "def execute_notebook(notebook_path, output_path):\n",
    "    \"\"\"Ejecuta un notebook y guarda el resultado en la ubicación especificada.\"\"\"\n",
    "    try:\n",
    "        # Cargar el notebook\n",
    "        with open(notebook_path) as f:\n",
    "            nb = read(f, as_version=4)\n",
    "        \n",
    "        # Crear cliente y ejecutar el notebook\n",
    "        client = NotebookClient(nb)\n",
    "        client.execute()\n",
    "        \n",
    "        # Guardar el notebook ejecutado en la salida especificada\n",
    "        with open(output_path, \"w\") as f:\n",
    "            write(nb, f)\n",
    "        print(f\"Notebook '{notebook_path}' ejecutado y guardado en '{output_path}'.\")\n",
    "    \n",
    "    except Exception as e:\n",
    "        print(f\"Error ejecutando el notebook '{notebook_path}': {e}\")\n"
   ]
  },
  {
   "cell_type": "raw",
   "metadata": {},
   "source": [
    "Definir la lista de notebooks a ejecutar"
   ]
  },
  {
   "cell_type": "code",
   "execution_count": 21,
   "metadata": {},
   "outputs": [],
   "source": [
    "# Lista de notebooks a ejecutar\n",
    "notebooks = [\"process_etl.ipynb\", \"DimEstado.ipynb\", \"DimTipoServicio.ipynb\", \"DimFecha.ipynb\", \"DimMensajeros.ipynb\",\"DimTipoServicio.ipynb\", \"DimOrigenServicio.ipynb\", \"DimDestinoServicio.ipynb\", \"DimEstado.ipynb\"]\n",
    "\n",
    "# Crear una carpeta de salida para almacenar los notebooks ejecutados\n",
    "output_folder = \"output_notebooks\"\n",
    "os.makedirs(output_folder, exist_ok=True)\n"
   ]
  },
  {
   "cell_type": "raw",
   "metadata": {},
   "source": [
    "Ejecutar los notebooks en secuencia"
   ]
  },
  {
   "cell_type": "code",
   "execution_count": 22,
   "metadata": {},
   "outputs": [
    {
     "name": "stdout",
     "output_type": "stream",
     "text": [
      "Notebook 'process_etl.ipynb' ejecutado y guardado en 'output_notebooks\\output_process_etl.ipynb'.\n",
      "Notebook 'DimEstado.ipynb' ejecutado y guardado en 'output_notebooks\\output_DimEstado.ipynb'.\n",
      "Notebook 'DimTipoServicio.ipynb' ejecutado y guardado en 'output_notebooks\\output_DimTipoServicio.ipynb'.\n",
      "Notebook 'DimFecha.ipynb' ejecutado y guardado en 'output_notebooks\\output_DimFecha.ipynb'.\n",
      "Notebook 'DimMensajeros.ipynb' ejecutado y guardado en 'output_notebooks\\output_DimMensajeros.ipynb'.\n",
      "Notebook 'DimTipoServicio.ipynb' ejecutado y guardado en 'output_notebooks\\output_DimTipoServicio.ipynb'.\n",
      "Notebook 'DimOrigenServicio.ipynb' ejecutado y guardado en 'output_notebooks\\output_DimOrigenServicio.ipynb'.\n",
      "Error ejecutando el notebook 'DimDestinoServicio.ipynb': An error occurred while executing the following cell:\n",
      "------------------\n",
      "# Obtener los 'id_origen' existentes en la base de datos ETL para evitar duplicados\n",
      "existing_ids_query = \"SELECT id_destino FROM destino_servicio\"\n",
      "existing_ids = pd.read_sql(existing_ids_query, engine_etl)\n",
      "\n",
      "# Filtrar los registros de 'df_origenservicio' que ya existen en la base de datos ETL\n",
      "df_destinoservicio = df_destinoservicio[~df_destinoservicio['id_origen'].isin(existing_ids['id_destino'])]\n",
      "\n",
      "# Cargar los datos transformados en la base de datos ETL\n",
      "df_destinoservicio.to_sql('destino_servicio', con=engine_etl, if_exists=\"append\", index=False)\n",
      "------------------\n",
      "\n",
      "\n",
      "\u001b[1;31m---------------------------------------------------------------------------\u001b[0m\n",
      "\u001b[1;31mKeyError\u001b[0m                                  Traceback (most recent call last)\n",
      "File \u001b[1;32mc:\\Users\\Usuario\\Desktop\\reps\\Rapido-Furioso\\.venv\\Lib\\site-packages\\pandas\\core\\indexes\\base.py:3805\u001b[0m, in \u001b[0;36mIndex.get_loc\u001b[1;34m(self, key)\u001b[0m\n",
      "\u001b[0;32m   3804\u001b[0m \u001b[38;5;28;01mtry\u001b[39;00m:\n",
      "\u001b[1;32m-> 3805\u001b[0m     \u001b[38;5;28;01mreturn\u001b[39;00m \u001b[38;5;28;43mself\u001b[39;49m\u001b[38;5;241;43m.\u001b[39;49m\u001b[43m_engine\u001b[49m\u001b[38;5;241;43m.\u001b[39;49m\u001b[43mget_loc\u001b[49m\u001b[43m(\u001b[49m\u001b[43mcasted_key\u001b[49m\u001b[43m)\u001b[49m\n",
      "\u001b[0;32m   3806\u001b[0m \u001b[38;5;28;01mexcept\u001b[39;00m \u001b[38;5;167;01mKeyError\u001b[39;00m \u001b[38;5;28;01mas\u001b[39;00m err:\n",
      "\n",
      "File \u001b[1;32mindex.pyx:167\u001b[0m, in \u001b[0;36mpandas._libs.index.IndexEngine.get_loc\u001b[1;34m()\u001b[0m\n",
      "\n",
      "File \u001b[1;32mindex.pyx:196\u001b[0m, in \u001b[0;36mpandas._libs.index.IndexEngine.get_loc\u001b[1;34m()\u001b[0m\n",
      "\n",
      "File \u001b[1;32mpandas\\\\_libs\\\\hashtable_class_helper.pxi:7081\u001b[0m, in \u001b[0;36mpandas._libs.hashtable.PyObjectHashTable.get_item\u001b[1;34m()\u001b[0m\n",
      "\n",
      "File \u001b[1;32mpandas\\\\_libs\\\\hashtable_class_helper.pxi:7089\u001b[0m, in \u001b[0;36mpandas._libs.hashtable.PyObjectHashTable.get_item\u001b[1;34m()\u001b[0m\n",
      "\n",
      "\u001b[1;31mKeyError\u001b[0m: 'id_origen'\n",
      "\n",
      "The above exception was the direct cause of the following exception:\n",
      "\n",
      "\u001b[1;31mKeyError\u001b[0m                                  Traceback (most recent call last)\n",
      "Cell \u001b[1;32mIn[6], line 6\u001b[0m\n",
      "\u001b[0;32m      3\u001b[0m existing_ids \u001b[38;5;241m=\u001b[39m pd\u001b[38;5;241m.\u001b[39mread_sql(existing_ids_query, engine_etl)\n",
      "\u001b[0;32m      5\u001b[0m \u001b[38;5;66;03m# Filtrar los registros de 'df_origenservicio' que ya existen en la base de datos ETL\u001b[39;00m\n",
      "\u001b[1;32m----> 6\u001b[0m df_destinoservicio \u001b[38;5;241m=\u001b[39m df_destinoservicio[\u001b[38;5;241m~\u001b[39m\u001b[43mdf_destinoservicio\u001b[49m\u001b[43m[\u001b[49m\u001b[38;5;124;43m'\u001b[39;49m\u001b[38;5;124;43mid_origen\u001b[39;49m\u001b[38;5;124;43m'\u001b[39;49m\u001b[43m]\u001b[49m\u001b[38;5;241m.\u001b[39misin(existing_ids[\u001b[38;5;124m'\u001b[39m\u001b[38;5;124mid_destino\u001b[39m\u001b[38;5;124m'\u001b[39m])]\n",
      "\u001b[0;32m      8\u001b[0m \u001b[38;5;66;03m# Cargar los datos transformados en la base de datos ETL\u001b[39;00m\n",
      "\u001b[0;32m      9\u001b[0m df_destinoservicio\u001b[38;5;241m.\u001b[39mto_sql(\u001b[38;5;124m'\u001b[39m\u001b[38;5;124mdestino_servicio\u001b[39m\u001b[38;5;124m'\u001b[39m, con\u001b[38;5;241m=\u001b[39mengine_etl, if_exists\u001b[38;5;241m=\u001b[39m\u001b[38;5;124m\"\u001b[39m\u001b[38;5;124mappend\u001b[39m\u001b[38;5;124m\"\u001b[39m, index\u001b[38;5;241m=\u001b[39m\u001b[38;5;28;01mFalse\u001b[39;00m)\n",
      "\n",
      "File \u001b[1;32mc:\\Users\\Usuario\\Desktop\\reps\\Rapido-Furioso\\.venv\\Lib\\site-packages\\pandas\\core\\frame.py:4102\u001b[0m, in \u001b[0;36mDataFrame.__getitem__\u001b[1;34m(self, key)\u001b[0m\n",
      "\u001b[0;32m   4100\u001b[0m \u001b[38;5;28;01mif\u001b[39;00m \u001b[38;5;28mself\u001b[39m\u001b[38;5;241m.\u001b[39mcolumns\u001b[38;5;241m.\u001b[39mnlevels \u001b[38;5;241m>\u001b[39m \u001b[38;5;241m1\u001b[39m:\n",
      "\u001b[0;32m   4101\u001b[0m     \u001b[38;5;28;01mreturn\u001b[39;00m \u001b[38;5;28mself\u001b[39m\u001b[38;5;241m.\u001b[39m_getitem_multilevel(key)\n",
      "\u001b[1;32m-> 4102\u001b[0m indexer \u001b[38;5;241m=\u001b[39m \u001b[38;5;28;43mself\u001b[39;49m\u001b[38;5;241;43m.\u001b[39;49m\u001b[43mcolumns\u001b[49m\u001b[38;5;241;43m.\u001b[39;49m\u001b[43mget_loc\u001b[49m\u001b[43m(\u001b[49m\u001b[43mkey\u001b[49m\u001b[43m)\u001b[49m\n",
      "\u001b[0;32m   4103\u001b[0m \u001b[38;5;28;01mif\u001b[39;00m is_integer(indexer):\n",
      "\u001b[0;32m   4104\u001b[0m     indexer \u001b[38;5;241m=\u001b[39m [indexer]\n",
      "\n",
      "File \u001b[1;32mc:\\Users\\Usuario\\Desktop\\reps\\Rapido-Furioso\\.venv\\Lib\\site-packages\\pandas\\core\\indexes\\base.py:3812\u001b[0m, in \u001b[0;36mIndex.get_loc\u001b[1;34m(self, key)\u001b[0m\n",
      "\u001b[0;32m   3807\u001b[0m     \u001b[38;5;28;01mif\u001b[39;00m \u001b[38;5;28misinstance\u001b[39m(casted_key, \u001b[38;5;28mslice\u001b[39m) \u001b[38;5;129;01mor\u001b[39;00m (\n",
      "\u001b[0;32m   3808\u001b[0m         \u001b[38;5;28misinstance\u001b[39m(casted_key, abc\u001b[38;5;241m.\u001b[39mIterable)\n",
      "\u001b[0;32m   3809\u001b[0m         \u001b[38;5;129;01mand\u001b[39;00m \u001b[38;5;28many\u001b[39m(\u001b[38;5;28misinstance\u001b[39m(x, \u001b[38;5;28mslice\u001b[39m) \u001b[38;5;28;01mfor\u001b[39;00m x \u001b[38;5;129;01min\u001b[39;00m casted_key)\n",
      "\u001b[0;32m   3810\u001b[0m     ):\n",
      "\u001b[0;32m   3811\u001b[0m         \u001b[38;5;28;01mraise\u001b[39;00m InvalidIndexError(key)\n",
      "\u001b[1;32m-> 3812\u001b[0m     \u001b[38;5;28;01mraise\u001b[39;00m \u001b[38;5;167;01mKeyError\u001b[39;00m(key) \u001b[38;5;28;01mfrom\u001b[39;00m \u001b[38;5;21;01merr\u001b[39;00m\n",
      "\u001b[0;32m   3813\u001b[0m \u001b[38;5;28;01mexcept\u001b[39;00m \u001b[38;5;167;01mTypeError\u001b[39;00m:\n",
      "\u001b[0;32m   3814\u001b[0m     \u001b[38;5;66;03m# If we have a listlike key, _check_indexing_error will raise\u001b[39;00m\n",
      "\u001b[0;32m   3815\u001b[0m     \u001b[38;5;66;03m#  InvalidIndexError. Otherwise we fall through and re-raise\u001b[39;00m\n",
      "\u001b[0;32m   3816\u001b[0m     \u001b[38;5;66;03m#  the TypeError.\u001b[39;00m\n",
      "\u001b[0;32m   3817\u001b[0m     \u001b[38;5;28mself\u001b[39m\u001b[38;5;241m.\u001b[39m_check_indexing_error(key)\n",
      "\n",
      "\u001b[1;31mKeyError\u001b[0m: 'id_origen'\n",
      "\n",
      "Notebook 'DimEstado.ipynb' ejecutado y guardado en 'output_notebooks\\output_DimEstado.ipynb'.\n"
     ]
    }
   ],
   "source": [
    "for notebook in notebooks:\n",
    "    notebook_name = os.path.basename(notebook)\n",
    "    output_path = os.path.join(output_folder, f\"output_{notebook_name}\")\n",
    "    execute_notebook(notebook, output_path)\n"
   ]
  },
  {
   "cell_type": "code",
   "execution_count": null,
   "metadata": {},
   "outputs": [],
   "source": []
  }
 ],
 "metadata": {
  "kernelspec": {
   "display_name": ".venv",
   "language": "python",
   "name": "python3"
  },
  "language_info": {
   "codemirror_mode": {
    "name": "ipython",
    "version": 3
   },
   "file_extension": ".py",
   "mimetype": "text/x-python",
   "name": "python",
   "nbconvert_exporter": "python",
   "pygments_lexer": "ipython3",
   "version": "3.12.7"
  }
 },
 "nbformat": 4,
 "nbformat_minor": 2
}
