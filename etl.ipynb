{
 "cells": [
  {
   "cell_type": "raw",
   "metadata": {},
   "source": [
    "ETL RAPIDOS Y FURIOSOS "
   ]
  },
  {
   "cell_type": "raw",
   "metadata": {},
   "source": [
    "Importaciones y configuración"
   ]
  },
  {
   "cell_type": "code",
   "execution_count": 1,
   "metadata": {},
   "outputs": [
    {
     "name": "stdout",
     "output_type": "stream",
     "text": [
      "Requirement already satisfied: nbclient in /Library/Frameworks/Python.framework/Versions/3.12/lib/python3.12/site-packages (0.10.0)\n",
      "Requirement already satisfied: jupyter-client>=6.1.12 in /Library/Frameworks/Python.framework/Versions/3.12/lib/python3.12/site-packages (from nbclient) (8.6.3)\n",
      "Requirement already satisfied: jupyter-core!=5.0.*,>=4.12 in /Library/Frameworks/Python.framework/Versions/3.12/lib/python3.12/site-packages (from nbclient) (5.7.2)\n",
      "Requirement already satisfied: nbformat>=5.1 in /Library/Frameworks/Python.framework/Versions/3.12/lib/python3.12/site-packages (from nbclient) (5.10.4)\n",
      "Requirement already satisfied: traitlets>=5.4 in /Library/Frameworks/Python.framework/Versions/3.12/lib/python3.12/site-packages (from nbclient) (5.14.3)\n",
      "Requirement already satisfied: python-dateutil>=2.8.2 in /Library/Frameworks/Python.framework/Versions/3.12/lib/python3.12/site-packages (from jupyter-client>=6.1.12->nbclient) (2.9.0.post0)\n",
      "Requirement already satisfied: pyzmq>=23.0 in /Library/Frameworks/Python.framework/Versions/3.12/lib/python3.12/site-packages (from jupyter-client>=6.1.12->nbclient) (26.2.0)\n",
      "Requirement already satisfied: tornado>=6.2 in /Library/Frameworks/Python.framework/Versions/3.12/lib/python3.12/site-packages (from jupyter-client>=6.1.12->nbclient) (6.4.1)\n",
      "Requirement already satisfied: platformdirs>=2.5 in /Library/Frameworks/Python.framework/Versions/3.12/lib/python3.12/site-packages (from jupyter-core!=5.0.*,>=4.12->nbclient) (4.3.6)\n",
      "Requirement already satisfied: fastjsonschema>=2.15 in /Library/Frameworks/Python.framework/Versions/3.12/lib/python3.12/site-packages (from nbformat>=5.1->nbclient) (2.20.0)\n",
      "Requirement already satisfied: jsonschema>=2.6 in /Library/Frameworks/Python.framework/Versions/3.12/lib/python3.12/site-packages (from nbformat>=5.1->nbclient) (4.23.0)\n",
      "Requirement already satisfied: attrs>=22.2.0 in /Library/Frameworks/Python.framework/Versions/3.12/lib/python3.12/site-packages (from jsonschema>=2.6->nbformat>=5.1->nbclient) (24.2.0)\n",
      "Requirement already satisfied: jsonschema-specifications>=2023.03.6 in /Library/Frameworks/Python.framework/Versions/3.12/lib/python3.12/site-packages (from jsonschema>=2.6->nbformat>=5.1->nbclient) (2024.10.1)\n",
      "Requirement already satisfied: referencing>=0.28.4 in /Library/Frameworks/Python.framework/Versions/3.12/lib/python3.12/site-packages (from jsonschema>=2.6->nbformat>=5.1->nbclient) (0.35.1)\n",
      "Requirement already satisfied: rpds-py>=0.7.1 in /Library/Frameworks/Python.framework/Versions/3.12/lib/python3.12/site-packages (from jsonschema>=2.6->nbformat>=5.1->nbclient) (0.21.0)\n",
      "Requirement already satisfied: six>=1.5 in /Library/Frameworks/Python.framework/Versions/3.12/lib/python3.12/site-packages (from python-dateutil>=2.8.2->jupyter-client>=6.1.12->nbclient) (1.16.0)\n"
     ]
    }
   ],
   "source": [
    "#INSTALAR LIBRERIA\n",
    "#!python -m pip install nbclient\n",
    "!python3 -m pip install nbclient"
   ]
  },
  {
   "cell_type": "code",
   "execution_count": 2,
   "metadata": {},
   "outputs": [],
   "source": [
    "#IMPORTAR LIBRERIAS\n",
    "from nbclient import NotebookClient\n",
    "from nbformat import read, write\n",
    "import os\n"
   ]
  },
  {
   "cell_type": "raw",
   "metadata": {},
   "source": [
    "Definir la función para ejecutar un notebook"
   ]
  },
  {
   "cell_type": "code",
   "execution_count": 3,
   "metadata": {},
   "outputs": [],
   "source": [
    "def execute_notebook(notebook_path, output_path):\n",
    "    \"\"\"Ejecuta un notebook y guarda el resultado en la ubicación especificada.\"\"\"\n",
    "    try:\n",
    "        # Cargar el notebook\n",
    "        with open(notebook_path) as f:\n",
    "            nb = read(f, as_version=4)\n",
    "        \n",
    "        # Crear cliente y ejecutar el notebook\n",
    "        client = NotebookClient(nb)\n",
    "        client.execute()\n",
    "        \n",
    "        # Guardar el notebook ejecutado en la salida especificada\n",
    "        with open(output_path, \"w\") as f:\n",
    "            write(nb, f)\n",
    "        print(f\"Notebook '{notebook_path}' ejecutado y guardado en '{output_path}'.\")\n",
    "    \n",
    "    except Exception as e:\n",
    "        print(f\"Error ejecutando el notebook '{notebook_path}': {e}\")\n"
   ]
  },
  {
   "cell_type": "raw",
   "metadata": {},
   "source": [
    "Definir la lista de notebooks a ejecutar"
   ]
  },
  {
   "cell_type": "code",
   "execution_count": 4,
   "metadata": {},
   "outputs": [],
   "source": [
    "# Lista de notebooks a ejecutar\n",
    "notebooks = [\n",
    "    \"process_etl.ipynb\", \n",
    "    \"DimEstado.ipynb\", \n",
    "    \"DimTipoServicio.ipynb\", \n",
    "    \n",
    "    \"DimFecha2.ipynb\", \n",
    "    \"DimMensajeros.ipynb\",\n",
    "    \"DimOrigenServicio.ipynb\", \n",
    "    \"DimDestinoServicio.ipynb\", \n",
    "    \n",
    "]\n",
    "# \"DimFecha.ipynb\", \"Hechos.ipynb\"\n",
    "# Crear una carpeta de salida para almacenar los notebooks ejecutados\n",
    "output_folder = \"output_notebooks\"\n",
    "os.makedirs(output_folder, exist_ok=True)\n"
   ]
  },
  {
   "cell_type": "raw",
   "metadata": {},
   "source": [
    "Ejecutar los notebooks en secuencia"
   ]
  },
  {
   "cell_type": "code",
   "execution_count": 5,
   "metadata": {},
   "outputs": [
    {
     "name": "stdout",
     "output_type": "stream",
     "text": [
      "Notebook 'process_etl.ipynb' ejecutado y guardado en 'output_notebooks/output_process_etl.ipynb'.\n",
      "Notebook 'DimEstado.ipynb' ejecutado y guardado en 'output_notebooks/output_DimEstado.ipynb'.\n",
      "Notebook 'DimTipoServicio.ipynb' ejecutado y guardado en 'output_notebooks/output_DimTipoServicio.ipynb'.\n",
      "Notebook 'DimFecha2.ipynb' ejecutado y guardado en 'output_notebooks/output_DimFecha2.ipynb'.\n",
      "Notebook 'DimMensajeros.ipynb' ejecutado y guardado en 'output_notebooks/output_DimMensajeros.ipynb'.\n",
      "Notebook 'DimOrigenServicio.ipynb' ejecutado y guardado en 'output_notebooks/output_DimOrigenServicio.ipynb'.\n",
      "Notebook 'DimDestinoServicio.ipynb' ejecutado y guardado en 'output_notebooks/output_DimDestinoServicio.ipynb'.\n"
     ]
    }
   ],
   "source": [
    "for notebook in notebooks:\n",
    "    notebook_name = os.path.basename(notebook)\n",
    "    output_path = os.path.join(output_folder, f\"output_{notebook_name}\")\n",
    "    execute_notebook(notebook, output_path)\n"
   ]
  },
  {
   "cell_type": "code",
   "execution_count": null,
   "metadata": {},
   "outputs": [],
   "source": []
  },
  {
   "cell_type": "code",
   "execution_count": null,
   "metadata": {},
   "outputs": [],
   "source": []
  }
 ],
 "metadata": {
  "kernelspec": {
   "display_name": "Python 3",
   "language": "python",
   "name": "python3"
  },
  "language_info": {
   "codemirror_mode": {
    "name": "ipython",
    "version": 3
   },
   "file_extension": ".py",
   "mimetype": "text/x-python",
   "name": "python",
   "nbconvert_exporter": "python",
   "pygments_lexer": "ipython3",
   "version": "3.12.3"
  }
 },
 "nbformat": 4,
 "nbformat_minor": 2
}
