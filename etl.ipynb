{
 "cells": [
  {
   "cell_type": "raw",
   "metadata": {},
   "source": [
    "ETL RAPIDOS Y FURIOSOS "
   ]
  },
  {
   "cell_type": "raw",
   "metadata": {},
   "source": [
    "Importaciones y configuración"
   ]
  },
  {
   "cell_type": "code",
   "execution_count": null,
   "metadata": {},
   "outputs": [],
   "source": [
    "#INSTALAR LIBRERIA\n",
    "#!python -m pip install nbclient\n",
    "!python -m pip install nbclient"
   ]
  },
  {
   "cell_type": "code",
   "execution_count": 9,
   "metadata": {},
   "outputs": [],
   "source": [
    "#IMPORTAR LIBRERIAS\n",
    "from nbclient import NotebookClient\n",
    "from nbformat import read, write\n",
    "import os\n"
   ]
  },
  {
   "cell_type": "raw",
   "metadata": {},
   "source": [
    "Definir la función para ejecutar un notebook"
   ]
  },
  {
   "cell_type": "code",
   "execution_count": 10,
   "metadata": {},
   "outputs": [],
   "source": [
    "def execute_notebook(notebook_path, output_path):\n",
    "    \"\"\"Ejecuta un notebook y guarda el resultado en la ubicación especificada.\"\"\"\n",
    "    try:\n",
    "        # Cargar el notebook\n",
    "        with open(notebook_path) as f:\n",
    "            nb = read(f, as_version=4)\n",
    "        \n",
    "        # Crear cliente y ejecutar el notebook\n",
    "        client = NotebookClient(nb)\n",
    "        client.execute()\n",
    "        \n",
    "        # Guardar el notebook ejecutado en la salida especificada\n",
    "        with open(output_path, \"w\") as f:\n",
    "            write(nb, f)\n",
    "        print(f\"Notebook '{notebook_path}' ejecutado y guardado en '{output_path}'.\")\n",
    "    \n",
    "    except Exception as e:\n",
    "        print(f\"Error ejecutando el notebook '{notebook_path}': {e}\")\n"
   ]
  },
  {
   "cell_type": "raw",
   "metadata": {},
   "source": [
    "Definir la lista de notebooks a ejecutar"
   ]
  },
  {
   "cell_type": "code",
   "execution_count": null,
   "metadata": {},
   "outputs": [],
   "source": [
    "# Lista de notebooks a ejecutar\n",
    "notebooks = [\n",
    "    \"process_etl.ipynb\", \n",
    "    \"DimEstado.ipynb\", \n",
    "    \"DimTipoServicio.ipynb\", \n",
    "    \"DimFecha2.ipynb\", \n",
    "    \"DimMensajeros.ipynb\",\n",
    "    \"DimOrigenServicio.ipynb\", \n",
    "    \"DimDestinoServicio.ipynb\", \n",
    "    \"Hechos.ipynb\"\n",
    "]\n",
    "\n",
    "# Crear una carpeta de salida para almacenar los notebooks ejecutados\n",
    "output_folder = \"output_notebooks\"\n",
    "os.makedirs(output_folder, exist_ok=True)\n"
   ]
  },
  {
   "cell_type": "raw",
   "metadata": {},
   "source": [
    "Ejecutar los notebooks en secuencia"
   ]
  },
  {
   "cell_type": "code",
   "execution_count": 12,
   "metadata": {},
   "outputs": [
    {
     "name": "stdout",
     "output_type": "stream",
     "text": [
      "Notebook 'process_etl.ipynb' ejecutado y guardado en 'output_notebooks\\output_process_etl.ipynb'.\n",
      "Notebook 'DimEstado.ipynb' ejecutado y guardado en 'output_notebooks\\output_DimEstado.ipynb'.\n",
      "Notebook 'DimTipoServicio.ipynb' ejecutado y guardado en 'output_notebooks\\output_DimTipoServicio.ipynb'.\n",
      "Error ejecutando el notebook 'DimFecha2.ipynb': An error occurred while executing the following cell:\n",
      "------------------\n",
      "from connection_script import get_engine\n",
      "import pandas as pd\n",
      "import numpy as np\n",
      "from sqlalchemy import text, inspect, MetaData, Table, Column, Integer, String, Boolean, Date\n",
      "from datetime import datetime, timedelta\n",
      "from pandas.errors import OutOfBoundsDatetime\n",
      "\n",
      "# Obtener las conexiones a las bases de datos\n",
      "engine_bodega = get_engine('bodega_datos')\n",
      "engine_etl = get_engine('etl_rapidos_furiosos')\n",
      "\n",
      "# FunciÃ³n para crear y llenar la tabla 'fechas' si no existe o si estÃ¡ vacÃ­a\n",
      "def crear_y_llenar_tabla_fechas(engine):\n",
      "    # Inspector para verificar si la tabla ya existe\n",
      "    inspector = inspect(engine)\n",
      "    if not inspector.has_table(\"fechas\"):\n",
      "        metadata = MetaData()\n",
      "        \n",
      "        # Definir estructura de la tabla fechas\n",
      "        fechas = Table(\n",
      "            \"fechas\", metadata,\n",
      "            Column(\"id_fecha\", Integer, primary_key=True),\n",
      "            Column(\"fecha\", Date, nullable=False),\n",
      "            Column(\"dia\", Integer, nullable=False),\n",
      "            Column(\"mes\", Integer, nullable=False),\n",
      "            Column(\"aÃ±o\", Integer, nullable=False),\n",
      "            Column(\"nombre_dia\", String(10), nullable=False),\n",
      "            Column(\"nombre_mes\", String(15), nullable=False),\n",
      "            Column(\"es_fin_de_semana\", Boolean, nullable=False)\n",
      "        )\n",
      "        \n",
      "        # Crear la tabla en la base de datos\n",
      "        metadata.create_all(engine)\n",
      "        print(\"Tabla 'fechas' creada exitosamente.\")\n",
      "        \n",
      "    # Verificar si la tabla 'fechas' estÃ¡ vacÃ­a\n",
      "    with engine.connect() as conn:\n",
      "        result = conn.execute(text(\"SELECT COUNT(*) FROM fechas\"))\n",
      "        count = result.scalar()\n",
      "        \n",
      "    # Llenar la tabla solo si estÃ¡ vacÃ­a\n",
      "    if count == 0:\n",
      "        print(\"Llenando la tabla 'fechas' con fechas para los prÃ³ximos 3 aÃ±os.\")\n",
      "        \n",
      "        # Rellenar la tabla con fechas desde 2023 hasta tres aÃ±os en adelante\n",
      "        fechas = []\n",
      "        start_date = datetime(2023, 1, 1)\n",
      "        end_date = datetime(2026, 1, 1)\n",
      "        current_date = start_date\n",
      "        id_fecha = 1\n",
      "        \n",
      "        while current_date < end_date:\n",
      "            dia = current_date.day\n",
      "            mes = current_date.month\n",
      "            aÃ±o = current_date.year\n",
      "            nombre_dia = current_date.strftime(\"%A\")  # Ej. \"Monday\"\n",
      "            nombre_mes = current_date.strftime(\"%B\")  # Ej. \"January\"\n",
      "            es_fin_de_semana = current_date.weekday() >= 5  # SÃ¡bado(5) o Domingo(6)\n",
      "            \n",
      "            fechas.append({\n",
      "                \"id_fecha\": id_fecha,\n",
      "                \"fecha\": current_date,\n",
      "                \"dia\": dia,\n",
      "                \"mes\": mes,\n",
      "                \"aÃ±o\": aÃ±o,\n",
      "                \"nombre_dia\": nombre_dia,\n",
      "                \"nombre_mes\": nombre_mes,\n",
      "                \"es_fin_de_semana\": es_fin_de_semana\n",
      "            })\n",
      "            \n",
      "            id_fecha += 1\n",
      "            current_date += timedelta(days=1)\n",
      "        \n",
      "        # Convertir a DataFrame y cargar en la tabla 'fechas'\n",
      "        df_fechas = pd.DataFrame(fechas)\n",
      "        with engine.connect() as conn:\n",
      "            df_fechas.to_sql('fechas', conn, if_exists='append', index=False)\n",
      "        \n",
      "        print(\"Tabla 'fechas' llenada exitosamente con fechas para los prÃ³ximos 3 aÃ±os.\")\n",
      "    else:\n",
      "        print(\"La tabla 'fechas' ya tiene datos y no se insertaron nuevas filas.\")\n",
      "\n",
      "# Ejecutar el proceso de creaciÃ³n y carga de 'fechas'\n",
      "crear_y_llenar_tabla_fechas(engine_etl)\n",
      "\n",
      "------------------\n",
      "\n",
      "\n",
      "\u001b[1;36m  Cell \u001b[1;32mIn[1], line 55\u001b[1;36m\u001b[0m\n",
      "\u001b[1;33m    aÃ±o = current_date.year\u001b[0m\n",
      "\u001b[1;37m      ^\u001b[0m\n",
      "\u001b[1;31mSyntaxError\u001b[0m\u001b[1;31m:\u001b[0m invalid character '±' (U+00B1)\n",
      "\n",
      "\n",
      "Notebook 'DimMensajeros.ipynb' ejecutado y guardado en 'output_notebooks\\output_DimMensajeros.ipynb'.\n",
      "Notebook 'DimOrigenServicio.ipynb' ejecutado y guardado en 'output_notebooks\\output_DimOrigenServicio.ipynb'.\n",
      "Notebook 'DimDestinoServicio.ipynb' ejecutado y guardado en 'output_notebooks\\output_DimDestinoServicio.ipynb'.\n",
      "Notebook 'Hechos.ipynb' ejecutado y guardado en 'output_notebooks\\output_Hechos.ipynb'.\n"
     ]
    }
   ],
   "source": [
    "for notebook in notebooks:\n",
    "    notebook_name = os.path.basename(notebook)\n",
    "    output_path = os.path.join(output_folder, f\"output_{notebook_name}\")\n",
    "    execute_notebook(notebook, output_path)\n"
   ]
  },
  {
   "cell_type": "code",
   "execution_count": null,
   "metadata": {},
   "outputs": [],
   "source": []
  },
  {
   "cell_type": "code",
   "execution_count": null,
   "metadata": {},
   "outputs": [],
   "source": []
  }
 ],
 "metadata": {
  "kernelspec": {
   "display_name": "Python 3",
   "language": "python",
   "name": "python3"
  },
  "language_info": {
   "codemirror_mode": {
    "name": "ipython",
    "version": 3
   },
   "file_extension": ".py",
   "mimetype": "text/x-python",
   "name": "python",
   "nbconvert_exporter": "python",
   "pygments_lexer": "ipython3",
   "version": "3.12.3"
  }
 },
 "nbformat": 4,
 "nbformat_minor": 2
}
